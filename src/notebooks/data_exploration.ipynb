{
 "cells": [
  {
   "cell_type": "code",
   "execution_count": 28,
   "id": "ca5ca089",
   "metadata": {},
   "outputs": [],
   "source": [
    "import json\n",
    "from datasets import load_dataset, load_from_disk\n",
    "from datasets import get_dataset_config_names\n",
    "import matplotlib.pyplot as plt"
   ]
  },
  {
   "cell_type": "code",
   "execution_count": 2,
   "id": "cb656b39",
   "metadata": {},
   "outputs": [
    {
     "name": "stdout",
     "output_type": "stream",
     "text": [
      "['default']\n"
     ]
    }
   ],
   "source": [
    "print(get_dataset_config_names(\"openfoodfacts/product-database\"))"
   ]
  },
  {
   "cell_type": "code",
   "execution_count": 21,
   "id": "682c04be",
   "metadata": {},
   "outputs": [
    {
     "name": "stderr",
     "output_type": "stream",
     "text": [
      "Generating food split: 4039978 examples [00:19, 202332.05 examples/s]\n",
      "Generating beauty split: 57325 examples [00:00, 82278.85 examples/s]\n"
     ]
    }
   ],
   "source": [
    "ds = load_dataset(\"openfoodfacts/product-database\", split=\"food\")"
   ]
  },
  {
   "cell_type": "code",
   "execution_count": null,
   "id": "fe63710b",
   "metadata": {},
   "outputs": [
    {
     "name": "stderr",
     "output_type": "stream",
     "text": [
      "Saving the dataset (54/54 shards): 100%|██████████| 4039978/4039978 [02:21<00:00, 28573.84 examples/s]\n"
     ]
    }
   ],
   "source": [
    "ds.save_to_disk(\"../../data/raw/openfoodfacts_food_dataset\")"
   ]
  },
  {
   "cell_type": "code",
   "execution_count": 55,
   "id": "76e3e7be",
   "metadata": {},
   "outputs": [],
   "source": [
    "ds = load_from_disk(\"../../data/raw/openfoodfacts_food_dataset\")"
   ]
  },
  {
   "cell_type": "code",
   "execution_count": 56,
   "id": "7efc1f45",
   "metadata": {},
   "outputs": [
    {
     "name": "stdout",
     "output_type": "stream",
     "text": [
      "Dataset({\n",
      "    features: ['additives_n', 'additives_tags', 'allergens_tags', 'brands_tags', 'brands', 'categories', 'categories_tags', 'categories_properties', 'checkers_tags', 'ciqual_food_name_tags', 'cities_tags', 'code', 'compared_to_category', 'complete', 'completeness', 'correctors_tags', 'countries_tags', 'created_t', 'creator', 'data_quality_errors_tags', 'data_quality_info_tags', 'data_quality_warnings_tags', 'data_sources_tags', 'ecoscore_data', 'ecoscore_grade', 'ecoscore_score', 'ecoscore_tags', 'editors', 'emb_codes_tags', 'emb_codes', 'entry_dates_tags', 'food_groups_tags', 'generic_name', 'images', 'informers_tags', 'ingredients_analysis_tags', 'ingredients_from_palm_oil_n', 'ingredients_n', 'ingredients_original_tags', 'ingredients_percent_analysis', 'ingredients_tags', 'ingredients_text', 'ingredients_with_specified_percent_n', 'ingredients_with_unspecified_percent_n', 'ingredients_without_ciqual_codes_n', 'ingredients_without_ciqual_codes', 'ingredients', 'known_ingredients_n', 'labels_tags', 'labels', 'lang', 'languages_tags', 'last_edit_dates_tags', 'last_editor', 'last_image_t', 'last_modified_by', 'last_modified_t', 'last_updated_t', 'link', 'main_countries_tags', 'manufacturing_places_tags', 'manufacturing_places', 'max_imgid', 'minerals_tags', 'misc_tags', 'new_additives_n', 'no_nutrition_data', 'nova_group', 'nova_groups_tags', 'nova_groups', 'nucleotides_tags', 'nutrient_levels_tags', 'nutriments', 'nutriscore_grade', 'nutriscore_score', 'nutrition_data_per', 'obsolete', 'origins_tags', 'origins', 'owner_fields', 'owner', 'packagings_complete', 'packaging_recycling_tags', 'packaging_shapes_tags', 'packaging_tags', 'packaging_text', 'packaging', 'packagings', 'photographers', 'popularity_key', 'popularity_tags', 'product_name', 'product_quantity_unit', 'product_quantity', 'purchase_places_tags', 'quantity', 'rev', 'scans_n', 'serving_quantity', 'serving_size', 'states_tags', 'stores_tags', 'stores', 'traces_tags', 'unique_scans_n', 'unknown_ingredients_n', 'unknown_nutrients_tags', 'vitamins_tags', 'with_non_nutritive_sweeteners', 'with_sweeteners'],\n",
      "    num_rows: 4039978\n",
      "})\n"
     ]
    }
   ],
   "source": [
    "print(ds)"
   ]
  },
  {
   "cell_type": "code",
   "execution_count": 26,
   "id": "ae653f27",
   "metadata": {},
   "outputs": [
    {
     "name": "stdout",
     "output_type": "stream",
     "text": [
      "additives_n: Value('int32')\n",
      "additives_tags: List(Value('string'))\n",
      "allergens_tags: List(Value('string'))\n",
      "brands_tags: List(Value('string'))\n",
      "brands: Value('string')\n",
      "categories: Value('string')\n",
      "categories_tags: List(Value('string'))\n",
      "categories_properties: {'ciqual_food_code': Value('int32'), 'agribalyse_food_code': Value('int32'), 'agribalyse_proxy_food_code': Value('int32')}\n",
      "checkers_tags: List(Value('string'))\n",
      "ciqual_food_name_tags: List(Value('string'))\n",
      "cities_tags: List(Value('string'))\n",
      "code: Value('string')\n",
      "compared_to_category: Value('string')\n",
      "complete: Value('int32')\n",
      "completeness: Value('float32')\n",
      "correctors_tags: List(Value('string'))\n",
      "countries_tags: List(Value('string'))\n",
      "created_t: Value('int64')\n",
      "creator: Value('string')\n",
      "data_quality_errors_tags: List(Value('string'))\n",
      "data_quality_info_tags: List(Value('string'))\n",
      "data_quality_warnings_tags: List(Value('string'))\n",
      "data_sources_tags: List(Value('string'))\n",
      "ecoscore_data: Value('string')\n",
      "ecoscore_grade: Value('string')\n",
      "ecoscore_score: Value('int32')\n",
      "ecoscore_tags: List(Value('string'))\n",
      "editors: List(Value('string'))\n",
      "emb_codes_tags: List(Value('string'))\n",
      "emb_codes: Value('string')\n",
      "entry_dates_tags: List(Value('string'))\n",
      "food_groups_tags: List(Value('string'))\n",
      "generic_name: List({'lang': Value('string'), 'text': Value('string')})\n",
      "images: List({'key': Value('string'), 'imgid': Value('int32'), 'rev': Value('int32'), 'sizes': {'100': {'h': Value('int32'), 'w': Value('int32')}, '200': {'h': Value('int32'), 'w': Value('int32')}, '400': {'h': Value('int32'), 'w': Value('int32')}, 'full': {'h': Value('int32'), 'w': Value('int32')}}, 'uploaded_t': Value('int64'), 'uploader': Value('string')})\n",
      "informers_tags: List(Value('string'))\n",
      "ingredients_analysis_tags: List(Value('string'))\n",
      "ingredients_from_palm_oil_n: Value('int32')\n",
      "ingredients_n: Value('int32')\n",
      "ingredients_original_tags: List(Value('string'))\n",
      "ingredients_percent_analysis: Value('int32')\n",
      "ingredients_tags: List(Value('string'))\n",
      "ingredients_text: List({'lang': Value('string'), 'text': Value('string')})\n",
      "ingredients_with_specified_percent_n: Value('int32')\n",
      "ingredients_with_unspecified_percent_n: Value('int32')\n",
      "ingredients_without_ciqual_codes_n: Value('int32')\n",
      "ingredients_without_ciqual_codes: List(Value('string'))\n",
      "ingredients: Value('string')\n",
      "known_ingredients_n: Value('int32')\n",
      "labels_tags: List(Value('string'))\n",
      "labels: Value('string')\n",
      "lang: Value('string')\n",
      "languages_tags: List(Value('string'))\n",
      "last_edit_dates_tags: List(Value('string'))\n",
      "last_editor: Value('string')\n",
      "last_image_t: Value('int64')\n",
      "last_modified_by: Value('string')\n",
      "last_modified_t: Value('int64')\n",
      "last_updated_t: Value('int64')\n",
      "link: Value('string')\n",
      "main_countries_tags: List(Value('string'))\n",
      "manufacturing_places_tags: List(Value('string'))\n",
      "manufacturing_places: Value('string')\n",
      "max_imgid: Value('int32')\n",
      "minerals_tags: List(Value('string'))\n",
      "misc_tags: List(Value('string'))\n",
      "new_additives_n: Value('int32')\n",
      "no_nutrition_data: Value('bool')\n",
      "nova_group: Value('int32')\n",
      "nova_groups_tags: List(Value('string'))\n",
      "nova_groups: Value('string')\n",
      "nucleotides_tags: List(Value('string'))\n",
      "nutrient_levels_tags: List(Value('string'))\n",
      "nutriments: List({'name': Value('string'), 'value': Value('float32'), '100g': Value('float32'), 'serving': Value('float32'), 'unit': Value('string'), 'prepared_value': Value('float32'), 'prepared_100g': Value('float32'), 'prepared_serving': Value('float32'), 'prepared_unit': Value('string')})\n",
      "nutriscore_grade: Value('string')\n",
      "nutriscore_score: Value('int32')\n",
      "nutrition_data_per: Value('string')\n",
      "obsolete: Value('bool')\n",
      "origins_tags: List(Value('string'))\n",
      "origins: Value('string')\n",
      "owner_fields: List({'field_name': Value('string'), 'timestamp': Value('int64')})\n",
      "owner: Value('string')\n",
      "packagings_complete: Value('bool')\n",
      "packaging_recycling_tags: List(Value('string'))\n",
      "packaging_shapes_tags: List(Value('string'))\n",
      "packaging_tags: List(Value('string'))\n",
      "packaging_text: List({'lang': Value('string'), 'text': Value('string')})\n",
      "packaging: Value('string')\n",
      "packagings: List({'material': Value('string'), 'number_of_units': Value('int64'), 'quantity_per_unit': Value('string'), 'quantity_per_unit_unit': Value('string'), 'quantity_per_unit_value': Value('string'), 'recycling': Value('string'), 'shape': Value('string'), 'weight_measured': Value('float32')})\n",
      "photographers: List(Value('string'))\n",
      "popularity_key: Value('int64')\n",
      "popularity_tags: List(Value('string'))\n",
      "product_name: List({'lang': Value('string'), 'text': Value('string')})\n",
      "product_quantity_unit: Value('string')\n",
      "product_quantity: Value('string')\n",
      "purchase_places_tags: List(Value('string'))\n",
      "quantity: Value('string')\n",
      "rev: Value('int32')\n",
      "scans_n: Value('int32')\n",
      "serving_quantity: Value('string')\n",
      "serving_size: Value('string')\n",
      "states_tags: List(Value('string'))\n",
      "stores_tags: List(Value('string'))\n",
      "stores: Value('string')\n",
      "traces_tags: List(Value('string'))\n",
      "unique_scans_n: Value('int32')\n",
      "unknown_ingredients_n: Value('int32')\n",
      "unknown_nutrients_tags: List(Value('string'))\n",
      "vitamins_tags: List(Value('string'))\n",
      "with_non_nutritive_sweeteners: Value('int32')\n",
      "with_sweeteners: Value('int32')\n"
     ]
    }
   ],
   "source": [
    "#List all the features in the dataset\n",
    "for feature, dtype in ds.features.items():\n",
    "    print(f\"{feature}: {dtype}\")"
   ]
  },
  {
   "cell_type": "code",
   "execution_count": 34,
   "id": "9c2789d3",
   "metadata": {},
   "outputs": [
    {
     "name": "stdout",
     "output_type": "stream",
     "text": [
      "[{'additives_n': None, 'additives_tags': None, 'allergens_tags': [], 'brands_tags': None, 'brands': None, 'categories': 'Viandes et dérivés, Viandes, Volailles, Dinde et dérivés, Dindes, Escalopes de dinde', 'categories_tags': ['en:meats-and-their-products', 'en:meats', 'en:poultries', 'en:turkey-and-its-products', 'en:turkeys', 'en:turkey-cutlets'], 'categories_properties': {'ciqual_food_code': 36304, 'agribalyse_food_code': 36304, 'agribalyse_proxy_food_code': None}, 'checkers_tags': [], 'ciqual_food_name_tags': ['turkey-escalope-raw'], 'cities_tags': None, 'code': '0000130008136', 'compared_to_category': 'en:turkey-cutlets', 'complete': 0, 'completeness': 0.30000001192092896, 'correctors_tags': [], 'countries_tags': ['en:france'], 'created_t': 1536580715, 'creator': 'date-limite-app', 'data_quality_errors_tags': [], 'data_quality_info_tags': ['en:no-packaging-data', 'en:environmental-score-extended-data-not-computed', 'en:food-groups-1-known', 'en:food-groups-2-known', 'en:food-groups-3-known'], 'data_quality_warnings_tags': ['en:environmental-score-origins-of-ingredients-origins-are-100-percent-unknown', 'en:environmental-score-packaging-packaging-data-missing', 'en:environmental-score-production-system-no-label', 'en:environmental-score-threatened-species-ingredients-missing'], 'data_sources_tags': None, 'ecoscore_data': None, 'ecoscore_grade': None, 'ecoscore_score': None, 'ecoscore_tags': ['e'], 'editors': None, 'emb_codes_tags': None, 'emb_codes': None, 'entry_dates_tags': ['2018-09-10', '2018-09', '2018'], 'food_groups_tags': ['en:fish-meat-eggs', 'en:meat', 'en:poultry'], 'generic_name': [], 'images': [], 'informers_tags': ['date-limite-app', 'sebleouf'], 'ingredients_analysis_tags': None, 'ingredients_from_palm_oil_n': None, 'ingredients_n': None, 'ingredients_original_tags': None, 'ingredients_percent_analysis': None, 'ingredients_tags': None, 'ingredients_text': [], 'ingredients_with_specified_percent_n': None, 'ingredients_with_unspecified_percent_n': None, 'ingredients_without_ciqual_codes_n': None, 'ingredients_without_ciqual_codes': None, 'ingredients': None, 'known_ingredients_n': None, 'labels_tags': None, 'labels': None, 'lang': 'fr', 'languages_tags': ['en:french', 'en:1'], 'last_edit_dates_tags': ['2019-01-04', '2019-01', '2019'], 'last_editor': 'sebleouf', 'last_image_t': None, 'last_modified_by': 'sebleouf', 'last_modified_t': 1546634708, 'last_updated_t': 1743359477, 'link': None, 'main_countries_tags': [], 'manufacturing_places_tags': None, 'manufacturing_places': None, 'max_imgid': None, 'minerals_tags': [], 'misc_tags': ['en:environmental-score-computed', 'en:environmental-score-missing-data-labels', 'en:environmental-score-missing-data-no-packagings', 'en:environmental-score-missing-data-origins', 'en:environmental-score-missing-data-packagings', 'en:environmental-score-missing-data-warning', 'en:nutriscore-missing-nutrition-data', 'en:nutriscore-missing-nutrition-data-energy', 'en:nutriscore-missing-nutrition-data-fat', 'en:nutriscore-missing-nutrition-data-proteins', 'en:nutriscore-missing-nutrition-data-saturated-fat', 'en:nutriscore-missing-nutrition-data-sodium', 'en:nutriscore-missing-nutrition-data-sugars', 'en:nutriscore-not-computed', 'en:nutrition-no-fiber', 'en:nutrition-no-fiber-or-fruits-vegetables-nuts', 'en:nutrition-no-fruits-vegetables-nuts', 'en:nutrition-not-enough-data-to-compute-nutrition-score', 'en:packagings-empty', 'en:packagings-not-complete', 'en:packagings-number-of-components-0'], 'new_additives_n': None, 'no_nutrition_data': False, 'nova_group': None, 'nova_groups_tags': ['unknown'], 'nova_groups': None, 'nucleotides_tags': [], 'nutrient_levels_tags': [], 'nutriments': None, 'nutriscore_grade': 'unknown', 'nutriscore_score': None, 'nutrition_data_per': '100g', 'obsolete': False, 'origins_tags': None, 'origins': None, 'owner_fields': None, 'owner': None, 'packagings_complete': None, 'packaging_recycling_tags': [], 'packaging_shapes_tags': [], 'packaging_tags': None, 'packaging_text': [], 'packaging': None, 'packagings': [], 'photographers': None, 'popularity_key': 0, 'popularity_tags': None, 'product_name': [{'lang': 'main', 'text': 'Escalope de dinde'}, {'lang': 'fr', 'text': 'Escalope de dinde'}], 'product_quantity_unit': 'g', 'product_quantity': '300', 'purchase_places_tags': None, 'quantity': '300 g', 'rev': 2, 'scans_n': None, 'serving_quantity': None, 'serving_size': None, 'states_tags': ['en:to-be-completed', 'en:nutrition-facts-to-be-completed', 'en:ingredients-to-be-completed', 'en:expiration-date-to-be-completed', 'en:packaging-code-to-be-completed', 'en:characteristics-to-be-completed', 'en:origins-to-be-completed', 'en:categories-completed', 'en:brands-to-be-completed', 'en:packaging-to-be-completed', 'en:quantity-completed', 'en:product-name-completed', 'en:photos-to-be-uploaded'], 'stores_tags': None, 'stores': None, 'traces_tags': [], 'unique_scans_n': None, 'unknown_ingredients_n': None, 'unknown_nutrients_tags': [], 'vitamins_tags': [], 'with_non_nutritive_sweeteners': None, 'with_sweeteners': None}, {'additives_n': None, 'additives_tags': None, 'allergens_tags': [], 'brands_tags': None, 'brands': None, 'categories': 'Snacks, Snacks sucrés, Biscuits et gâteaux, Gâteaux, Madeleines', 'categories_tags': ['en:snacks', 'en:sweet-snacks', 'en:biscuits-and-cakes', 'en:cakes', 'en:madeleines'], 'categories_properties': {'ciqual_food_code': 24632, 'agribalyse_food_code': 24632, 'agribalyse_proxy_food_code': None}, 'checkers_tags': [], 'ciqual_food_name_tags': ['madeleine-biscuit-cookie'], 'cities_tags': None, 'code': '0000140323687', 'compared_to_category': 'en:madeleines', 'complete': 0, 'completeness': 0.375, 'correctors_tags': ['openfoodfacts-contributors'], 'countries_tags': ['en:france'], 'created_t': 1535364745, 'creator': 'kiliweb', 'data_quality_errors_tags': [], 'data_quality_info_tags': ['en:no-packaging-data', 'en:environmental-score-extended-data-not-computed', 'en:food-groups-1-known', 'en:food-groups-2-known', 'en:food-groups-3-unknown'], 'data_quality_warnings_tags': ['en:environmental-score-origins-of-ingredients-origins-are-100-percent-unknown', 'en:environmental-score-packaging-packaging-data-missing', 'en:environmental-score-production-system-no-label', 'en:environmental-score-threatened-species-ingredients-missing'], 'data_sources_tags': ['app-yuka', 'apps'], 'ecoscore_data': None, 'ecoscore_grade': None, 'ecoscore_score': None, 'ecoscore_tags': ['b'], 'editors': None, 'emb_codes_tags': None, 'emb_codes': None, 'entry_dates_tags': ['2018-08-27', '2018-08', '2018'], 'food_groups_tags': ['en:sugary-snacks', 'en:biscuits-and-cakes'], 'generic_name': [], 'images': [{'key': '2', 'imgid': None, 'rev': None, 'sizes': {'100': {'h': 57, 'w': 100}, '200': None, '400': {'h': 229, 'w': 400}, 'full': {'h': 1200, 'w': 2095}}, 'uploaded_t': 1535364792, 'uploader': 'kiliweb'}, {'key': 'ingredients_fr', 'imgid': 2, 'rev': 7, 'sizes': {'100': {'h': 57, 'w': 100}, '200': {'h': 115, 'w': 200}, '400': {'h': 229, 'w': 400}, 'full': {'h': 1200, 'w': 2095}}, 'uploaded_t': None, 'uploader': None}, {'key': 'front_fr', 'imgid': 1, 'rev': 4, 'sizes': {'100': {'h': 100, 'w': 84}, '200': {'h': 200, 'w': 168}, '400': {'h': 400, 'w': 336}, 'full': {'h': 1200, 'w': 1007}}, 'uploaded_t': None, 'uploader': None}, {'key': '1', 'imgid': None, 'rev': None, 'sizes': {'100': {'h': 100, 'w': 84}, '200': None, '400': {'h': 400, 'w': 336}, 'full': {'h': 1200, 'w': 1007}}, 'uploaded_t': 1535364770, 'uploader': 'kiliweb'}], 'informers_tags': ['yuka.ZnBGWkxwVWhtK0FMeFBSbjJSUHA4ZlZ3K28ySVdXbTdGL3NwSVE9PQ', 'kiliweb', 'teolemon', 'roboto-app'], 'ingredients_analysis_tags': None, 'ingredients_from_palm_oil_n': None, 'ingredients_n': None, 'ingredients_original_tags': None, 'ingredients_percent_analysis': None, 'ingredients_tags': None, 'ingredients_text': [], 'ingredients_with_specified_percent_n': None, 'ingredients_with_unspecified_percent_n': None, 'ingredients_without_ciqual_codes_n': None, 'ingredients_without_ciqual_codes': None, 'ingredients': None, 'known_ingredients_n': None, 'labels_tags': None, 'labels': None, 'lang': 'fr', 'languages_tags': ['en:french', 'en:1'], 'last_edit_dates_tags': ['2023-04-29', '2023-04', '2023'], 'last_editor': 'roboto-app', 'last_image_t': 1535364793, 'last_modified_by': 'roboto-app', 'last_modified_t': 1682726347, 'last_updated_t': 1740314406, 'link': None, 'main_countries_tags': [], 'manufacturing_places_tags': None, 'manufacturing_places': None, 'max_imgid': 2, 'minerals_tags': [], 'misc_tags': ['en:environmental-score-computed', 'en:environmental-score-missing-data-labels', 'en:environmental-score-missing-data-no-packagings', 'en:environmental-score-missing-data-origins', 'en:environmental-score-missing-data-packagings', 'en:environmental-score-missing-data-warning', 'en:nutriscore-missing-nutrition-data', 'en:nutriscore-missing-nutrition-data-energy', 'en:nutriscore-missing-nutrition-data-fat', 'en:nutriscore-missing-nutrition-data-proteins', 'en:nutriscore-missing-nutrition-data-saturated-fat', 'en:nutriscore-missing-nutrition-data-sodium', 'en:nutriscore-missing-nutrition-data-sugars', 'en:nutriscore-not-computed', 'en:nutrition-no-fiber', 'en:nutrition-no-fiber-or-fruits-vegetables-nuts', 'en:nutrition-no-fruits-vegetables-nuts', 'en:nutrition-not-enough-data-to-compute-nutrition-score', 'en:packagings-empty', 'en:packagings-not-complete', 'en:packagings-number-of-components-0'], 'new_additives_n': None, 'no_nutrition_data': False, 'nova_group': None, 'nova_groups_tags': ['unknown'], 'nova_groups': None, 'nucleotides_tags': [], 'nutrient_levels_tags': [], 'nutriments': None, 'nutriscore_grade': 'unknown', 'nutriscore_score': None, 'nutrition_data_per': '100g', 'obsolete': False, 'origins_tags': None, 'origins': None, 'owner_fields': None, 'owner': None, 'packagings_complete': None, 'packaging_recycling_tags': [], 'packaging_shapes_tags': [], 'packaging_tags': None, 'packaging_text': [], 'packaging': None, 'packagings': [], 'photographers': None, 'popularity_key': 0, 'popularity_tags': None, 'product_name': [{'lang': 'main', 'text': 'Madeleine Framboise'}, {'lang': 'fr', 'text': 'Madeleine Framboise'}], 'product_quantity_unit': 'g', 'product_quantity': '110', 'purchase_places_tags': None, 'quantity': '110 g', 'rev': 9, 'scans_n': None, 'serving_quantity': None, 'serving_size': None, 'states_tags': ['en:to-be-completed', 'en:nutrition-facts-to-be-completed', 'en:ingredients-to-be-completed', 'en:expiration-date-to-be-completed', 'en:packaging-code-to-be-completed', 'en:characteristics-to-be-completed', 'en:origins-to-be-completed', 'en:categories-completed', 'en:brands-to-be-completed', 'en:packaging-to-be-completed', 'en:quantity-completed', 'en:product-name-completed', 'en:photos-to-be-validated', 'en:packaging-photo-to-be-selected', 'en:nutrition-photo-to-be-selected', 'en:ingredients-photo-selected', 'en:front-photo-selected', 'en:photos-uploaded'], 'stores_tags': None, 'stores': None, 'traces_tags': [], 'unique_scans_n': None, 'unknown_ingredients_n': None, 'unknown_nutrients_tags': [], 'vitamins_tags': [], 'with_non_nutritive_sweeteners': None, 'with_sweeteners': None}, {'additives_n': None, 'additives_tags': None, 'allergens_tags': [], 'brands_tags': [], 'brands': '', 'categories': 'Snacks,Snacks sucrés,en:Sweet pastries and pies,Viennoiseries,Croissants', 'categories_tags': ['en:snacks', 'en:sweet-snacks', 'en:sweet-pastries-and-pies', 'en:viennoiseries', 'en:croissants'], 'categories_properties': {'ciqual_food_code': 7602, 'agribalyse_food_code': 7602, 'agribalyse_proxy_food_code': None}, 'checkers_tags': [], 'ciqual_food_name_tags': ['croissant-butter-from-bakery'], 'cities_tags': [], 'code': '0000141013129', 'compared_to_category': 'en:croissants', 'complete': 0, 'completeness': 0.2750000059604645, 'correctors_tags': ['openfoodfacts-contributors', 'quentinbrd', 'roboto-app'], 'countries_tags': ['en:france'], 'created_t': 1535781984, 'creator': 'kiliweb', 'data_quality_errors_tags': [], 'data_quality_info_tags': ['en:no-packaging-data', 'en:environmental-score-extended-data-not-computed', 'en:food-groups-1-known', 'en:food-groups-2-known', 'en:food-groups-3-unknown'], 'data_quality_warnings_tags': ['en:environmental-score-origins-of-ingredients-origins-are-100-percent-unknown', 'en:environmental-score-packaging-packaging-data-missing', 'en:environmental-score-production-system-no-label', 'en:environmental-score-threatened-species-ingredients-missing'], 'data_sources_tags': ['app-yuka', 'apps'], 'ecoscore_data': None, 'ecoscore_grade': None, 'ecoscore_score': None, 'ecoscore_tags': ['b'], 'editors': None, 'emb_codes_tags': [], 'emb_codes': '', 'entry_dates_tags': ['2018-09-01', '2018-09', '2018'], 'food_groups_tags': ['en:sugary-snacks', 'en:pastries'], 'generic_name': [], 'images': [{'key': '1', 'imgid': None, 'rev': None, 'sizes': {'100': {'h': 100, 'w': 76}, '200': None, '400': {'h': 400, 'w': 304}, 'full': {'h': 1200, 'w': 911}}, 'uploaded_t': 1535781986, 'uploader': 'kiliweb'}, {'key': 'ingredients_fr', 'imgid': 2, 'rev': 10, 'sizes': {'100': {'h': 19, 'w': 100}, '200': {'h': 39, 'w': 200}, '400': {'h': 78, 'w': 400}, 'full': {'h': 233, 'w': 1200}}, 'uploaded_t': None, 'uploader': None}, {'key': 'front_fr', 'imgid': 1, 'rev': 4, 'sizes': {'100': {'h': 100, 'w': 76}, '200': {'h': 200, 'w': 152}, '400': {'h': 400, 'w': 304}, 'full': {'h': 1200, 'w': 911}}, 'uploaded_t': None, 'uploader': None}, {'key': '2', 'imgid': None, 'rev': None, 'sizes': {'100': {'h': 100, 'w': 19}, '200': None, '400': {'h': 400, 'w': 78}, 'full': {'h': 1200, 'w': 233}}, 'uploaded_t': 1535781988, 'uploader': 'kiliweb'}], 'informers_tags': ['yuka.YXBvQlFQOFEvdUVudVBFSDlSN3QwK2xrNUtLM0IyYTJFclFNSWc9PQ', 'kiliweb', 'openfoodfacts-contributors', 'teolemon', 'quentinbrd'], 'ingredients_analysis_tags': None, 'ingredients_from_palm_oil_n': None, 'ingredients_n': None, 'ingredients_original_tags': None, 'ingredients_percent_analysis': None, 'ingredients_tags': None, 'ingredients_text': [], 'ingredients_with_specified_percent_n': None, 'ingredients_with_unspecified_percent_n': None, 'ingredients_without_ciqual_codes_n': None, 'ingredients_without_ciqual_codes': None, 'ingredients': None, 'known_ingredients_n': None, 'labels_tags': [], 'labels': '', 'lang': 'fr', 'languages_tags': ['en:french', 'en:1'], 'last_edit_dates_tags': ['2025-05-31', '2025-05', '2025'], 'last_editor': 'roboto-app', 'last_image_t': 1535781988, 'last_modified_by': 'roboto-app', 'last_modified_t': 1748663596, 'last_updated_t': 1748663596, 'link': '', 'main_countries_tags': [], 'manufacturing_places_tags': [], 'manufacturing_places': '', 'max_imgid': 2, 'minerals_tags': [], 'misc_tags': ['en:environmental-score-computed', 'en:environmental-score-missing-data-labels', 'en:environmental-score-missing-data-no-packagings', 'en:environmental-score-missing-data-origins', 'en:environmental-score-missing-data-packagings', 'en:environmental-score-missing-data-warning', 'en:nutriscore-missing-nutrition-data', 'en:nutriscore-missing-nutrition-data-energy', 'en:nutriscore-missing-nutrition-data-fat', 'en:nutriscore-missing-nutrition-data-proteins', 'en:nutriscore-missing-nutrition-data-saturated-fat', 'en:nutriscore-missing-nutrition-data-sodium', 'en:nutriscore-missing-nutrition-data-sugars', 'en:nutriscore-not-computed', 'en:nutrition-no-fiber', 'en:nutrition-no-fiber-or-fruits-vegetables-nuts', 'en:nutrition-no-fruits-vegetables-nuts', 'en:nutrition-not-enough-data-to-compute-nutrition-score', 'en:packagings-empty', 'en:packagings-not-complete', 'en:packagings-number-of-components-0', 'en:main-countries-fr-ingredients-not-in-country-language', 'en:main-countries-fr-only-1-field-in-country-language', 'en:main-countries-old-product-without-scans-in-2020'], 'new_additives_n': None, 'no_nutrition_data': False, 'nova_group': None, 'nova_groups_tags': ['unknown'], 'nova_groups': None, 'nucleotides_tags': [], 'nutrient_levels_tags': [], 'nutriments': None, 'nutriscore_grade': 'unknown', 'nutriscore_score': None, 'nutrition_data_per': '100g', 'obsolete': False, 'origins_tags': [], 'origins': '', 'owner_fields': None, 'owner': None, 'packagings_complete': False, 'packaging_recycling_tags': [], 'packaging_shapes_tags': [], 'packaging_tags': None, 'packaging_text': [], 'packaging': None, 'packagings': [], 'photographers': None, 'popularity_key': 1, 'popularity_tags': ['top-country-fr-scans-2019'], 'product_name': [{'lang': 'main', 'text': 'Croissants margarine'}, {'lang': 'fr', 'text': 'Croissants margarine'}], 'product_quantity_unit': None, 'product_quantity': None, 'purchase_places_tags': [], 'quantity': '', 'rev': 10, 'scans_n': 2, 'serving_quantity': None, 'serving_size': None, 'states_tags': ['en:to-be-completed', 'en:nutrition-facts-to-be-completed', 'en:ingredients-to-be-completed', 'en:expiration-date-to-be-completed', 'en:packaging-code-to-be-completed', 'en:characteristics-to-be-completed', 'en:origins-to-be-completed', 'en:categories-completed', 'en:brands-to-be-completed', 'en:packaging-to-be-completed', 'en:quantity-to-be-completed', 'en:product-name-completed', 'en:photos-to-be-validated', 'en:packaging-photo-to-be-selected', 'en:nutrition-photo-to-be-selected', 'en:ingredients-photo-selected', 'en:front-photo-selected', 'en:photos-uploaded'], 'stores_tags': [], 'stores': '', 'traces_tags': [], 'unique_scans_n': 1, 'unknown_ingredients_n': None, 'unknown_nutrients_tags': [], 'vitamins_tags': [], 'with_non_nutritive_sweeteners': None, 'with_sweeteners': None}, {'additives_n': None, 'additives_tags': None, 'allergens_tags': [], 'brands_tags': None, 'brands': None, 'categories': 'Viandes et dérivés, Viandes, Charcuteries, Terrines, Terrines de campagne', 'categories_tags': ['en:meats-and-their-products', 'en:meats', 'en:prepared-meats', 'en:terrines', 'en:country-terrines'], 'categories_properties': {'ciqual_food_code': 30900, 'agribalyse_food_code': None, 'agribalyse_proxy_food_code': None}, 'checkers_tags': [], 'ciqual_food_name_tags': ['cured-meat-and-sausages-average'], 'cities_tags': None, 'code': '0000228000080', 'compared_to_category': 'en:country-terrines', 'complete': 0, 'completeness': 0.20000000298023224, 'correctors_tags': ['tacite-mass-editor'], 'countries_tags': ['en:france'], 'created_t': 1488735633, 'creator': 'date-limite-app', 'data_quality_errors_tags': [], 'data_quality_info_tags': ['en:no-packaging-data', 'en:environmental-score-extended-data-not-computed', 'en:food-groups-1-known', 'en:food-groups-2-known', 'en:food-groups-3-unknown'], 'data_quality_warnings_tags': ['en:environmental-score-origins-of-ingredients-origins-are-100-percent-unknown', 'en:environmental-score-packaging-packaging-data-missing', 'en:environmental-score-production-system-no-label', 'en:environmental-score-threatened-species-ingredients-missing'], 'data_sources_tags': None, 'ecoscore_data': None, 'ecoscore_grade': None, 'ecoscore_score': None, 'ecoscore_tags': ['unknown'], 'editors': None, 'emb_codes_tags': None, 'emb_codes': None, 'entry_dates_tags': ['2017-03-05', '2017-03', '2017'], 'food_groups_tags': ['en:fish-meat-eggs', 'en:processed-meat'], 'generic_name': [], 'images': [], 'informers_tags': ['date-limite-app', 'sebleouf'], 'ingredients_analysis_tags': None, 'ingredients_from_palm_oil_n': None, 'ingredients_n': None, 'ingredients_original_tags': None, 'ingredients_percent_analysis': None, 'ingredients_tags': None, 'ingredients_text': [], 'ingredients_with_specified_percent_n': None, 'ingredients_with_unspecified_percent_n': None, 'ingredients_without_ciqual_codes_n': None, 'ingredients_without_ciqual_codes': None, 'ingredients': None, 'known_ingredients_n': None, 'labels_tags': None, 'labels': None, 'lang': 'fr', 'languages_tags': ['en:french', 'en:1'], 'last_edit_dates_tags': ['2019-01-09', '2019-01', '2019'], 'last_editor': 'sebleouf', 'last_image_t': None, 'last_modified_by': 'sebleouf', 'last_modified_t': 1547032647, 'last_updated_t': 1743492849, 'link': None, 'main_countries_tags': [], 'manufacturing_places_tags': None, 'manufacturing_places': None, 'max_imgid': None, 'minerals_tags': [], 'misc_tags': ['en:environmental-score-not-computed', 'en:nutriscore-missing-nutrition-data', 'en:nutriscore-missing-nutrition-data-energy', 'en:nutriscore-missing-nutrition-data-fat', 'en:nutriscore-missing-nutrition-data-proteins', 'en:nutriscore-missing-nutrition-data-saturated-fat', 'en:nutriscore-missing-nutrition-data-sodium', 'en:nutriscore-missing-nutrition-data-sugars', 'en:nutriscore-not-computed', 'en:nutrition-no-fiber', 'en:nutrition-no-fiber-or-fruits-vegetables-nuts', 'en:nutrition-no-fruits-vegetables-nuts', 'en:nutrition-not-enough-data-to-compute-nutrition-score', 'en:packagings-empty', 'en:packagings-not-complete', 'en:packagings-number-of-components-0'], 'new_additives_n': None, 'no_nutrition_data': False, 'nova_group': None, 'nova_groups_tags': ['unknown'], 'nova_groups': None, 'nucleotides_tags': [], 'nutrient_levels_tags': [], 'nutriments': None, 'nutriscore_grade': 'unknown', 'nutriscore_score': None, 'nutrition_data_per': '100g', 'obsolete': False, 'origins_tags': None, 'origins': None, 'owner_fields': None, 'owner': None, 'packagings_complete': None, 'packaging_recycling_tags': [], 'packaging_shapes_tags': [], 'packaging_tags': [], 'packaging_text': [], 'packaging': '', 'packagings': [], 'photographers': None, 'popularity_key': 0, 'popularity_tags': None, 'product_name': [{'lang': 'main', 'text': 'Terrine de campagne'}, {'lang': 'fr', 'text': 'Terrine de campagne'}], 'product_quantity_unit': None, 'product_quantity': None, 'purchase_places_tags': None, 'quantity': None, 'rev': 3, 'scans_n': None, 'serving_quantity': None, 'serving_size': None, 'states_tags': ['en:to-be-completed', 'en:nutrition-facts-to-be-completed', 'en:ingredients-to-be-completed', 'en:expiration-date-to-be-completed', 'en:packaging-code-to-be-completed', 'en:characteristics-to-be-completed', 'en:origins-to-be-completed', 'en:categories-completed', 'en:brands-to-be-completed', 'en:packaging-to-be-completed', 'en:quantity-to-be-completed', 'en:product-name-completed', 'en:photos-to-be-uploaded'], 'stores_tags': None, 'stores': None, 'traces_tags': [], 'unique_scans_n': None, 'unknown_ingredients_n': None, 'unknown_nutrients_tags': [], 'vitamins_tags': [], 'with_non_nutritive_sweeteners': None, 'with_sweeteners': None}, {'additives_n': None, 'additives_tags': [], 'allergens_tags': [], 'brands_tags': ['candy-crush'], 'brands': 'Candy crush', 'categories': 'Snacks, Snacks sucrés, Confiseries, Bonbons', 'categories_tags': ['en:snacks', 'en:sweet-snacks', 'en:confectioneries', 'en:candies'], 'categories_properties': {'ciqual_food_code': 31003, 'agribalyse_food_code': 31003, 'agribalyse_proxy_food_code': None}, 'checkers_tags': [], 'ciqual_food_name_tags': ['candies-all-types'], 'cities_tags': [], 'code': '0000790310044', 'compared_to_category': 'en:candies', 'complete': 0, 'completeness': 0.7875000238418579, 'correctors_tags': ['malikele', 'upcbot', 'packbot'], 'countries_tags': ['en:united-states'], 'created_t': 1388681303, 'creator': 'malikele', 'data_quality_errors_tags': [], 'data_quality_info_tags': ['en:packaging-data-incomplete', 'en:ecoscore-extended-data-not-computed', 'en:food-groups-1-known', 'en:food-groups-2-known', 'en:food-groups-3-unknown'], 'data_quality_warnings_tags': ['en:ecoscore-packaging-unspecified-shape', 'en:ecoscore-production-system-no-label', 'en:ecoscore-threatened-species-ingredients-missing'], 'data_sources_tags': None, 'ecoscore_data': '{\"missing_data_warning\":1,\"grade\":\"c\",\"adjustments\":{\"production_system\":{\"value\":0,\"labels\":[],\"warning\":\"no_label\"},\"packaging\":{\"warning\":\"unspecified_shape\",\"score\":-8,\"non_recyclable_and_non_biodegradable_materials\":1,\"packagings\":[{\"material\":\"en:plastic\",\"shape\":\"en:unknown\",\"ecoscore_shape_ratio\":1,\"non_recyclable_and_non_biodegradable\":\"maybe\",\"ecoscore_material_score\":0},{\"shape\":\"en:unknown\",\"ecoscore_material_score\":92,\"ecoscore_shape_ratio\":1,\"material\":\"en:cardboard\"}],\"value\":-11},\"threatened_species\":{\"warning\":\"ingredients_missing\"},\"origins_of_ingredients\":{\"transportation_values\":{\"md\":0,\"mt\":0,\"ua\":0,\"world\":0,\"se\":0,\"si\":0,\"lv\":0,\"ly\":0,\"de\":0,\"pl\":0,\"fo\":0,\"je\":0,\"cz\":0,\"pt\":0,\"lu\":0,\"dz\":0,\"gr\":0,\"va\":0,\"me\":0,\"tr\":0,\"hu\":0,\"mc\":0,\"ma\":0,\"gi\":0,\"be\":0,\"sj\":0,\"no\":0,\"is\":0,\"ee\":0,\"tn\":0,\"sm\":0,\"ba\":0,\"sy\":0,\"ie\":0,\"cy\":0,\"sk\":0,\"ad\":0,\"at\":0,\"es\":0,\"uk\":0,\"dk\":0,\"li\":0,\"hr\":0,\"ps\":0,\"al\":0,\"lb\":0,\"fi\":0,\"rs\":0,\"ax\":0,\"xk\":0,\"nl\":0,\"mk\":0,\"bg\":0,\"eg\":0,\"it\":0,\"fr\":0,\"ro\":0,\"il\":0,\"lt\":0,\"ch\":0,\"im\":0,\"gg\":0,\"us\":0},\"epi_score\":68,\"aggregated_origins\":[{\"origin\":\"en:canada\",\"percent\":100}],\"origins_from_categories\":[\"en:unknown\"],\"transportation_scores\":{\"us\":0,\"gg\":0,\"im\":0,\"ch\":0,\"il\":0,\"lt\":0,\"ro\":0,\"it\":0,\"eg\":0,\"fr\":0,\"mk\":0,\"bg\":0,\"xk\":0,\"ax\":0,\"nl\":0,\"rs\":0,\"fi\":0,\"lb\":0,\"hr\":0,\"al\":0,\"ps\":0,\"uk\":0,\"dk\":0,\"li\":0,\"at\":0,\"ad\":0,\"es\":0,\"sy\":0,\"ie\":0,\"cy\":0,\"sk\":0,\"sm\":0,\"ba\":0,\"tn\":0,\"ee\":0,\"be\":0,\"no\":0,\"is\":0,\"sj\":0,\"gi\":0,\"tr\":0,\"mc\":0,\"ma\":0,\"hu\":0,\"me\":0,\"va\":0,\"gr\":0,\"dz\":0,\"lu\":0,\"pt\":0,\"je\":0,\"fo\":0,\"cz\":0,\"pl\":0,\"ly\":0,\"de\":0,\"lv\":0,\"si\":0,\"se\":0,\"md\":0,\"mt\":0,\"ua\":0,\"world\":0},\"values\":{\"li\":2,\"dk\":2,\"uk\":2,\"al\":2,\"ps\":2,\"hr\":2,\"sk\":2,\"cy\":2,\"ie\":2,\"sy\":2,\"at\":2,\"es\":2,\"ad\":2,\"rs\":2,\"nl\":2,\"ax\":2,\"xk\":2,\"lb\":2,\"fi\":2,\"ro\":2,\"lt\":2,\"il\":2,\"bg\":2,\"mk\":2,\"fr\":2,\"eg\":2,\"it\":2,\"im\":2,\"gg\":2,\"us\":2,\"ch\":2,\"lv\":2,\"de\":2,\"ly\":2,\"world\":2,\"ua\":2,\"md\":2,\"mt\":2,\"se\":2,\"si\":2,\"pt\":2,\"lu\":2,\"gr\":2,\"dz\":2,\"pl\":2,\"cz\":2,\"fo\":2,\"je\":2,\"hu\":2,\"ma\":2,\"mc\":2,\"tr\":2,\"gi\":2,\"va\":2,\"me\":2,\"tn\":2,\"ba\":2,\"sm\":2,\"sj\":2,\"is\":2,\"no\":2,\"be\":2,\"ee\":2},\"origins_from_origins_field\":[\"en:canada\"],\"epi_value\":2}},\"status\":\"known\",\"missing\":{\"packagings\":1,\"labels\":1,\"ingredients\":1},\"grades\":{\"im\":\"c\",\"us\":\"c\",\"gg\":\"c\",\"ch\":\"c\",\"ro\":\"c\",\"lt\":\"c\",\"il\":\"c\",\"bg\":\"c\",\"mk\":\"c\",\"fr\":\"c\",\"eg\":\"c\",\"it\":\"c\",\"rs\":\"c\",\"nl\":\"c\",\"xk\":\"c\",\"ax\":\"c\",\"lb\":\"c\",\"fi\":\"c\",\"li\":\"c\",\"dk\":\"c\",\"uk\":\"c\",\"ps\":\"c\",\"al\":\"c\",\"hr\":\"c\",\"cy\":\"c\",\"sk\":\"c\",\"ie\":\"c\",\"sy\":\"c\",\"ad\":\"c\",\"at\":\"c\",\"es\":\"c\",\"tn\":\"c\",\"ba\":\"c\",\"sm\":\"c\",\"sj\":\"c\",\"is\":\"c\",\"no\":\"c\",\"be\":\"c\",\"ee\":\"c\",\"hu\":\"c\",\"ma\":\"c\",\"mc\":\"c\",\"tr\":\"c\",\"gi\":\"c\",\"va\":\"c\",\"me\":\"c\",\"pt\":\"c\",\"lu\":\"c\",\"gr\":\"c\",\"dz\":\"c\",\"pl\":\"c\",\"cz\":\"c\",\"fo\":\"c\",\"je\":\"c\",\"lv\":\"c\",\"de\":\"c\",\"ly\":\"c\",\"world\":\"c\",\"ua\":\"c\",\"mt\":\"c\",\"md\":\"c\",\"se\":\"c\",\"si\":\"c\"},\"agribalyse\":{\"score\":62,\"version\":\"3.1.1\",\"ef_consumption\":0,\"dqr\":\"3.64\",\"is_beverage\":0,\"ef_distribution\":0.0046101581,\"agribalyse_food_code\":\"31003\",\"co2_distribution\":0.017263204,\"name_en\":\"Candies, all types\",\"co2_processing\":0.33587512,\"co2_total\":1.722810514,\"co2_agriculture\":0.89920163,\"ef_agriculture\":0.32046749,\"ef_processing\":0.043590154,\"co2_consumption\":0,\"code\":\"31003\",\"co2_transportation\":0.19967935,\"ef_total\":0.40957762210000004,\"ef_packaging\":0.022472250000000003,\"name_fr\":\"Bonbons, tout type\",\"ef_transportation\":0.01843757,\"co2_packaging\":0.27079121},\"scores\":{\"im\":53,\"us\":53,\"gg\":53,\"ch\":53,\"ro\":53,\"il\":53,\"lt\":53,\"bg\":53,\"mk\":53,\"fr\":53,\"eg\":53,\"it\":53,\"rs\":53,\"nl\":53,\"ax\":53,\"xk\":53,\"lb\":53,\"fi\":53,\"li\":53,\"dk\":53,\"uk\":53,\"al\":53,\"ps\":53,\"hr\":53,\"sk\":53,\"cy\":53,\"ie\":53,\"sy\":53,\"at\":53,\"es\":53,\"ad\":53,\"tn\":53,\"ba\":53,\"sm\":53,\"is\":53,\"no\":53,\"sj\":53,\"be\":53,\"ee\":53,\"mc\":53,\"ma\":53,\"hu\":53,\"tr\":53,\"gi\":53,\"va\":53,\"me\":53,\"pt\":53,\"dz\":53,\"gr\":53,\"lu\":53,\"pl\":53,\"cz\":53,\"je\":53,\"fo\":53,\"lv\":53,\"de\":53,\"ly\":53,\"ua\":53,\"world\":53,\"md\":53,\"mt\":53,\"si\":53,\"se\":53},\"score\":53,\"previous_data\":{\"grade\":\"d\",\"agribalyse\":{\"name_fr\":\"Bonbons, tout type\",\"ef_transportation\":0.018372886,\"ef_packaging\":0.020545657,\"co2_packaging\":0.2752397,\"ef_agriculture\":0.82681788,\"co2_total\":2.9115727,\"co2_agriculture\":2.1277843,\"co2_consumption\":0,\"code\":\"31003\",\"ef_total\":0.91567794,\"co2_transportation\":0.20694049,\"ef_processing\":0.045350868,\"agribalyse_food_code\":\"31003\",\"ef_distribution\":0.0045906531,\"co2_processing\":0.28750323,\"co2_distribution\":0.014104999,\"name_en\":\"Candies, all types\",\"score\":34,\"ef_consumption\":0,\"is_beverage\":0,\"dqr\":\"3.64\"},\"score\":25}}', 'ecoscore_grade': 'c', 'ecoscore_score': 53, 'ecoscore_tags': ['c'], 'editors': ['malikele', 'upcbot'], 'emb_codes_tags': [], 'emb_codes': '', 'entry_dates_tags': ['2014-01-02', '2014-01', '2014'], 'food_groups_tags': ['en:sugary-snacks', 'en:sweets'], 'generic_name': [{'lang': 'main', 'text': 'Confiserie'}, {'lang': 'fr', 'text': 'Confiserie'}], 'images': [{'key': '3', 'imgid': None, 'rev': None, 'sizes': {'100': {'h': 63, 'w': 100}, '200': None, '400': {'h': 253, 'w': 400}, 'full': {'h': 910, 'w': 1436}}, 'uploaded_t': 1388681348, 'uploader': 'malikele'}, {'key': '2', 'imgid': None, 'rev': None, 'sizes': {'100': {'h': 100, 'w': 51}, '200': None, '400': {'h': 400, 'w': 206}, 'full': {'h': 1736, 'w': 894}}, 'uploaded_t': 1388681347, 'uploader': 'malikele'}, {'key': 'nutrition_fr', 'imgid': 2, 'rev': 11, 'sizes': {'100': {'h': 100, 'w': 51}, '200': {'h': 200, 'w': 103}, '400': {'h': 400, 'w': 206}, 'full': {'h': 1736, 'w': 894}}, 'uploaded_t': None, 'uploader': None}, {'key': '4', 'imgid': None, 'rev': None, 'sizes': {'100': {'h': 58, 'w': 100}, '200': None, '400': {'h': 231, 'w': 400}, 'full': {'h': 994, 'w': 1718}}, 'uploaded_t': 1388681349, 'uploader': 'malikele'}, {'key': 'ingredients_fr', 'imgid': 3, 'rev': 10, 'sizes': {'100': {'h': 63, 'w': 100}, '200': {'h': 127, 'w': 200}, '400': {'h': 253, 'w': 400}, 'full': {'h': 910, 'w': 1436}}, 'uploaded_t': None, 'uploader': None}, {'key': 'ingredients', 'imgid': 3, 'rev': 10, 'sizes': {'100': {'h': 63, 'w': 100}, '200': {'h': 127, 'w': 200}, '400': {'h': 253, 'w': 400}, 'full': {'h': 910, 'w': 1436}}, 'uploaded_t': None, 'uploader': None}, {'key': '1', 'imgid': None, 'rev': None, 'sizes': {'100': {'h': 68, 'w': 100}, '200': None, '400': {'h': 271, 'w': 400}, 'full': {'h': 782, 'w': 1155}}, 'uploaded_t': 1388681303, 'uploader': 'malikele'}, {'key': 'nutrition', 'imgid': 2, 'rev': 11, 'sizes': {'100': {'h': 100, 'w': 51}, '200': {'h': 200, 'w': 103}, '400': {'h': 400, 'w': 206}, 'full': {'h': 1736, 'w': 894}}, 'uploaded_t': None, 'uploader': None}, {'key': '5', 'imgid': None, 'rev': None, 'sizes': {'100': {'h': 59, 'w': 100}, '200': None, '400': {'h': 237, 'w': 400}, 'full': {'h': 594, 'w': 1001}}, 'uploaded_t': 1388681948, 'uploader': 'malikele'}, {'key': 'front_fr', 'imgid': 4, 'rev': 9, 'sizes': {'100': {'h': 58, 'w': 100}, '200': {'h': 116, 'w': 200}, '400': {'h': 231, 'w': 400}, 'full': {'h': 994, 'w': 1718}}, 'uploaded_t': None, 'uploader': None}, {'key': 'front', 'imgid': 4, 'rev': 9, 'sizes': {'100': {'h': 58, 'w': 100}, '200': {'h': 116, 'w': 200}, '400': {'h': 231, 'w': 400}, 'full': {'h': 994, 'w': 1718}}, 'uploaded_t': None, 'uploader': None}], 'informers_tags': ['malikele', 'upcbot'], 'ingredients_analysis_tags': None, 'ingredients_from_palm_oil_n': None, 'ingredients_n': None, 'ingredients_original_tags': None, 'ingredients_percent_analysis': None, 'ingredients_tags': None, 'ingredients_text': [], 'ingredients_with_specified_percent_n': None, 'ingredients_with_unspecified_percent_n': None, 'ingredients_without_ciqual_codes_n': None, 'ingredients_without_ciqual_codes': None, 'ingredients': None, 'known_ingredients_n': None, 'labels_tags': [], 'labels': '', 'lang': 'fr', 'languages_tags': ['en:french', 'en:1'], 'last_edit_dates_tags': ['2022-02-10', '2022-02', '2022'], 'last_editor': 'packbot', 'last_image_t': 1388681948, 'last_modified_by': 'packbot', 'last_modified_t': 1644527424, 'last_updated_t': 1729966761, 'link': '', 'main_countries_tags': [], 'manufacturing_places_tags': None, 'manufacturing_places': None, 'max_imgid': 5, 'minerals_tags': [], 'misc_tags': ['en:ecoscore-changed', 'en:ecoscore-computed', 'en:ecoscore-extended-data-not-computed', 'en:ecoscore-grade-changed', 'en:ecoscore-missing-data-labels', 'en:ecoscore-missing-data-packagings', 'en:ecoscore-missing-data-warning', 'en:nutriscore-missing-nutrition-data', 'en:nutriscore-missing-nutrition-data-energy', 'en:nutriscore-missing-nutrition-data-fat', 'en:nutriscore-missing-nutrition-data-proteins', 'en:nutriscore-missing-nutrition-data-saturated-fat', 'en:nutriscore-missing-nutrition-data-sodium', 'en:nutriscore-missing-nutrition-data-sugars', 'en:nutriscore-not-computed', 'en:nutrition-no-fiber', 'en:nutrition-no-fiber-or-fruits-vegetables-nuts', 'en:nutrition-no-fruits-vegetables-nuts', 'en:nutrition-not-enough-data-to-compute-nutrition-score', 'en:packagings-not-complete', 'en:packagings-not-empty', 'en:packagings-not-empty-but-not-complete', 'en:packagings-number-of-components-2'], 'new_additives_n': None, 'no_nutrition_data': False, 'nova_group': None, 'nova_groups_tags': ['unknown'], 'nova_groups': None, 'nucleotides_tags': [], 'nutrient_levels_tags': [], 'nutriments': None, 'nutriscore_grade': 'unknown', 'nutriscore_score': None, 'nutrition_data_per': '100g', 'obsolete': False, 'origins_tags': ['en:canada'], 'origins': 'Canada', 'owner_fields': None, 'owner': None, 'packagings_complete': None, 'packaging_recycling_tags': [], 'packaging_shapes_tags': [], 'packaging_tags': ['en:plastic', 'en:cardboard'], 'packaging_text': [], 'packaging': 'Plastique, Carton', 'packagings': [{'material': 'en:plastic', 'number_of_units': None, 'quantity_per_unit': None, 'quantity_per_unit_unit': None, 'quantity_per_unit_value': None, 'recycling': None, 'shape': None, 'weight_measured': None}, {'material': 'en:cardboard', 'number_of_units': None, 'quantity_per_unit': None, 'quantity_per_unit_unit': None, 'quantity_per_unit_value': None, 'recycling': None, 'shape': None, 'weight_measured': None}], 'photographers': None, 'popularity_key': 0, 'popularity_tags': None, 'product_name': [{'lang': 'main', 'text': 'Color bombe'}, {'lang': 'fr', 'text': 'Color bombe'}], 'product_quantity_unit': 'g', 'product_quantity': '80', 'purchase_places_tags': [], 'quantity': '80g', 'rev': 15, 'scans_n': None, 'serving_quantity': None, 'serving_size': None, 'states_tags': ['en:to-be-completed', 'en:nutrition-facts-to-be-completed', 'en:ingredients-to-be-completed', 'en:expiration-date-completed', 'en:packaging-code-to-be-completed', 'en:characteristics-completed', 'en:origins-completed', 'en:categories-completed', 'en:brands-completed', 'en:packaging-completed', 'en:quantity-completed', 'en:product-name-completed', 'en:photos-to-be-validated', 'en:packaging-photo-to-be-selected', 'en:nutrition-photo-selected', 'en:ingredients-photo-selected', 'en:front-photo-selected', 'en:photos-uploaded'], 'stores_tags': [], 'stores': '', 'traces_tags': [], 'unique_scans_n': None, 'unknown_ingredients_n': None, 'unknown_nutrients_tags': [], 'vitamins_tags': [], 'with_non_nutritive_sweeteners': None, 'with_sweeteners': None}]\n"
     ]
    }
   ],
   "source": [
    "# Select first 50 records\n",
    "subset = ds.select(range(500))\n",
    "\n",
    "# Filter for those with non-null 'images'\n",
    "samples_with_images = [record for record in subset if record['nutriments'] is None][:5]\n",
    "\n",
    "print(samples_with_images)"
   ]
  },
  {
   "cell_type": "code",
   "execution_count": 37,
   "id": "243fafad",
   "metadata": {},
   "outputs": [
    {
     "name": "stdout",
     "output_type": "stream",
     "text": [
      "<class 'NoneType'>\n"
     ]
    }
   ],
   "source": [
    "print(type(samples_with_images[0]['nutriments']))"
   ]
  },
  {
   "cell_type": "code",
   "execution_count": 12,
   "id": "fc97c122",
   "metadata": {},
   "outputs": [
    {
     "data": {
      "text/plain": [
       "'0000527000057'"
      ]
     },
     "execution_count": 12,
     "metadata": {},
     "output_type": "execute_result"
    }
   ],
   "source": [
    "samples_with_images[0]['code']"
   ]
  },
  {
   "cell_type": "code",
   "execution_count": 31,
   "id": "2d178b5f",
   "metadata": {},
   "outputs": [
    {
     "name": "stdout",
     "output_type": "stream",
     "text": [
      "0000111301201\n",
      "[{'key': '1', 'imgid': None, 'rev': None, 'sizes': {'100': {'h': 100, 'w': 93}, '200': None, '400': {'h': 400, 'w': 373}, 'full': {'h': 1668, 'w': 1555}}, 'uploaded_t': 1632611836, 'uploader': 'openfoodfacts-contributors'}, {'key': 'ingredients_en', 'imgid': 1, 'rev': 5, 'sizes': {'100': {'h': 100, 'w': 93}, '200': {'h': 200, 'w': 186}, '400': {'h': 400, 'w': 373}, 'full': {'h': 1668, 'w': 1555}}, 'uploaded_t': None, 'uploader': None}]\n"
     ]
    }
   ],
   "source": [
    "print(samples_with_images[1]['code'])\n",
    "print(samples_with_images[1]['images'])"
   ]
  },
  {
   "cell_type": "code",
   "execution_count": 32,
   "id": "c0f6fa43",
   "metadata": {},
   "outputs": [
    {
     "name": "stdout",
     "output_type": "stream",
     "text": [
      "0000140323687\n",
      "[{'key': '2', 'imgid': None, 'rev': None, 'sizes': {'100': {'h': 57, 'w': 100}, '200': None, '400': {'h': 229, 'w': 400}, 'full': {'h': 1200, 'w': 2095}}, 'uploaded_t': 1535364792, 'uploader': 'kiliweb'}, {'key': 'ingredients_fr', 'imgid': 2, 'rev': 7, 'sizes': {'100': {'h': 57, 'w': 100}, '200': {'h': 115, 'w': 200}, '400': {'h': 229, 'w': 400}, 'full': {'h': 1200, 'w': 2095}}, 'uploaded_t': None, 'uploader': None}, {'key': 'front_fr', 'imgid': 1, 'rev': 4, 'sizes': {'100': {'h': 100, 'w': 84}, '200': {'h': 200, 'w': 168}, '400': {'h': 400, 'w': 336}, 'full': {'h': 1200, 'w': 1007}}, 'uploaded_t': None, 'uploader': None}, {'key': '1', 'imgid': None, 'rev': None, 'sizes': {'100': {'h': 100, 'w': 84}, '200': None, '400': {'h': 400, 'w': 336}, 'full': {'h': 1200, 'w': 1007}}, 'uploaded_t': 1535364770, 'uploader': 'kiliweb'}]\n"
     ]
    }
   ],
   "source": [
    "print(samples_with_images[2]['code'])\n",
    "print(samples_with_images[2]['images'])"
   ]
  },
  {
   "cell_type": "code",
   "execution_count": 2,
   "id": "e33ef3d5",
   "metadata": {},
   "outputs": [],
   "source": [
    "#load processed dataset\n",
    "ds = load_from_disk(\"/Users/bhushanshah/Documents/food-fact-check/data/processed/openfoodfacts_food_dataset\")"
   ]
  },
  {
   "cell_type": "code",
   "execution_count": 3,
   "id": "ff1306da",
   "metadata": {},
   "outputs": [],
   "source": [
    "samples = ds.select(range(50))"
   ]
  },
  {
   "cell_type": "code",
   "execution_count": 5,
   "id": "29b28b93",
   "metadata": {},
   "outputs": [
    {
     "name": "stdout",
     "output_type": "stream",
     "text": [
      "additives_n: Value('int32')\n",
      "additives_tags: List(Value('string'))\n",
      "brands: Value('string')\n",
      "code: Value('string')\n",
      "compared_to_category: Value('string')\n",
      "images: List({'key': Value('string'), 'imgid': Value('int32'), 'rev': Value('int32'), 'sizes': {'100': {'h': Value('int32'), 'w': Value('int32')}, '200': {'h': Value('int32'), 'w': Value('int32')}, '400': {'h': Value('int32'), 'w': Value('int32')}, 'full': {'h': Value('int32'), 'w': Value('int32')}}, 'uploaded_t': Value('int64'), 'uploader': Value('string')})\n",
      "ingredients_analysis_tags: List(Value('string'))\n",
      "ingredients_tags: List(Value('string'))\n",
      "ingredients_text: List({'lang': Value('string'), 'text': Value('string')})\n",
      "lang: Value('string')\n",
      "languages_tags: List(Value('string'))\n",
      "minerals_tags: List(Value('string'))\n",
      "nutrient_levels_tags: List(Value('string'))\n",
      "nutriments: List({'name': Value('string'), 'value': Value('float32'), '100g': Value('float32'), 'serving': Value('float32'), 'unit': Value('string'), 'prepared_value': Value('float32'), 'prepared_100g': Value('float32'), 'prepared_serving': Value('float32'), 'prepared_unit': Value('string')})\n",
      "product_name: List({'lang': Value('string'), 'text': Value('string')})\n",
      "vitamins_tags: List(Value('string'))\n",
      "image_url: Value('string')\n",
      "additives: List(Value('string'))\n"
     ]
    }
   ],
   "source": [
    "# Print all the features in the dataset\n",
    "for feature, dtype in ds.features.items():\n",
    "    print(f\"{feature}: {dtype}\")"
   ]
  },
  {
   "cell_type": "code",
   "execution_count": 6,
   "id": "b45e3ef9",
   "metadata": {},
   "outputs": [
    {
     "name": "stdout",
     "output_type": "stream",
     "text": [
      "None\n",
      "None\n",
      "None\n",
      "None\n",
      "None\n",
      "None\n",
      "None\n",
      "None\n",
      "None\n",
      "None\n",
      "None\n",
      "None\n",
      "None\n",
      "None\n",
      "None\n",
      "None\n",
      "None\n",
      "https://images.openfoodfacts.org/images/products/000/015/948/7776/front_en.3.full.jpg\n",
      "None\n",
      "None\n",
      "None\n",
      "https://images.openfoodfacts.org/images/products/000/020/428/6484/front_de.3.full.jpg\n",
      "None\n",
      "None\n",
      "None\n",
      "https://images.openfoodfacts.org/images/products/000/025/063/2969/front_de.3.full.jpg\n",
      "None\n",
      "None\n",
      "None\n",
      "None\n",
      "None\n",
      "None\n",
      "None\n",
      "https://images.openfoodfacts.org/images/products/000/041/701/2009/front_ru.3.full.jpg\n",
      "None\n",
      "None\n",
      "None\n",
      "None\n",
      "None\n",
      "None\n",
      "None\n",
      "None\n",
      "https://images.openfoodfacts.org/images/products/000/046/093/8714/front_de.3.full.jpg\n",
      "https://images.openfoodfacts.org/images/products/000/047/032/2800/front_de.3.full.jpg\n",
      "https://images.openfoodfacts.org/images/products/000/050/105/0603/front_de.3.full.jpg\n",
      "None\n",
      "https://images.openfoodfacts.org/images/products/000/052/693/8306/front_de.3.full.jpg\n",
      "None\n",
      "https://images.openfoodfacts.org/images/products/000/055/400/4509/front_fr.4.full.jpg\n",
      "None\n"
     ]
    }
   ],
   "source": [
    "#print the image urls\n",
    "for sample in samples:\n",
    "    print(sample['image_url'])"
   ]
  },
  {
   "cell_type": "code",
   "execution_count": 43,
   "id": "262b6dcc",
   "metadata": {},
   "outputs": [
    {
     "data": {
      "text/plain": [
       "{'additives_n': Value('int32'),\n",
       " 'additives_tags': List(Value('string')),\n",
       " 'allergens_tags': List(Value('string')),\n",
       " 'brands_tags': List(Value('string')),\n",
       " 'brands': Value('string'),\n",
       " 'categories': Value('string'),\n",
       " 'categories_tags': List(Value('string')),\n",
       " 'categories_properties': {'ciqual_food_code': Value('int32'),\n",
       "  'agribalyse_food_code': Value('int32'),\n",
       "  'agribalyse_proxy_food_code': Value('int32')},\n",
       " 'checkers_tags': List(Value('string')),\n",
       " 'ciqual_food_name_tags': List(Value('string')),\n",
       " 'cities_tags': List(Value('string')),\n",
       " 'code': Value('string'),\n",
       " 'compared_to_category': Value('string'),\n",
       " 'complete': Value('int32'),\n",
       " 'completeness': Value('float32'),\n",
       " 'correctors_tags': List(Value('string')),\n",
       " 'countries_tags': List(Value('string')),\n",
       " 'created_t': Value('int64'),\n",
       " 'creator': Value('string'),\n",
       " 'data_quality_errors_tags': List(Value('string')),\n",
       " 'data_quality_info_tags': List(Value('string')),\n",
       " 'data_quality_warnings_tags': List(Value('string')),\n",
       " 'data_sources_tags': List(Value('string')),\n",
       " 'ecoscore_data': Value('string'),\n",
       " 'ecoscore_grade': Value('string'),\n",
       " 'ecoscore_score': Value('int32'),\n",
       " 'ecoscore_tags': List(Value('string')),\n",
       " 'editors': List(Value('string')),\n",
       " 'emb_codes_tags': List(Value('string')),\n",
       " 'emb_codes': Value('string'),\n",
       " 'entry_dates_tags': List(Value('string')),\n",
       " 'food_groups_tags': List(Value('string')),\n",
       " 'generic_name': List({'lang': Value('string'), 'text': Value('string')}),\n",
       " 'images': List({'key': Value('string'), 'imgid': Value('int32'), 'rev': Value('int32'), 'sizes': {'100': {'h': Value('int32'), 'w': Value('int32')}, '200': {'h': Value('int32'), 'w': Value('int32')}, '400': {'h': Value('int32'), 'w': Value('int32')}, 'full': {'h': Value('int32'), 'w': Value('int32')}}, 'uploaded_t': Value('int64'), 'uploader': Value('string')}),\n",
       " 'informers_tags': List(Value('string')),\n",
       " 'ingredients_analysis_tags': List(Value('string')),\n",
       " 'ingredients_from_palm_oil_n': Value('int32'),\n",
       " 'ingredients_n': Value('int32'),\n",
       " 'ingredients_original_tags': List(Value('string')),\n",
       " 'ingredients_percent_analysis': Value('int32'),\n",
       " 'ingredients_tags': List(Value('string')),\n",
       " 'ingredients_text': List({'lang': Value('string'), 'text': Value('string')}),\n",
       " 'ingredients_with_specified_percent_n': Value('int32'),\n",
       " 'ingredients_with_unspecified_percent_n': Value('int32'),\n",
       " 'ingredients_without_ciqual_codes_n': Value('int32'),\n",
       " 'ingredients_without_ciqual_codes': List(Value('string')),\n",
       " 'ingredients': Value('string'),\n",
       " 'known_ingredients_n': Value('int32'),\n",
       " 'labels_tags': List(Value('string')),\n",
       " 'labels': Value('string'),\n",
       " 'lang': Value('string'),\n",
       " 'languages_tags': List(Value('string')),\n",
       " 'last_edit_dates_tags': List(Value('string')),\n",
       " 'last_editor': Value('string'),\n",
       " 'last_image_t': Value('int64'),\n",
       " 'last_modified_by': Value('string'),\n",
       " 'last_modified_t': Value('int64'),\n",
       " 'last_updated_t': Value('int64'),\n",
       " 'link': Value('string'),\n",
       " 'main_countries_tags': List(Value('string')),\n",
       " 'manufacturing_places_tags': List(Value('string')),\n",
       " 'manufacturing_places': Value('string'),\n",
       " 'max_imgid': Value('int32'),\n",
       " 'minerals_tags': List(Value('string')),\n",
       " 'misc_tags': List(Value('string')),\n",
       " 'new_additives_n': Value('int32'),\n",
       " 'no_nutrition_data': Value('bool'),\n",
       " 'nova_group': Value('int32'),\n",
       " 'nova_groups_tags': List(Value('string')),\n",
       " 'nova_groups': Value('string'),\n",
       " 'nucleotides_tags': List(Value('string')),\n",
       " 'nutrient_levels_tags': List(Value('string')),\n",
       " 'nutriments': List({'name': Value('string'), 'value': Value('float32'), '100g': Value('float32'), 'serving': Value('float32'), 'unit': Value('string'), 'prepared_value': Value('float32'), 'prepared_100g': Value('float32'), 'prepared_serving': Value('float32'), 'prepared_unit': Value('string')}),\n",
       " 'nutriscore_grade': Value('string'),\n",
       " 'nutriscore_score': Value('int32'),\n",
       " 'nutrition_data_per': Value('string'),\n",
       " 'obsolete': Value('bool'),\n",
       " 'origins_tags': List(Value('string')),\n",
       " 'origins': Value('string'),\n",
       " 'owner_fields': List({'field_name': Value('string'), 'timestamp': Value('int64')}),\n",
       " 'owner': Value('string'),\n",
       " 'packagings_complete': Value('bool'),\n",
       " 'packaging_recycling_tags': List(Value('string')),\n",
       " 'packaging_shapes_tags': List(Value('string')),\n",
       " 'packaging_tags': List(Value('string')),\n",
       " 'packaging_text': List({'lang': Value('string'), 'text': Value('string')}),\n",
       " 'packaging': Value('string'),\n",
       " 'packagings': List({'material': Value('string'), 'number_of_units': Value('int64'), 'quantity_per_unit': Value('string'), 'quantity_per_unit_unit': Value('string'), 'quantity_per_unit_value': Value('string'), 'recycling': Value('string'), 'shape': Value('string'), 'weight_measured': Value('float32')}),\n",
       " 'photographers': List(Value('string')),\n",
       " 'popularity_key': Value('int64'),\n",
       " 'popularity_tags': List(Value('string')),\n",
       " 'product_name': List({'lang': Value('string'), 'text': Value('string')}),\n",
       " 'product_quantity_unit': Value('string'),\n",
       " 'product_quantity': Value('string'),\n",
       " 'purchase_places_tags': List(Value('string')),\n",
       " 'quantity': Value('string'),\n",
       " 'rev': Value('int32'),\n",
       " 'scans_n': Value('int32'),\n",
       " 'serving_quantity': Value('string'),\n",
       " 'serving_size': Value('string'),\n",
       " 'states_tags': List(Value('string')),\n",
       " 'stores_tags': List(Value('string')),\n",
       " 'stores': Value('string'),\n",
       " 'traces_tags': List(Value('string')),\n",
       " 'unique_scans_n': Value('int32'),\n",
       " 'unknown_ingredients_n': Value('int32'),\n",
       " 'unknown_nutrients_tags': List(Value('string')),\n",
       " 'vitamins_tags': List(Value('string')),\n",
       " 'with_non_nutritive_sweeteners': Value('int32'),\n",
       " 'with_sweeteners': Value('int32')}"
      ]
     },
     "execution_count": 43,
     "metadata": {},
     "output_type": "execute_result"
    }
   ],
   "source": [
    "ds.features"
   ]
  },
  {
   "cell_type": "code",
   "execution_count": 47,
   "id": "563480e9",
   "metadata": {},
   "outputs": [
    {
     "name": "stdout",
     "output_type": "stream",
     "text": [
      "{'additives_n': 12, 'additives_tags': ['en:e150c', 'en:e160c', 'en:e296', 'en:e306', 'en:e319', 'en:e330', 'en:e451', 'en:e452', 'en:e466', 'en:e500', 'en:e621', 'en:e635'], 'brands': 'Yum Yum', 'code': '8852018101055', 'compared_to_category': 'en:dehydrated-asian-style-soup-with-noodles', 'images': [{'key': '37', 'imgid': None, 'rev': None, 'sizes': {'100': {'h': 30, 'w': 100}, '200': None, '400': {'h': 120, 'w': 400}, 'full': {'h': 484, 'w': 1620}}, 'uploaded_t': 1708788910, 'uploader': 'gourmet'}, {'key': '10', 'imgid': None, 'rev': None, 'sizes': {'100': {'h': 37, 'w': 100}, '200': None, '400': {'h': 149, 'w': 400}, 'full': {'h': 1200, 'w': 3225}}, 'uploaded_t': 1525447555, 'uploader': 'kiliweb'}, {'key': '13', 'imgid': None, 'rev': None, 'sizes': {'100': {'h': 74, 'w': 100}, '200': None, '400': {'h': 295, 'w': 400}, 'full': {'h': 1200, 'w': 1629}}, 'uploaded_t': 1578780558, 'uploader': 'kiliweb'}, {'key': '14', 'imgid': None, 'rev': None, 'sizes': {'100': {'h': 50, 'w': 100}, '200': None, '400': {'h': 201, 'w': 400}, 'full': {'h': 1724, 'w': 3423}}, 'uploaded_t': 1579652278, 'uploader': 'loopinglalo'}, {'key': '27', 'imgid': None, 'rev': None, 'sizes': {'100': {'h': 77, 'w': 100}, '200': None, '400': {'h': 307, 'w': 400}, 'full': {'h': 307, 'w': 400}}, 'uploaded_t': 1687174635, 'uploader': 'foodvisor'}, {'key': '9', 'imgid': None, 'rev': None, 'sizes': {'100': {'h': 100, 'w': 75}, '200': None, '400': {'h': 400, 'w': 300}, 'full': {'h': 3264, 'w': 2448}}, 'uploaded_t': 1525258536, 'uploader': 'openfoodfacts-contributors'}, {'key': '11', 'imgid': None, 'rev': None, 'sizes': {'100': {'h': 100, 'w': 38}, '200': None, '400': {'h': 400, 'w': 153}, 'full': {'h': 1200, 'w': 458}}, 'uploaded_t': 1525622962, 'uploader': 'kiliweb'}, {'key': '38', 'imgid': None, 'rev': None, 'sizes': {'100': {'h': 73, 'w': 100}, '200': None, '400': {'h': 293, 'w': 400}, 'full': {'h': 921, 'w': 1256}}, 'uploaded_t': 1708788994, 'uploader': 'gourmet'}, {'key': '6', 'imgid': None, 'rev': None, 'sizes': {'100': {'h': 40, 'w': 100}, '200': None, '400': {'h': 160, 'w': 400}, 'full': {'h': 1200, 'w': 2997}}, 'uploaded_t': 1523722673, 'uploader': 'kiliweb'}, {'key': '19', 'imgid': None, 'rev': None, 'sizes': {'100': {'h': 100, 'w': 75}, '200': None, '400': {'h': 400, 'w': 300}, 'full': {'h': 4032, 'w': 3024}}, 'uploaded_t': 1636358208, 'uploader': 'openfoodfacts-contributors'}, {'key': '2', 'imgid': None, 'rev': None, 'sizes': {'100': {'h': 100, 'w': 75}, '200': None, '400': {'h': 400, 'w': 300}, 'full': {'h': 3264, 'w': 2448}}, 'uploaded_t': 1425247578, 'uploader': 'openfoodfacts-contributors'}, {'key': '25', 'imgid': None, 'rev': None, 'sizes': {'100': {'h': 22, 'w': 100}, '200': None, '400': {'h': 88, 'w': 400}, 'full': {'h': 441, 'w': 1996}}, 'uploaded_t': 1674312459, 'uploader': 'gourmet'}, {'key': '3', 'imgid': None, 'rev': None, 'sizes': {'100': {'h': 56, 'w': 100}, '200': None, '400': {'h': 225, 'w': 400}, 'full': {'h': 1125, 'w': 2000}}, 'uploaded_t': 1438538576, 'uploader': 'titellle'}, {'key': '35', 'imgid': None, 'rev': None, 'sizes': {'100': {'h': 60, 'w': 100}, '200': None, '400': {'h': 239, 'w': 400}, 'full': {'h': 953, 'w': 1594}}, 'uploaded_t': 1699898012, 'uploader': 'healthysamurai'}, {'key': '4', 'imgid': None, 'rev': None, 'sizes': {'100': {'h': 56, 'w': 100}, '200': None, '400': {'h': 225, 'w': 400}, 'full': {'h': 1125, 'w': 2000}}, 'uploaded_t': 1453495505, 'uploader': 'openfoodfacts-contributors'}, {'key': '45', 'imgid': None, 'rev': None, 'sizes': {'100': {'h': 100, 'w': 100}, '200': None, '400': {'h': 200, 'w': 200}, 'full': {'h': 200, 'w': 200}}, 'uploaded_t': 1736087017, 'uploader': 'prepperapp'}, {'key': '12', 'imgid': None, 'rev': None, 'sizes': {'100': {'h': 90, 'w': 100}, '200': None, '400': {'h': 359, 'w': 400}, 'full': {'h': 359, 'w': 400}}, 'uploaded_t': 1573939771, 'uploader': 'date-limite-app'}, {'key': '16', 'imgid': None, 'rev': None, 'sizes': {'100': {'h': 83, 'w': 100}, '200': None, '400': {'h': 331, 'w': 400}, 'full': {'h': 1200, 'w': 1451}}, 'uploaded_t': 1582911074, 'uploader': 'kiliweb'}, {'key': '28', 'imgid': None, 'rev': None, 'sizes': {'100': {'h': 100, 'w': 75}, '200': None, '400': {'h': 400, 'w': 300}, 'full': {'h': 4624, 'w': 3472}}, 'uploaded_t': 1688801001, 'uploader': 'smoothie-app'}, {'key': '21', 'imgid': None, 'rev': None, 'sizes': {'100': {'h': 100, 'w': 45}, '200': None, '400': {'h': 400, 'w': 180}, 'full': {'h': 4000, 'w': 1800}}, 'uploaded_t': 1669246350, 'uploader': 'openfoodfacts-contributors'}, {'key': '17', 'imgid': None, 'rev': None, 'sizes': {'100': {'h': 100, 'w': 86}, '200': None, '400': {'h': 400, 'w': 344}, 'full': {'h': 1200, 'w': 1031}}, 'uploaded_t': 1582911074, 'uploader': 'kiliweb'}, {'key': '7', 'imgid': None, 'rev': None, 'sizes': {'100': {'h': 90, 'w': 100}, '200': None, '400': {'h': 359, 'w': 400}, 'full': {'h': 1200, 'w': 1338}}, 'uploaded_t': 1525184110, 'uploader': 'kiliweb'}, {'key': '40', 'imgid': None, 'rev': None, 'sizes': {'100': {'h': 30, 'w': 100}, '200': None, '400': {'h': 120, 'w': 400}, 'full': {'h': 482, 'w': 1613}}, 'uploaded_t': 1708789109, 'uploader': 'gourmet'}, {'key': '24', 'imgid': None, 'rev': None, 'sizes': {'100': {'h': 73, 'w': 100}, '200': None, '400': {'h': 293, 'w': 400}, 'full': {'h': 1170, 'w': 1598}}, 'uploaded_t': 1674312456, 'uploader': 'gourmet'}, {'key': '30', 'imgid': None, 'rev': None, 'sizes': {'100': {'h': 100, 'w': 75}, '200': None, '400': {'h': 400, 'w': 300}, 'full': {'h': 4624, 'w': 3472}}, 'uploaded_t': 1688801018, 'uploader': 'smoothie-app'}, {'key': '23', 'imgid': None, 'rev': None, 'sizes': {'100': {'h': 77, 'w': 100}, '200': None, '400': {'h': 307, 'w': 400}, 'full': {'h': 872, 'w': 1136}}, 'uploaded_t': 1674312451, 'uploader': 'gourmet'}, {'key': '20', 'imgid': None, 'rev': None, 'sizes': {'100': {'h': 100, 'w': 100}, '200': None, '400': {'h': 400, 'w': 400}, 'full': {'h': 750, 'w': 750}}, 'uploaded_t': 1643821775, 'uploader': 'grumpf'}, {'key': '33', 'imgid': None, 'rev': None, 'sizes': {'100': {'h': 44, 'w': 100}, '200': None, '400': {'h': 176, 'w': 400}, 'full': {'h': 792, 'w': 1805}}, 'uploaded_t': 1699897910, 'uploader': 'healthysamurai'}, {'key': '44', 'imgid': None, 'rev': None, 'sizes': {'100': {'h': 77, 'w': 100}, '200': None, '400': {'h': 306, 'w': 400}, 'full': {'h': 306, 'w': 400}}, 'uploaded_t': 1728922612, 'uploader': 'foodvisor'}, {'key': '34', 'imgid': None, 'rev': None, 'sizes': {'100': {'h': 57, 'w': 100}, '200': None, '400': {'h': 230, 'w': 400}, 'full': {'h': 1199, 'w': 2089}}, 'uploaded_t': 1699897961, 'uploader': 'healthysamurai'}, {'key': '31', 'imgid': None, 'rev': None, 'sizes': {'100': {'h': 100, 'w': 75}, '200': None, '400': {'h': 400, 'w': 300}, 'full': {'h': 4624, 'w': 3472}}, 'uploaded_t': 1688801026, 'uploader': 'smoothie-app'}, {'key': '18', 'imgid': None, 'rev': None, 'sizes': {'100': {'h': 34, 'w': 100}, '200': None, '400': {'h': 137, 'w': 400}, 'full': {'h': 871, 'w': 2548}}, 'uploaded_t': 1612870285, 'uploader': 'predatorix'}, {'key': '26', 'imgid': None, 'rev': None, 'sizes': {'100': {'h': 100, 'w': 56}, '200': None, '400': {'h': 400, 'w': 225}, 'full': {'h': 1280, 'w': 720}}, 'uploaded_t': 1686089213, 'uploader': 'insectproductadd'}, {'key': '22', 'imgid': None, 'rev': None, 'sizes': {'100': {'h': 77, 'w': 100}, '200': None, '400': {'h': 308, 'w': 400}, 'full': {'h': 1386, 'w': 1800}}, 'uploaded_t': 1669246351, 'uploader': 'openfoodfacts-contributors'}, {'key': '39', 'imgid': None, 'rev': None, 'sizes': {'100': {'h': 75, 'w': 100}, '200': None, '400': {'h': 299, 'w': 400}, 'full': {'h': 438, 'w': 586}}, 'uploaded_t': 1708789020, 'uploader': 'gourmet'}, {'key': '46', 'imgid': None, 'rev': None, 'sizes': {'100': {'h': 77, 'w': 100}, '200': None, '400': {'h': 306, 'w': 400}, 'full': {'h': 306, 'w': 400}}, 'uploaded_t': 1736250180, 'uploader': 'foodvisor'}, {'key': '42', 'imgid': None, 'rev': None, 'sizes': {'100': {'h': 100, 'w': 86}, '200': None, '400': {'h': 400, 'w': 346}, 'full': {'h': 925, 'w': 800}}, 'uploaded_t': 1727109370, 'uploader': 'prepperapp'}, {'key': '15', 'imgid': None, 'rev': None, 'sizes': {'100': {'h': 79, 'w': 100}, '200': None, '400': {'h': 316, 'w': 400}, 'full': {'h': 2322, 'w': 2943}}, 'uploaded_t': 1586002720, 'uploader': 'zenitsu'}, {'key': '1', 'imgid': None, 'rev': None, 'sizes': {'100': {'h': 100, 'w': 75}, '200': None, '400': {'h': 400, 'w': 300}, 'full': {'h': 3264, 'w': 2448}}, 'uploaded_t': 1425247571, 'uploader': 'openfoodfacts-contributors'}, {'key': '29', 'imgid': None, 'rev': None, 'sizes': {'100': {'h': 100, 'w': 75}, '200': None, '400': {'h': 400, 'w': 300}, 'full': {'h': 4624, 'w': 3472}}, 'uploaded_t': 1688801010, 'uploader': 'smoothie-app'}, {'key': '32', 'imgid': None, 'rev': None, 'sizes': {'100': {'h': 82, 'w': 100}, '200': None, '400': {'h': 328, 'w': 400}, 'full': {'h': 1554, 'w': 1894}}, 'uploaded_t': 1699897811, 'uploader': 'healthysamurai'}, {'key': '36', 'imgid': None, 'rev': None, 'sizes': {'100': {'h': 77, 'w': 100}, '200': None, '400': {'h': 306, 'w': 400}, 'full': {'h': 1274, 'w': 1663}}, 'uploaded_t': 1708788730, 'uploader': 'gourmet'}, {'key': '5', 'imgid': None, 'rev': None, 'sizes': {'100': {'h': 32, 'w': 100}, '200': None, '400': {'h': 127, 'w': 400}, 'full': {'h': 739, 'w': 2327}}, 'uploaded_t': 1514036285, 'uploader': 'kiliweb'}, {'key': '8', 'imgid': None, 'rev': None, 'sizes': {'100': {'h': 100, 'w': 75}, '200': None, '400': {'h': 400, 'w': 300}, 'full': {'h': 3264, 'w': 2448}}, 'uploaded_t': 1525258501, 'uploader': 'openfoodfacts-contributors'}, {'key': 'front_fr', 'imgid': 36, 'rev': 177, 'sizes': {'100': {'h': 77, 'w': 100}, '200': {'h': 153, 'w': 200}, '400': {'h': 306, 'w': 400}, 'full': {'h': 1274, 'w': 1663}}, 'uploaded_t': None, 'uploader': None}, {'key': 'front_de', 'imgid': 36, 'rev': 171, 'sizes': {'100': {'h': 77, 'w': 100}, '200': {'h': 153, 'w': 200}, '400': {'h': 306, 'w': 400}, 'full': {'h': 1274, 'w': 1663}}, 'uploaded_t': None, 'uploader': None}, {'key': 'front_fi', 'imgid': 36, 'rev': 185, 'sizes': {'100': {'h': 77, 'w': 100}, '200': {'h': 153, 'w': 200}, '400': {'h': 306, 'w': 400}, 'full': {'h': 1274, 'w': 1663}}, 'uploaded_t': None, 'uploader': None}, {'key': 'front_en', 'imgid': 36, 'rev': 163, 'sizes': {'100': {'h': 77, 'w': 100}, '200': {'h': 153, 'w': 200}, '400': {'h': 306, 'w': 400}, 'full': {'h': 1274, 'w': 1663}}, 'uploaded_t': None, 'uploader': None}, {'key': 'front_th', 'imgid': 36, 'rev': 186, 'sizes': {'100': {'h': 77, 'w': 100}, '200': {'h': 153, 'w': 200}, '400': {'h': 306, 'w': 400}, 'full': {'h': 1274, 'w': 1663}}, 'uploaded_t': None, 'uploader': None}, {'key': 'packaging_de', 'imgid': 39, 'rev': 175, 'sizes': {'100': {'h': 75, 'w': 100}, '200': {'h': 149, 'w': 200}, '400': {'h': 299, 'w': 400}, 'full': {'h': 438, 'w': 586}}, 'uploaded_t': None, 'uploader': None}, {'key': 'packaging_fi', 'imgid': 35, 'rev': 154, 'sizes': {'100': {'h': 60, 'w': 100}, '200': {'h': 120, 'w': 200}, '400': {'h': 239, 'w': 400}, 'full': {'h': 953, 'w': 1594}}, 'uploaded_t': None, 'uploader': None}, {'key': 'packaging_en', 'imgid': 39, 'rev': 170, 'sizes': {'100': {'h': 75, 'w': 100}, '200': {'h': 149, 'w': 200}, '400': {'h': 299, 'w': 400}, 'full': {'h': 438, 'w': 586}}, 'uploaded_t': None, 'uploader': None}, {'key': 'packaging_fr', 'imgid': 39, 'rev': 180, 'sizes': {'100': {'h': 75, 'w': 100}, '200': {'h': 149, 'w': 200}, '400': {'h': 299, 'w': 400}, 'full': {'h': 438, 'w': 586}}, 'uploaded_t': None, 'uploader': None}, {'key': 'ingredients_de', 'imgid': 40, 'rev': 173, 'sizes': {'100': {'h': 30, 'w': 100}, '200': {'h': 60, 'w': 200}, '400': {'h': 120, 'w': 400}, 'full': {'h': 482, 'w': 1613}}, 'uploaded_t': None, 'uploader': None}, {'key': 'ingredients_fr', 'imgid': 6, 'rev': 178, 'sizes': {'100': {'h': 40, 'w': 100}, '200': {'h': 80, 'w': 200}, '400': {'h': 160, 'w': 400}, 'full': {'h': 1200, 'w': 2997}}, 'uploaded_t': None, 'uploader': None}, {'key': 'ingredients_en', 'imgid': 37, 'rev': 165, 'sizes': {'100': {'h': 30, 'w': 100}, '200': {'h': 60, 'w': 200}, '400': {'h': 120, 'w': 400}, 'full': {'h': 484, 'w': 1620}}, 'uploaded_t': None, 'uploader': None}, {'key': 'ingredients_fi', 'imgid': 33, 'rev': 150, 'sizes': {'100': {'h': 44, 'w': 100}, '200': {'h': 88, 'w': 200}, '400': {'h': 176, 'w': 400}, 'full': {'h': 792, 'w': 1805}}, 'uploaded_t': None, 'uploader': None}, {'key': 'ingredients_th', 'imgid': 22, 'rev': 111, 'sizes': {'100': {'h': 77, 'w': 100}, '200': {'h': 154, 'w': 200}, '400': {'h': 308, 'w': 400}, 'full': {'h': 1386, 'w': 1800}}, 'uploaded_t': None, 'uploader': None}, {'key': 'nutrition_fi', 'imgid': 34, 'rev': 152, 'sizes': {'100': {'h': 57, 'w': 100}, '200': {'h': 115, 'w': 200}, '400': {'h': 230, 'w': 400}, 'full': {'h': 1199, 'w': 2089}}, 'uploaded_t': None, 'uploader': None}, {'key': 'nutrition_en', 'imgid': 38, 'rev': 167, 'sizes': {'100': {'h': 73, 'w': 100}, '200': {'h': 147, 'w': 200}, '400': {'h': 293, 'w': 400}, 'full': {'h': 921, 'w': 1256}}, 'uploaded_t': None, 'uploader': None}, {'key': 'nutrition_fr', 'imgid': 38, 'rev': 179, 'sizes': {'100': {'h': 73, 'w': 100}, '200': {'h': 147, 'w': 200}, '400': {'h': 293, 'w': 400}, 'full': {'h': 921, 'w': 1256}}, 'uploaded_t': None, 'uploader': None}, {'key': 'nutrition_de', 'imgid': 38, 'rev': 174, 'sizes': {'100': {'h': 73, 'w': 100}, '200': {'h': 147, 'w': 200}, '400': {'h': 293, 'w': 400}, 'full': {'h': 921, 'w': 1256}}, 'uploaded_t': None, 'uploader': None}], 'ingredients_analysis_tags': ['en:palm-oil', 'en:non-vegan', 'en:non-vegetarian'], 'ingredients_tags': ['en:wheat-flour', 'en:cereal', 'en:flour', 'en:wheat', 'en:cereal-flour', 'en:palm-oil', 'en:oil-and-fat', 'en:vegetable-oil-and-fat', 'en:palm-oil-and-fat', 'en:tapioca', 'en:starch', 'en:salt', 'en:sugar', 'en:added-sugar', 'en:disaccharide', 'en:vegetable', 'en:spice', 'en:condiment', 'en:flavour-enhancer', 'en:e635', 'en:acid', 'en:e330', 'de:soja-saucenpulver', 'en:acidity-regulator', 'en:e452', 'en:e451', 'en:maltodextrin', 'en:corn-starch', 'de:fisch-sauce', 'en:shrimp', 'en:shellfish', 'en:crustacean', 'en:lemongrass', 'en:herb', 'en:flavouring', 'en:thickener', 'en:yeast-extract', 'en:yeast', 'en:colour', 'en:antioxidant', 'en:e306', 'en:garlic', 'en:root-vegetable', 'en:onion-family-vegetable', 'en:onion', 'en:spring-onion', 'en:chili-pepper', 'en:fruit-vegetable', 'en:galangal', 'en:e621', 'en:e296', 'en:soya-bean', 'en:legume', 'en:pulse', 'en:soya', 'en:glucose-syrup', 'en:monosaccharide', 'en:glucose', 'en:e500', 'en:anchovy', 'en:fish', 'en:oily-fish', 'en:e466', 'en:e160c', 'en:e319', 'en:e150a'], 'ingredients_text': [{'lang': 'main', 'text': '_Weizen_mehl, Palmöl (Palmöl, Antioxidationsmittel: E319, E306), Tapiokastärke, Salz, Zucker, Gemüse (Knoblauch, Zwiebel, Frühlingszwiebel), Gewürze (Chili, Galgant), Geschmacksverstärker: E621, E635, Säuerungsmittel: E296, E330, _Soja_saucenpulver (_Soja_bohnen, Glukosesirup, Maltodextrin, Farbstoff: E150c), Säureregulatoren: E500, E452, E451, Maltodextrin, Maisstärke, _Fisch_sauce (_Sardellen_extrakt, Salz, Zucker), _Garnelen_ 0,2%, Zitronengras, Aroma, Verdickungsmittel: E466, Hefeextrakt, Farbstoff: E160c.'}, {'lang': 'en', 'text': '<span class=\"allergen\">WHEAT</span> </span>flour (<span class=\"allergen\">GLUTEN</span>), palm oil (palm oil, antioxidant: E306), salt, sugar, tapioca starch, modified tapioca starch, garlic, chilli 0.9%, flavour enhancers: E621, E635, acid: E330, maltodextrin, <span class=\"allergen\">SOY</span> </span>sauce powder (<span class=\"allergen\">SOYBEANS</span>, glucose syrup, maltodextrin, colour: E150c), corn starch, <span class=\"allergen\">FISH</span> </span>sauce (ANCHOVY extract [<span class=\"allergen\">FISH</span>], salt, sugar), seasoning (flavouring, maltodextrin, emulsifier: E322 [<span class=\"allergen\">SOYBEAN</span>], stabilizer: E414), onion, spring onion 0.1%, galangal 0.1%, <span class=\"allergen\">SHRIMP</span> (<span class=\"allergen\">CRUSTACEANS</span>) 0.1%, lemongrass 0.1%, anti-caking agent: E551'}, {'lang': 'fi', 'text': 'Nuudelit: VEHNÄjauho, Palmuöljy (palmuöljy, antioksidantti: E306), Tapiokatärkkelys, Muunneltu tärkkelys: E1442, Keittoliemi (aromi, hivauute, og arominvahventeet: E635), Suola, Sakeuttamisaineet: E466. ere: Mausteet: Sokeri, Palmuöljy (palmuöljy, antioksidantti: E306), Suola, Kasvikset up, (valkosipuli, sipuli, sipulinlehti), Mausteet ja yrtit (chili, galangal, sitruunarudio), tof Arominvahvenne: E621 E635, Happo: E330, Maltodekstriini, <span class=\"allergen\">SOIJA</span> </span>kastikejane c. (<span class=\"allergen\">SOIJApapu</span>, glukoosisiirappi, väri : E150c), Maissitärkkelys, <span class=\"allergen\">KALAkastike</span> (ANJOS). <span class=\"allergen\">KATKARAPU</span> (0,1%), Aromi (<span class=\"allergen\">SOIJAlesitiini</span>, stabilointiaine E414), Paakkuuntumisenestine: E551 [nano], Väri: 160c. Tämä tuote sisältää maitoa, <span class=\"allergen\">selleriä</span> ja <span class=\"allergen\">seesaminsiemenistä</span>.'}, {'lang': 'de', 'text': '<span class=\"allergen\">Weizen</span>mehl, Palmöl (Palmöl, Antioxidationsmittel: E319, E306), Tapiokastärke, Salz, Zucker, Gemüse (Knoblauch, Zwiebel, Frühlingszwiebel), Gewürze (Chili, Galgant), Geschmacksverstärker: E621, E635, Säuerungsmittel: E296, E330, <span class=\"allergen\">Soja</span>saucenpulver (<span class=\"allergen\">Soja</span>bohnen, Glukosesirup, Maltodextrin, Farbstoff: E150c), Säureregulatoren: E500, E452, E451, Maltodextrin, Maisstärke, <span class=\"allergen\">Fisch</span>sauce (<span class=\"allergen\">Sardellen</span>extrakt, Salz, Zucker), <span class=\"allergen\">Garnelen</span> 0,2%, Zitronengras, Aroma, Verdickungsmittel: E466, Hefeextrakt, Farbstoff: E160c.'}, {'lang': 'fi', 'text': 'Nuudelit: VEHNÄjauho, Palmuöljy (palmuöljy, antioksidantti: E306), Tapiokatärkkelys, Muunneltu tärkkelys: E1442, Keittoliemi (aromi, hivauute, og arominvahventeet: E635), Suola, Sakeuttamisaineet: E466. ere: Mausteet: Sokeri, Palmuöljy (palmuöljy, antioksidantti: E306), Suola, Kasvikset up, (valkosipuli, sipuli, sipulinlehti), Mausteet ja yrtit (chili, galangal, sitruunarudio), tof Arominvahvenne: E621 E635, Happo: E330, Maltodekstriini, SOIJA kastikejane c. (SOIJApapu, glukoosisiirappi, väri : E150c), Maissitärkkelys, KALAkastike (ANJOS). KATKARAPU (0,1%), Aromi (SOIJAlesitiini, stabilointiaine E414), Paakkuuntumisenestine: E551 [nano], Väri: 160c. Tämä tuote sisältää maitoa, selleriä ja seesaminsiemenistä.'}, {'lang': 'fr', 'text': \"farine de _blé_ tendre (53%), huile végétale de palme (antioxydants: E319, E320),poudre de tapioca et de maïs,sel,sucre,mélange de légumes en proportion variable (piment,galanga);exhausteurs de goût: E621, E627, E631; acidifiant E296, E330, E331, E500, E501; sauce de  _soja_  en poudre (fève de _soja_ ,sirop de glucose), épaississants : E466, E412; stabilisant E1400, correcteur d'acidité: E452, mélange d'herbes aromatiques en proportion variable (citronnelle, feuilles de bergamote),_crevettes_,sauce de _poisson_,anti-agglomérants : E551, colorants: E150c, E160c; arômes,extrait de levure.\"}, {'lang': 'fr', 'text': 'farine de <span class=\"allergen\">blé</span> tendre (53%), huile végétale de palme (antioxydants: E319, E320),poudre de tapioca et de maïs,sel,sucre,mélange de légumes en proportion variable (piment,galanga);exhausteurs de goût: E621, E627, E631; acidifiant E296, E330, E331, E500, E501; sauce de  <span class=\"allergen\">soja</span>  en poudre (fève de <span class=\"allergen\">soja</span> ,sirop de glucose), épaississants : E466, E412; stabilisant E1400, correcteur d\\'acidité: E452, mélange d\\'herbes aromatiques en proportion variable (citronnelle, feuilles de bergamote),<span class=\"allergen\">crevettes</span>,sauce de <span class=\"allergen\">poisson</span>,anti-agglomérants : E551, colorants: E150c, E160c; arômes,extrait de levure.'}, {'lang': 'de', 'text': '_Weizen_mehl, Palmöl (Palmöl, Antioxidationsmittel: E319, E306), Tapiokastärke, Salz, Zucker, Gemüse (Knoblauch, Zwiebel, Frühlingszwiebel), Gewürze (Chili, Galgant), Geschmacksverstärker: E621, E635, Säuerungsmittel: E296, E330, _Soja_saucenpulver (_Soja_bohnen, Glukosesirup, Maltodextrin, Farbstoff: E150c), Säureregulatoren: E500, E452, E451, Maltodextrin, Maisstärke, _Fisch_sauce (_Sardellen_extrakt, Salz, Zucker), _Garnelen_ 0,2%, Zitronengras, Aroma, Verdickungsmittel: E466, Hefeextrakt, Farbstoff: E160c.'}, {'lang': 'en', 'text': 'WHEAT flour (GLUTEN), palm oil (palm oil, antioxidant: E306), salt, sugar, tapioca starch, modified tapioca starch, garlic, chilli 0.9%, flavour enhancers: E621, E635, acid: E330, maltodextrin, SOY sauce powder (SOYBEANS, glucose syrup, maltodextrin, colour: E150c), corn starch, FISH sauce (ANCHOVY extract [FISH], salt, sugar), seasoning (flavouring, maltodextrin, emulsifier: E322 [SOYBEAN], stabilizer: E414), onion, spring onion 0.1%, galangal 0.1%, SHRIMP (CRUSTACEANS) 0.1%, lemongrass 0.1%, anti-caking agent: E551'}], 'lang': 'de', 'languages_tags': ['en:arabic', 'en:english', 'en:finnish', 'en:french', 'en:german', 'en:thai', 'en:6', 'en:multilingual'], 'minerals_tags': [], 'nutrient_levels_tags': [], 'nutriments': [{'name': 'saturated-fat', 'value': 1.7999999523162842, '100g': 1.7999999523162842, 'serving': 1.0800000429153442, 'unit': 'g', 'prepared_value': None, 'prepared_100g': None, 'prepared_serving': None, 'prepared_unit': 'g'}, {'name': 'carbohydrates', 'value': 8.699999809265137, '100g': 8.699999809265137, 'serving': 5.21999979019165, 'unit': 'g', 'prepared_value': None, 'prepared_100g': None, 'prepared_serving': None, 'prepared_unit': 'g'}, {'name': 'sodium', 'value': 0.335999995470047, '100g': 0.335999995470047, 'serving': 0.20200000703334808, 'unit': 'g', 'prepared_value': None, 'prepared_100g': None, 'prepared_serving': None, 'prepared_unit': 'g'}, {'name': 'energy', 'value': 325.0, '100g': 325.0, 'serving': 195.0, 'unit': 'kJ', 'prepared_value': None, 'prepared_100g': None, 'prepared_serving': None, 'prepared_unit': 'kJ'}, {'name': 'nova-group', 'value': None, '100g': 4.0, 'serving': 4.0, 'unit': None, 'prepared_value': None, 'prepared_100g': None, 'prepared_serving': None, 'prepared_unit': None}, {'name': 'fiber', 'value': 0.0, '100g': 0.0, 'serving': 0.0, 'unit': 'g', 'prepared_value': None, 'prepared_100g': None, 'prepared_serving': None, 'prepared_unit': None}, {'name': 'sugars', 'value': 0.4000000059604645, '100g': 0.4000000059604645, 'serving': 0.23999999463558197, 'unit': 'g', 'prepared_value': None, 'prepared_100g': None, 'prepared_serving': None, 'prepared_unit': 'g'}, {'name': 'alcohol', 'value': 0.0, '100g': 0.0, 'serving': 0.0, 'unit': '% vol', 'prepared_value': None, 'prepared_100g': None, 'prepared_serving': None, 'prepared_unit': None}, {'name': 'carbon-footprint-from-known-ingredients', 'value': None, '100g': None, 'serving': 1.2799999713897705, 'unit': None, 'prepared_value': None, 'prepared_100g': None, 'prepared_serving': None, 'prepared_unit': None}, {'name': 'fruits-vegetables-legumes-estimate-from-ingredients', 'value': None, '100g': 0.699999988079071, 'serving': 0.699999988079071, 'unit': None, 'prepared_value': None, 'prepared_100g': None, 'prepared_serving': None, 'prepared_unit': None}, {'name': 'proteins', 'value': 1.2000000476837158, '100g': 1.2000000476837158, 'serving': 0.7200000286102295, 'unit': 'g', 'prepared_value': None, 'prepared_100g': None, 'prepared_serving': None, 'prepared_unit': 'g'}, {'name': 'energy-kcal', 'value': 78.0, '100g': 78.0, 'serving': 46.79999923706055, 'unit': 'kcal', 'prepared_value': None, 'prepared_100g': None, 'prepared_serving': None, 'prepared_unit': 'kcal'}, {'name': 'energy-kj', 'value': 325.0, '100g': 325.0, 'serving': 195.0, 'unit': 'kJ', 'prepared_value': None, 'prepared_100g': None, 'prepared_serving': None, 'prepared_unit': 'kJ'}, {'name': 'salt', 'value': 0.8399999737739563, '100g': 0.8399999737739563, 'serving': 0.5040000081062317, 'unit': 'g', 'prepared_value': None, 'prepared_100g': None, 'prepared_serving': None, 'prepared_unit': 'g'}, {'name': 'fat', 'value': 4.099999904632568, '100g': 4.099999904632568, 'serving': 2.4600000381469727, 'unit': 'g', 'prepared_value': None, 'prepared_100g': None, 'prepared_serving': None, 'prepared_unit': 'g'}, {'name': 'fruits-vegetables-nuts-estimate-from-ingredients', 'value': None, '100g': 0.699999988079071, 'serving': 0.699999988079071, 'unit': None, 'prepared_value': None, 'prepared_100g': None, 'prepared_serving': None, 'prepared_unit': None}], 'product_name': [{'lang': 'main', 'text': 'Shrimp Flavour'}, {'lang': 'fi', 'text': 'Yum Yum - Shrimp Flavour'}, {'lang': 'en', 'text': 'Instantnudeln mit Shrimpgeschmack'}, {'lang': 'ar', 'text': 'بشير  محمد'}, {'lang': 'fr', 'text': 'Nouille instantanées saveur crevettes'}, {'lang': 'de', 'text': 'Shrimp Flavour'}, {'lang': 'th', 'text': 'Instand Noodles Shrimp Flavour'}], 'vitamins_tags': [], 'image_url': 'https://images.openfoodfacts.org/images/products/885/201/810/105/5/front_fr.177.400.jpg'}\n"
     ]
    }
   ],
   "source": [
    "#search for a sample in ds with code 3017620422003\n",
    "for sample in ds:\n",
    "    if sample['code'] == '8852018101055':\n",
    "        print(sample)\n",
    "        break"
   ]
  },
  {
   "cell_type": "code",
   "execution_count": 9,
   "id": "2c6674d8",
   "metadata": {},
   "outputs": [
    {
     "name": "stdout",
     "output_type": "stream",
     "text": [
      "['en:camomile-flower', 'en:herb', 'en:camomile']\n",
      "['en:peppermint', 'en:herb', 'en:mint']\n",
      "['en:linden-flowers']\n",
      "['en:roselle-flower', 'en:plant']\n",
      "['en:tea', 'en:plant', 'en:cinnamon', 'en:condiment', 'en:spice', 'en:natural-apple-flavouring', 'en:flavouring', 'en:natural-flavouring']\n",
      "['en:green-tea', 'en:plant', 'en:tea']\n",
      "['en:shave-grass']\n",
      "['en:chamomile-spearmint']\n",
      "['en:artichoke-malva-senna-leaf-hibiscus-chamomile-natural-apple-flavor']\n",
      "['en:andropogon-citratus', 'en:uva-ursi', 'en:roselle-flower', 'en:plant', 'en:cinnamon', 'en:condiment', 'en:spice', 'en:equisetum-arvense', 'en:flourensia-cernua']\n",
      "['en:shave-grass', 'en:corn-silk', 'en:uva-ursi', 'en:juliana-adstringen', 'en:boldo', 'en:roselle-flower', 'en:plant', 'en:orange-blossom']\n",
      "['en:eucalyptus-licorice-ginger-elder-mullein-cinnamon-orange-blossom']\n",
      "['en:canola-oil-no-additives', 'en:preservative']\n",
      "['en:canola-oil', 'en:oil-and-fat', 'en:vegetable-oil-and-fat', 'en:rapeseed-oil', 'en:water', 'en:palm-oil', 'en:palm-oil-and-fat', 'en:palm-kernel-oil', 'en:palm-kernel-oil-and-fat', 'en:salt', 'en:whey-powder', 'en:dairy', 'en:whey', 'en:vegetable-mono-and-diglycerides', 'en:soya-lecithin', 'en:e322', 'en:e322i', 'en:e202', 'en:e330', 'en:artificial-flavouring', 'en:flavouring', 'en:vitamin-e', 'en:retinyl-palmitate', 'en:vitamins', 'en:vitamin-a', 'en:e160ai', 'en:e160a', 'en:cholecalciferol', 'en:vitamin-d', 'en:preservative', 'en:dl-alpha-tocopheryl-acetate']\n",
      "['en:canola-oil', 'en:oil-and-fat', 'en:vegetable-oil-and-fat', 'en:rapeseed-oil', 'en:water', 'en:palm-oil', 'en:palm-oil-and-fat', 'en:flax-oil', 'en:palm-kernel-oil', 'en:palm-kernel-oil-and-fat', 'en:whey-powder', 'en:dairy', 'en:whey', 'en:salt', 'en:vegetable-mono-and-diglycerides', 'en:soya-lecithin', 'en:e322', 'en:e322i', 'en:e202', 'en:e330', 'en:artificial-flavouring', 'en:flavouring', 'en:vitamin-e', 'en:e385', 'en:retinyl-palmitate', 'en:vitamins', 'en:vitamin-a', 'en:e160ai', 'en:e160a', 'en:cholecalciferol', 'en:vitamin-d', 'en:preservative', 'en:dl-alpha-tocopheryl-acetate', 'en:to-preserve-freshness']\n",
      "['en:rye-flour', 'en:flour', 'en:cereal-flour', 'en:water', 'en:wheat', 'en:cereal', 'en:malt', 'en:molasses', 'en:added-sugar', 'en:disaccharide', 'en:sugar', 'en:onion', 'en:vegetable', 'en:root-vegetable', 'en:onion-family-vegetable', 'en:yeast', 'en:caraway-seed', 'en:condiment', 'en:spice', 'en:caraway', 'en:salt']\n",
      "['en:sugar', 'en:added-sugar', 'en:disaccharide', 'en:cocoa-butter', 'en:plant', 'en:cocoa', 'en:skimmed-milk-powder', 'en:dairy', 'en:milk-powder', 'en:cocoa-paste', 'en:whey-powder', 'en:whey', 'en:lactose', 'en:milkfat', 'en:oil-and-fat', 'en:fat', 'en:emulsifier', 'en:natural-vanilla-extract', 'en:extract', 'en:vanilla', 'en:vegetable-extract', 'en:vanilla-extract', 'en:natural-extract', 'en:solids', 'en:cocoa-solids', 'en:soya-lecithin', 'en:e322', 'en:e322i']\n",
      "['en:sugar', 'en:added-sugar', 'en:disaccharide', 'en:cocoa-butter', 'en:plant', 'en:cocoa', 'en:skimmed-milk-powder', 'en:dairy', 'en:milk-powder', 'en:cocoa-paste', 'en:whey-powder', 'en:whey', 'en:lactose', 'en:milkfat', 'en:oil-and-fat', 'en:fat', 'en:emulsifier', 'en:natural-vanilla-extract', 'en:extract', 'en:vanilla', 'en:vegetable-extract', 'en:vanilla-extract', 'en:natural-extract', 'en:soya-lecithin', 'en:e322', 'en:e322i']\n",
      "['en:fortified-wheat-flour', 'en:cereal', 'en:flour', 'en:wheat', 'en:cereal-flour', 'en:wheat-flour', 'en:palm-oil', 'en:oil-and-fat', 'en:vegetable-oil-and-fat', 'en:palm-oil-and-fat', 'en:sugar', 'en:added-sugar', 'en:disaccharide', 'en:whole-wheat-flour', 'en:wholemeal-flour', 'en:cream-cheese', 'en:dairy', 'en:cheese', 'en:skimmed-milk', 'en:milk', 'en:oatmeal', 'en:skimmed-yogurt-powder', 'en:yogurt', 'en:skimmed-yogurt', 'en:whey', 'en:dextrose', 'en:monosaccharide', 'en:glucose', 'en:raising-agent', 'en:salt', 'en:wheat-starch', 'en:starch', 'en:natural-lemon-flavouring', 'en:flavouring', 'en:natural-flavouring', 'en:colour', 'en:calcium', 'en:minerals', 'en:iron', 'en:e375', 'en:thiamin', 'en:e500ii', 'en:e500', 'en:e503ii', 'en:e503', 'en:e160ai', 'en:e160a']\n",
      "['en:flour', 'en:milk-chocolate', 'en:chocolate', 'en:sugar', 'en:added-sugar', 'en:disaccharide', 'en:palm-oil', 'en:oil-and-fat', 'en:vegetable-oil-and-fat', 'en:palm-oil-and-fat', 'en:partially-inverted-sugar-syrup', 'en:monosaccharide', 'en:invert-sugar', 'en:sugar-syrup', 'en:invert-sugar-syrup', 'en:molasses', 'en:raising-agent', 'en:ginger-powder', 'en:condiment', 'en:spice', 'en:ginger', 'en:salt', 'en:natural-ginger-flavouring', 'en:flavouring', 'en:natural-flavouring', 'en:wheat-flour', 'en:cereal', 'en:wheat', 'en:cereal-flour', 'en:calcium', 'en:minerals', 'en:iron', 'en:e375', 'en:thiamin', 'en:cocoa-butter', 'en:plant', 'en:cocoa', 'en:skimmed-milk', 'en:dairy', 'en:milk', 'en:cocoa-paste', 'en:whey', 'en:butterfat', 'en:fat', 'en:milkfat', 'en:emulsifier', 'en:e500ii', 'en:e500', 'en:e450i', 'en:e450', 'en:soya-lecithin', 'en:e322', 'en:e322i']\n",
      "['en:black-chickpea-gram-flour', 'en:salt', 'en:raising-agent', 'en:e529', 'en:rice-flour', 'en:flour', 'en:rice', 'en:sunflower-oil', 'en:oil-and-fat', 'en:vegetable-oil-and-fat', 'en:vegetable-oil']\n",
      "['en:proteins-mix', 'en:milk-proteins', 'en:protein', 'en:animal-protein', 'de:hühnereiweiss', 'en:cocoa-powder', 'en:plant', 'en:cocoa', 'en:flavouring', 'en:vegetable-oil', 'en:oil-and-fat', 'en:vegetable-oil-and-fat', 'de:süßungsmittel-natriumsaccharin', 'en:e950', 'en:soy-protein', 'en:plant-protein', 'en:wheat-protein', 'en:whey-protein', 'de:wheyprotein', 'de:nur-sorte-schoko']\n",
      "['en:tea', 'en:plant', 'en:passion']\n",
      "['en:flour', 'en:water', 'en:sugar', 'en:added-sugar', 'en:disaccharide', 'en:yeast', 'en:ethoxylated-mon-diglycerides', 'en:salt', 'en:diacetyl-tartaric-acid-esters-of-monodiglycerides', 'en:e435', 'en:e516', 'en:soya-lecithin', 'en:e322', 'en:e322i', 'en:vegetable-fat', 'en:oil-and-fat', 'en:vegetable-oil-and-fat', 'en:e280', 'en:e924', 'en:e300', 'en:e281', 'en:l', 'en:cysteine', 'en:enzyme', 'en:e338', 'en:azodicarbonmide', 'en:wheat-flour', 'en:cereal', 'en:wheat', 'en:cereal-flour', 'en:malt-barley-flour', 'en:e375', 'en:ferrous-sulfate', 'en:minerals', 'en:iron', 'en:thiamin-mononitrate', 'en:thiamin', 'en:e101', 'en:folic-acid', 'en:folate', 'en:e472e', 'en:soya-bean', 'en:vegetable', 'en:legume', 'en:pulse', 'en:soya', 'en:cottonseed', 'en:seed', 'en:canola-oil', 'en:rapeseed-oil', 'en:preservative', 'en:ada']\n",
      "['en:flour', 'en:water', 'en:yeast', 'en:sugar', 'en:added-sugar', 'en:disaccharide', 'en:soya-oil', 'en:oil-and-fat', 'en:vegetable-oil-and-fat', 'en:vegetable-oil', 'en:rye-flour', 'en:cereal-flour', 'en:salt', 'en:spice', 'en:condiment', 'en:e260', 'en:e270', 'en:natural-flavouring', 'en:flavouring', 'en:wheat-flour', 'en:cereal', 'en:wheat', 'en:malt-barley-flour', 'en:e375', 'en:ferrous-sulfate', 'en:minerals', 'en:iron', 'en:thiamin-mononitrate', 'en:thiamin', 'en:e101', 'en:folic-acid', 'en:folate']\n",
      "['en:proteins-mix', 'en:milk-proteins', 'en:protein', 'en:animal-protein', 'de:hühnereiweiss', 'en:cocoa-powder', 'en:plant', 'en:cocoa', 'en:flavouring', 'en:vegetable-oil', 'en:oil-and-fat', 'en:vegetable-oil-and-fat', 'de:süßungsmittel-natriumsaccharin', 'en:e950', 'en:soy-protein', 'en:plant-protein', 'en:wheat-protein', 'en:whey-protein', 'de:wheyprotein', 'de:nur-sorte-schoko']\n",
      "['en:glucose-fructose-syrup', 'en:added-sugar', 'en:monosaccharide', 'en:fructose', 'en:glucose', 'en:sugar', 'en:disaccharide', 'en:cocoa-paste', 'en:plant', 'en:cocoa', 'en:cocoa-butter', 'en:teacher-s-blended-scotch-whisky', 'en:alcohol', 'en:lactose', 'en:whole-milk-powder', 'en:dairy', 'en:milk-powder', 'en:emulsifier', 'en:e322']\n",
      "['en:sugar', 'en:added-sugar', 'en:disaccharide', 'en:wheat-starch', 'en:starch', 'en:glucose-syrup', 'en:monosaccharide', 'en:glucose', 'en:soya', 'en:lactose', 'en:vegetable-fat', 'en:oil-and-fat', 'en:vegetable-oil-and-fat', 'en:cocoa-butter', 'en:plant', 'en:cocoa', 'en:cocoa-paste', 'en:whole-milk-powder', 'en:dairy', 'en:milk-powder', 'en:caramelised-sugar-syrup', 'en:caramel-syrup', 'en:dextrose', 'en:peanut', 'en:nut', 'en:hazelnut', 'en:tree-nut', 'en:glucose-fructose-syrup', 'en:fructose', 'en:vegetable-oil', 'en:emulsifier', 'en:humectant', 'en:rice-flour', 'en:flour', 'en:rice', 'en:flavouring', 'en:orange-zest', 'en:fruit', 'en:citrus-fruit', 'en:orange', 'en:acidity-regulator', 'en:egg-powder', 'en:egg', 'en:cocoa-solids', 'en:milk-solids', 'en:milk', 'en:chocolate', 'en:e322', 'en:e1103', 'en:e330', 'en:milk-chocolate']\n",
      "['en:banana-peppers', 'en:onion', 'en:vegetable', 'en:root-vegetable', 'en:onion-family-vegetable', 'en:high-fructose-corn-syrup', 'en:added-sugar', 'en:disaccharide', 'en:monosaccharide', 'en:fructose', 'en:glucose', 'en:corn-syrup', 'en:glucose-fructose-syrup', 'en:water', 'en:vinegar', 'en:salt', 'en:mustard-seed', 'en:condiment', 'en:mustard', 'en:spice', 'en:e509', 'en:e211', 'en:celery-seed', 'en:seed', 'en:stalk-vegetable', 'en:celery', 'en:natural-flavouring', 'en:flavouring', 'en:e433', 'en:e222', 'en:e102', 'en:preservative']\n",
      "['en:catsup', 'en:vinegar', 'en:brown-sugar', 'en:added-sugar', 'en:disaccharide', 'en:sugar', 'en:apricot', 'en:fruit', 'en:prunus-species-fruit', 'en:enzymes-pepper', 'en:garlic-salt', 'en:condiment', 'en:spice', 'en:mixed-spices', 'en:pepper', 'en:seed', 'en:liquid-smoke', 'en:smoke', 'en:worcestershire-sauce', 'en:sauce', 'en:secret-spices']\n",
      "['en:e420', 'en:gum-base', 'en:e965', 'en:e965ii', 'en:e967', 'en:e341ii', 'en:e341', 'en:natural-flavouring', 'en:flavouring', 'en:less-than-2-of', 'en:e422', 'en:vitamin-c', 'en:e414', 'en:vitamin-e', 'en:vitamin-a', 'en:vitamins', 'en:maltodextrin', 'en:e903', 'en:citrus-fruit-extract', 'en:fruit', 'en:citrus-fruit', 'en:e500ii', 'en:e500', 'en:e302', 'en:d-alpha-tocopheryl-acetate', 'en:retinyl-palmitate']\n",
      "['en:e420', 'en:gum-base', 'en:e965ii', 'en:e965', 'en:e967', 'en:natural-cinnamon-flavor', 'en:e341ii', 'en:e341', 'en:e422', 'en:e500ii', 'en:e500', 'en:vitamin-c', 'en:vitamin-e', 'en:maltodextrin', 'en:vitamin-a', 'en:vitamins', 'en:e903', 'en:soya-lecithin', 'en:e322', 'en:e322i', 'en:citrus-fruit-extract', 'en:fruit', 'en:citrus-fruit', 'en:e302', 'en:d-alpha-tocopheryl-acetate', 'en:retinyl-palmitate']\n",
      "['en:sugar', 'en:added-sugar', 'en:disaccharide', 'en:cocoa-butter', 'en:plant', 'en:cocoa', 'en:cream', 'en:dairy', 'en:corn', 'en:cereal', 'en:cocoa-paste', 'en:lactose', 'en:emulsifier', 'en:salt-barley-malt', 'en:natural-flavouring', 'en:flavouring', 'en:e322i', 'en:e322']\n",
      "['en:sugar', 'en:added-sugar', 'en:disaccharide', 'en:cocoa-butter', 'en:plant', 'en:cocoa', 'en:raisin', 'en:fruit', 'en:berries', 'en:grape', 'en:cocoa-paste', 'en:whole-milk-powder', 'en:dairy', 'en:milk-powder', 'en:hazelnut', 'en:nut', 'en:tree-nut', 'en:lactose', 'en:skimmed-milk-powder', 'en:butterfat', 'en:oil-and-fat', 'en:fat', 'en:milkfat', 'en:jamaican-rum', 'en:emulsifier', 'en:natural-flavouring', 'en:flavouring', 'en:e322i', 'en:e322']\n",
      "['en:sugar', 'en:added-sugar', 'en:disaccharide', 'en:cocoa-butter', 'en:plant', 'en:cocoa', 'en:cocoa-paste', 'en:whole-milk-powder', 'en:dairy', 'en:milk-powder', 'en:almond', 'en:nut', 'en:tree-nut', 'en:lactose', 'en:skimmed-milk-powder', 'en:butterfat', 'en:oil-and-fat', 'en:fat', 'en:milkfat', 'en:emulsifier', 'en:natural-flavouring', 'en:flavouring', 'en:e322i', 'en:e322']\n",
      "['en:sugar', 'en:added-sugar', 'en:disaccharide', 'en:almond', 'en:nut', 'en:tree-nut', 'en:water', 'en:e420', 'en:invert-sugar', 'en:monosaccharide', 'en:food-coloring', 'en:turmeric', 'en:condiment', 'en:spice', 'en:e120', 'en:e133', 'en:egg-white', 'en:egg']\n",
      "['en:only-the-best', 'en:wholemeal-oat', 'en:cereal', 'en:oat', 'en:raisin', 'en:fruit', 'en:berries', 'en:grape', 'en:creamery-butter', 'en:whole-egg', 'en:egg', 'en:un-refined-sugar', 'en:vanilla', 'en:plant', 'en:flour']\n",
      "['en:only-the-best', 'en:peanut-paste', 'en:nut', 'en:peanut', 'en:creamery-butter', 'en:un-refined-sugar', 'en:whole-egg', 'en:egg', 'en:flour']\n",
      "['en:bart-and-judy-s-proprietary-rice-flour-blend', 'en:butter', 'en:dairy', 'en:sweet-potato', 'en:vegetable', 'en:root-vegetable', 'en:tuber', 'en:cranberry', 'en:fruit', 'en:brown-cane-sugar', 'en:added-sugar', 'en:disaccharide', 'en:sugar', 'en:cane-sugar', 'en:whole-egg', 'en:egg', 'en:e500ii', 'en:e500', 'en:salt']\n",
      "['en:bart-and-judy-s-proprietary-rice-flour-blend', 'en:butter', 'en:dairy', 'en:ginger-powder', 'en:condiment', 'en:spice', 'en:ginger', 'en:brown-cane-sugar', 'en:added-sugar', 'en:disaccharide', 'en:sugar', 'en:cane-sugar', 'en:molasses', 'en:whole-egg', 'en:egg', 'en:e500ii', 'en:e500', 'en:salt']\n",
      "['en:milk', 'en:dairy', 'en:cream', 'en:sugar', 'en:added-sugar', 'en:disaccharide', 'en:corn-syrup', 'en:e412', 'en:e410', 'en:natural-vanilla-flavouring', 'en:flavouring', 'en:natural-flavouring', 'en:vanilla-flavouring', 'en:vanilla-pod', 'en:plant', 'en:vanilla', 'en:lactase', 'en:enzyme']\n",
      "['en:milk', 'en:dairy', 'en:cream', 'en:sugar', 'en:added-sugar', 'en:disaccharide', 'en:corn-syrup', 'en:pecan-nut', 'en:nut', 'en:tree-nut', 'en:natural-flavouring', 'en:flavouring', 'en:e412', 'en:e410', 'en:lactase', 'en:enzyme', 'en:cottonseed-oil', 'en:oil-and-fat', 'en:vegetable-oil-and-fat', 'en:vegetable-oil', 'en:salt']\n",
      "['de:soja-protein-isolat', 'en:flavouring', 'de:süßstoff-natrium-saccharin']\n",
      "['en:whey-protein', 'en:protein', 'en:animal-protein', 'en:milk-proteins', 'en:flavouring', 'de:pflanzenöl-aus-raps', 'en:sweetener', 'de:wheyproteinkonzentrat', 'de:nur-schoko-kakaopulver-entölt', 'en:e950', 'en:e955']\n",
      "['en:whey-protein', 'en:protein', 'en:animal-protein', 'en:milk-proteins', 'en:flavouring', 'de:pflanzenöl-aus-raps', 'en:sweetener', 'de:wheyproteinkonzentrat', 'de:nur-schoko-kakaopulver-entölt', 'en:e950', 'en:e955']\n",
      "['en:wheat-flour', 'en:cereal', 'en:flour', 'en:wheat', 'en:cereal-flour', 'en:salt', 'en:palm-oil', 'en:oil-and-fat', 'en:vegetable-oil-and-fat', 'en:palm-oil-and-fat', 'en:acidity-regulator', 'en:malted-wheat-flour', 'en:emulsifier', 'en:e524', 'en:monound-diglyderides-of-fatty-acids']\n",
      "['en:whey-protein', 'en:protein', 'en:animal-protein', 'en:milk-proteins', 'en:flavouring', 'de:pflanzenöl-aus-raps', 'en:sweetener', 'de:wheyproteinkonzentrat', 'de:nur-schoko-kakaopulver-entölt', 'en:e950', 'en:e955']\n",
      "['en:sugar', 'en:added-sugar', 'en:disaccharide', 'en:cocoa-butter', 'en:plant', 'en:cocoa', 'en:whole-milk-powder', 'en:dairy', 'en:milk-powder', 'en:williams-pear-brandy', 'en:cocoa-paste', 'en:lactose', 'en:invert-sugar', 'en:monosaccharide', 'en:skimmed-milk-powder', 'en:thickener', 'en:emulsifier', 'en:barley-malt-extract', 'en:cereal', 'en:malt', 'en:malted-barley', 'en:flavoring-vanillin', 'en:e414', 'en:soya-lecithin', 'en:e322', 'en:e322i']\n",
      "['en:water', 'en:tapioca', 'en:starch', 'en:rice-flour', 'en:flour', 'en:rice', 'en:potato-starch', 'en:vegetable-oil', 'en:oil-and-fat', 'en:vegetable-oil-and-fat', 'en:sunflower-oil', 'en:yeast', 'en:humectant', 'en:stabiliser', 'en:corn-starch', 'en:powdered-egg-white', 'en:egg', 'en:egg-white', 'en:icing-sugar', 'en:added-sugar', 'en:disaccharide', 'en:sugar', 'en:psyllium', 'en:fiber', 'en:vegetable-fiber', 'en:corn-flour', 'en:cereal', 'en:corn', 'en:iodised-salt', 'en:salt', 'en:e917', 'en:rice-starch', 'en:colza-oil', 'en:rapeseed-oil', 'en:e422', 'en:e464']\n",
      "['en:milk-chocolate', 'en:chocolate', 'en:sugar', 'en:added-sugar', 'en:disaccharide', 'en:milk', 'en:dairy', 'en:cocoa-butter', 'en:plant', 'en:cocoa', 'en:soya-lecithin', 'en:e322', 'en:e322i', 'en:an-emulafier', 'en:vanllan', 'en:artificial-flavouring', 'en:flavouring']\n"
     ]
    }
   ],
   "source": [
    "for sample in samples:\n",
    "    print(sample['ingredients_tags'])"
   ]
  },
  {
   "cell_type": "code",
   "execution_count": 10,
   "id": "b9330964",
   "metadata": {},
   "outputs": [
    {
     "name": "stdout",
     "output_type": "stream",
     "text": [
      "[]\n",
      "[]\n",
      "[]\n",
      "[]\n",
      "[]\n",
      "[]\n",
      "[]\n",
      "[]\n",
      "[]\n",
      "[]\n",
      "[]\n",
      "[]\n",
      "[]\n",
      "['en:e202', 'en:e322', 'en:e322i', 'en:e330', 'en:e471']\n",
      "['en:e202', 'en:e322', 'en:e322i', 'en:e330', 'en:e385', 'en:e471']\n",
      "[]\n",
      "['en:e322', 'en:e322i']\n",
      "['en:e322', 'en:e322i']\n",
      "['en:e160a', 'en:e160ai', 'en:e500', 'en:e500ii', 'en:e503', 'en:e503ii']\n",
      "['en:e322', 'en:e322i', 'en:e450', 'en:e450i', 'en:e500', 'en:e500ii']\n",
      "['en:e529']\n",
      "[]\n",
      "[]\n",
      "['en:e280', 'en:e281', 'en:e322', 'en:e322i', 'en:e338', 'en:e435', 'en:e472e', 'en:e924a']\n",
      "['en:e260', 'en:e270']\n",
      "[]\n",
      "['en:e322']\n",
      "['en:e1103', 'en:e322', 'en:e330']\n",
      "['en:e102', 'en:e211', 'en:e222', 'en:e433']\n",
      "[]\n",
      "['en:e341', 'en:e341ii', 'en:e414', 'en:e420', 'en:e422', 'en:e500', 'en:e500ii', 'en:e903', 'en:e965', 'en:e965ii', 'en:e967']\n",
      "['en:e322', 'en:e322i', 'en:e341', 'en:e341ii', 'en:e420', 'en:e422', 'en:e500', 'en:e500ii', 'en:e903', 'en:e965', 'en:e965ii', 'en:e967']\n",
      "['en:e322', 'en:e322i']\n",
      "['en:e322', 'en:e322i']\n",
      "['en:e322', 'en:e322i']\n",
      "['en:e120', 'en:e133', 'en:e420']\n",
      "[]\n",
      "[]\n",
      "['en:e500', 'en:e500ii']\n",
      "['en:e500', 'en:e500ii']\n",
      "['en:e410', 'en:e412']\n",
      "['en:e410', 'en:e412']\n",
      "[]\n",
      "['en:e950', 'en:e955']\n",
      "['en:e950', 'en:e955']\n",
      "['en:e524', 'en:e570']\n",
      "['en:e950', 'en:e955']\n",
      "['en:e322', 'en:e322i', 'en:e414']\n",
      "['en:e422', 'en:e464']\n",
      "['en:e322', 'en:e322i']\n"
     ]
    }
   ],
   "source": [
    "for sample in samples:\n",
    "    print(sample['additives_tags'])"
   ]
  },
  {
   "cell_type": "code",
   "execution_count": 11,
   "id": "a460ed01",
   "metadata": {},
   "outputs": [
    {
     "name": "stdout",
     "output_type": "stream",
     "text": [
      "[]\n",
      "[]\n",
      "[]\n",
      "[]\n",
      "[]\n",
      "[]\n",
      "[]\n",
      "[]\n",
      "[]\n",
      "[]\n",
      "[]\n",
      "[]\n",
      "[]\n",
      "[]\n",
      "[]\n",
      "[]\n",
      "[]\n",
      "[]\n",
      "['en:calcium', 'en:iron']\n",
      "['en:calcium', 'en:iron']\n",
      "[]\n",
      "[]\n",
      "[]\n",
      "['en:ferrous-sulfate', 'en:calcium-sulfate']\n",
      "['en:ferrous-sulfate']\n",
      "[]\n",
      "[]\n",
      "[]\n",
      "['en:calcium-chloride']\n",
      "[]\n",
      "[]\n",
      "[]\n",
      "[]\n",
      "[]\n",
      "[]\n",
      "[]\n",
      "[]\n",
      "[]\n",
      "[]\n",
      "[]\n",
      "[]\n",
      "[]\n",
      "[]\n",
      "[]\n",
      "[]\n",
      "[]\n",
      "[]\n",
      "[]\n",
      "['en:potassium-iodate']\n",
      "[]\n"
     ]
    }
   ],
   "source": [
    "for sample in samples:\n",
    "    print(sample['minerals_tags'])"
   ]
  },
  {
   "cell_type": "code",
   "execution_count": 12,
   "id": "93c89589",
   "metadata": {},
   "outputs": [
    {
     "name": "stdout",
     "output_type": "stream",
     "text": [
      "[{'name': 'fruits-vegetables-legumes-estimate-from-ingredients', 'value': None, '100g': 100.0, 'serving': 100.0, 'unit': None, 'prepared_value': None, 'prepared_100g': None, 'prepared_serving': None, 'prepared_unit': None}, {'name': 'fat', 'value': 0.0, '100g': None, 'serving': 0.0, 'unit': 'g', 'prepared_value': None, 'prepared_100g': None, 'prepared_serving': None, 'prepared_unit': None}, {'name': 'potassium', 'value': 3200.0, '100g': None, 'serving': 3.200000047683716, 'unit': 'mg', 'prepared_value': None, 'prepared_100g': None, 'prepared_serving': None, 'prepared_unit': None}, {'name': 'energy-kcal', 'value': 280.0, '100g': None, 'serving': 280.0, 'unit': 'kcal', 'prepared_value': None, 'prepared_100g': None, 'prepared_serving': None, 'prepared_unit': None}, {'name': 'sodium', 'value': 300.0, '100g': None, 'serving': 0.30000001192092896, 'unit': 'mg', 'prepared_value': None, 'prepared_100g': None, 'prepared_serving': None, 'prepared_unit': None}, {'name': 'proteins', 'value': 0.0, '100g': None, 'serving': 0.0, 'unit': 'g', 'prepared_value': None, 'prepared_100g': None, 'prepared_serving': None, 'prepared_unit': None}, {'name': 'salt', 'value': 750.0, '100g': None, 'serving': 0.75, 'unit': 'mg', 'prepared_value': None, 'prepared_100g': None, 'prepared_serving': None, 'prepared_unit': None}, {'name': 'energy', 'value': 280.0, '100g': None, 'serving': 1172.0, 'unit': 'kcal', 'prepared_value': None, 'prepared_100g': None, 'prepared_serving': None, 'prepared_unit': None}, {'name': 'carbohydrates', 'value': 70.0, '100g': None, 'serving': 70.0, 'unit': 'g', 'prepared_value': None, 'prepared_100g': None, 'prepared_serving': None, 'prepared_unit': None}, {'name': 'fruits-vegetables-nuts-estimate-from-ingredients', 'value': None, '100g': 100.0, 'serving': 100.0, 'unit': None, 'prepared_value': None, 'prepared_100g': None, 'prepared_serving': None, 'prepared_unit': None}, {'name': 'nova-group', 'value': None, '100g': 1.0, 'serving': 1.0, 'unit': None, 'prepared_value': None, 'prepared_100g': None, 'prepared_serving': None, 'prepared_unit': None}]\n",
      "[{'name': 'sodium', 'value': 4.0, '100g': 0.004000000189989805, 'serving': 0.0017999999690800905, 'unit': 'mg', 'prepared_value': None, 'prepared_100g': None, 'prepared_serving': None, 'prepared_unit': None}, {'name': 'proteins', 'value': 0.0, '100g': 0.0, 'serving': 0.0, 'unit': 'g', 'prepared_value': None, 'prepared_100g': None, 'prepared_serving': None, 'prepared_unit': None}, {'name': 'potassium', 'value': 20.0, '100g': 0.019999999552965164, 'serving': 0.008999999612569809, 'unit': 'mg', 'prepared_value': None, 'prepared_100g': None, 'prepared_serving': None, 'prepared_unit': None}, {'name': 'energy-kcal', 'value': 0.0, '100g': 0.0, 'serving': 0.0, 'unit': 'kcal', 'prepared_value': None, 'prepared_100g': None, 'prepared_serving': None, 'prepared_unit': None}, {'name': 'fat', 'value': 0.0, '100g': 0.0, 'serving': 0.0, 'unit': 'g', 'prepared_value': None, 'prepared_100g': None, 'prepared_serving': None, 'prepared_unit': None}, {'name': 'carbohydrates', 'value': 1.4700000286102295, '100g': 1.4700000286102295, 'serving': 0.6610000133514404, 'unit': 'g', 'prepared_value': None, 'prepared_100g': None, 'prepared_serving': None, 'prepared_unit': None}, {'name': 'fruits-vegetables-legumes-estimate-from-ingredients', 'value': None, '100g': 0.0, 'serving': 0.0, 'unit': None, 'prepared_value': None, 'prepared_100g': None, 'prepared_serving': None, 'prepared_unit': None}, {'name': 'fruits-vegetables-nuts-estimate-from-ingredients', 'value': None, '100g': 0.0, 'serving': 0.0, 'unit': None, 'prepared_value': None, 'prepared_100g': None, 'prepared_serving': None, 'prepared_unit': None}, {'name': 'salt', 'value': 10.0, '100g': 0.009999999776482582, 'serving': 0.0044999998062849045, 'unit': 'mg', 'prepared_value': None, 'prepared_100g': None, 'prepared_serving': None, 'prepared_unit': None}, {'name': 'energy', 'value': 0.0, '100g': 0.0, 'serving': 0.0, 'unit': 'kcal', 'prepared_value': None, 'prepared_100g': None, 'prepared_serving': None, 'prepared_unit': None}, {'name': 'nova-group', 'value': None, '100g': 1.0, 'serving': 1.0, 'unit': None, 'prepared_value': None, 'prepared_100g': None, 'prepared_serving': None, 'prepared_unit': None}]\n",
      "[{'name': 'potassium', 'value': 1200.0, '100g': None, 'serving': 1.2000000476837158, 'unit': 'mg', 'prepared_value': None, 'prepared_100g': None, 'prepared_serving': None, 'prepared_unit': None}, {'name': 'carbohydrates', 'value': 53.33000183105469, '100g': None, 'serving': 53.33000183105469, 'unit': 'g', 'prepared_value': None, 'prepared_100g': None, 'prepared_serving': None, 'prepared_unit': None}, {'name': 'energy', 'value': 213.32000732421875, '100g': None, 'serving': 893.0, 'unit': 'kcal', 'prepared_value': None, 'prepared_100g': None, 'prepared_serving': None, 'prepared_unit': None}, {'name': 'proteins', 'value': 0.0, '100g': None, 'serving': 0.0, 'unit': 'g', 'prepared_value': None, 'prepared_100g': None, 'prepared_serving': None, 'prepared_unit': None}, {'name': 'fat', 'value': 0.0, '100g': None, 'serving': 0.0, 'unit': 'g', 'prepared_value': None, 'prepared_100g': None, 'prepared_serving': None, 'prepared_unit': None}, {'name': 'fruits-vegetables-legumes-estimate-from-ingredients', 'value': None, '100g': 0.0, 'serving': 0.0, 'unit': None, 'prepared_value': None, 'prepared_100g': None, 'prepared_serving': None, 'prepared_unit': None}, {'name': 'energy-kcal', 'value': 213.32000732421875, '100g': None, 'serving': 213.32000732421875, 'unit': 'kcal', 'prepared_value': None, 'prepared_100g': None, 'prepared_serving': None, 'prepared_unit': None}, {'name': 'salt', 'value': 0.0, '100g': None, 'serving': 0.0, 'unit': 'g', 'prepared_value': None, 'prepared_100g': None, 'prepared_serving': None, 'prepared_unit': None}, {'name': 'fruits-vegetables-nuts-estimate-from-ingredients', 'value': None, '100g': 0.0, 'serving': 0.0, 'unit': None, 'prepared_value': None, 'prepared_100g': None, 'prepared_serving': None, 'prepared_unit': None}, {'name': 'sodium', 'value': 0.0, '100g': None, 'serving': 0.0, 'unit': 'g', 'prepared_value': None, 'prepared_100g': None, 'prepared_serving': None, 'prepared_unit': None}]\n",
      "[{'name': 'energy', 'value': 267.0, '100g': 1117.0, 'serving': 16.799999237060547, 'unit': 'kcal', 'prepared_value': None, 'prepared_100g': None, 'prepared_serving': None, 'prepared_unit': None}, {'name': 'salt', 'value': 0.33781999349594116, '100g': 0.33781999349594116, 'serving': 0.00506999995559454, 'unit': 'g', 'prepared_value': None, 'prepared_100g': None, 'prepared_serving': None, 'prepared_unit': None}, {'name': 'potassium', 'value': 1533.0, '100g': 1.5329999923706055, 'serving': 0.023000000044703484, 'unit': 'mg', 'prepared_value': None, 'prepared_100g': None, 'prepared_serving': None, 'prepared_unit': None}, {'name': 'carbohydrates', 'value': 60.0, '100g': 60.0, 'serving': 0.8999999761581421, 'unit': 'g', 'prepared_value': None, 'prepared_100g': None, 'prepared_serving': None, 'prepared_unit': None}, {'name': 'fruits-vegetables-legumes-estimate-from-ingredients', 'value': None, '100g': 0.0, 'serving': 0.0, 'unit': None, 'prepared_value': None, 'prepared_100g': None, 'prepared_serving': None, 'prepared_unit': None}, {'name': 'energy-kcal', 'value': 267.0, '100g': 267.0, 'serving': 4.0, 'unit': 'kcal', 'prepared_value': None, 'prepared_100g': None, 'prepared_serving': None, 'prepared_unit': None}, {'name': 'fat', 'value': 0.0, '100g': 0.0, 'serving': 0.0, 'unit': 'g', 'prepared_value': None, 'prepared_100g': None, 'prepared_serving': None, 'prepared_unit': None}, {'name': 'proteins', 'value': 66.66999816894531, '100g': 66.66999816894531, 'serving': 1.0, 'unit': 'g', 'prepared_value': None, 'prepared_100g': None, 'prepared_serving': None, 'prepared_unit': None}, {'name': 'sodium', 'value': 0.13512800633907318, '100g': 0.13512800633907318, 'serving': 0.00203000009059906, 'unit': 'g', 'prepared_value': None, 'prepared_100g': None, 'prepared_serving': None, 'prepared_unit': None}, {'name': 'fruits-vegetables-nuts-estimate-from-ingredients', 'value': None, '100g': 0.0, 'serving': 0.0, 'unit': None, 'prepared_value': None, 'prepared_100g': None, 'prepared_serving': None, 'prepared_unit': None}]\n",
      "[{'name': 'carbohydrates', 'value': 60.0, '100g': None, 'serving': 60.0, 'unit': 'g', 'prepared_value': None, 'prepared_100g': None, 'prepared_serving': None, 'prepared_unit': None}, {'name': 'energy', 'value': 240.0, '100g': None, 'serving': 1004.0, 'unit': 'kcal', 'prepared_value': None, 'prepared_100g': None, 'prepared_serving': None, 'prepared_unit': None}, {'name': 'proteins', 'value': 66.66999816894531, '100g': None, 'serving': 66.66999816894531, 'unit': 'g', 'prepared_value': None, 'prepared_100g': None, 'prepared_serving': None, 'prepared_unit': None}, {'name': 'fat', 'value': 0.0, '100g': None, 'serving': 0.0, 'unit': 'g', 'prepared_value': None, 'prepared_100g': None, 'prepared_serving': None, 'prepared_unit': None}, {'name': 'fruits-vegetables-nuts-estimate-from-ingredients', 'value': None, '100g': 0.0, 'serving': 0.0, 'unit': None, 'prepared_value': None, 'prepared_100g': None, 'prepared_serving': None, 'prepared_unit': None}, {'name': 'salt', 'value': 0.33781999349594116, '100g': None, 'serving': 0.33781999349594116, 'unit': 'g', 'prepared_value': None, 'prepared_100g': None, 'prepared_serving': None, 'prepared_unit': None}, {'name': 'sodium', 'value': 0.13512800633907318, '100g': None, 'serving': 0.13512800633907318, 'unit': 'g', 'prepared_value': None, 'prepared_100g': None, 'prepared_serving': None, 'prepared_unit': None}, {'name': 'potassium', 'value': 1533.0, '100g': None, 'serving': 1.5329999923706055, 'unit': 'mg', 'prepared_value': None, 'prepared_100g': None, 'prepared_serving': None, 'prepared_unit': None}, {'name': 'nova-group', 'value': None, '100g': 4.0, 'serving': 4.0, 'unit': None, 'prepared_value': None, 'prepared_100g': None, 'prepared_serving': None, 'prepared_unit': None}, {'name': 'fruits-vegetables-legumes-estimate-from-ingredients', 'value': None, '100g': 0.0, 'serving': 0.0, 'unit': None, 'prepared_value': None, 'prepared_100g': None, 'prepared_serving': None, 'prepared_unit': None}, {'name': 'energy-kcal', 'value': 240.0, '100g': None, 'serving': 240.0, 'unit': 'kcal', 'prepared_value': None, 'prepared_100g': None, 'prepared_serving': None, 'prepared_unit': None}]\n",
      "[{'name': 'sodium', 'value': 0.0, '100g': 0.0, 'serving': 0.0, 'unit': 'mg', 'prepared_value': None, 'prepared_100g': None, 'prepared_serving': None, 'prepared_unit': None}, {'name': 'energy', 'value': 10.680000305175781, '100g': 150.0, 'serving': 45.0, 'unit': 'kcal', 'prepared_value': None, 'prepared_100g': None, 'prepared_serving': None, 'prepared_unit': None}, {'name': 'salt', 'value': 0.0, '100g': 0.0, 'serving': 0.0, 'unit': 'mg', 'prepared_value': None, 'prepared_100g': None, 'prepared_serving': None, 'prepared_unit': None}, {'name': 'proteins', 'value': 0.0, '100g': 0.0, 'serving': 0.0, 'unit': 'g', 'prepared_value': None, 'prepared_100g': None, 'prepared_serving': None, 'prepared_unit': None}, {'name': 'energy-kcal', 'value': 10.680000305175781, '100g': 35.5, 'serving': 10.680000305175781, 'unit': 'kcal', 'prepared_value': None, 'prepared_100g': None, 'prepared_serving': None, 'prepared_unit': None}, {'name': 'potassium', 'value': 77.0, '100g': 0.25600001215934753, 'serving': 0.07699999958276749, 'unit': 'mg', 'prepared_value': None, 'prepared_100g': None, 'prepared_serving': None, 'prepared_unit': None}, {'name': 'fruits-vegetables-legumes-estimate-from-ingredients', 'value': None, '100g': 0.0, 'serving': 0.0, 'unit': None, 'prepared_value': None, 'prepared_100g': None, 'prepared_serving': None, 'prepared_unit': None}, {'name': 'fat', 'value': 0.0, '100g': 0.0, 'serving': 0.0, 'unit': 'g', 'prepared_value': None, 'prepared_100g': None, 'prepared_serving': None, 'prepared_unit': None}, {'name': 'carbohydrates', 'value': 2.6700000762939453, '100g': 8.890000343322754, 'serving': 2.6700000762939453, 'unit': 'g', 'prepared_value': None, 'prepared_100g': None, 'prepared_serving': None, 'prepared_unit': None}, {'name': 'nova-group', 'value': None, '100g': 1.0, 'serving': 1.0, 'unit': None, 'prepared_value': None, 'prepared_100g': None, 'prepared_serving': None, 'prepared_unit': None}, {'name': 'fruits-vegetables-nuts-estimate-from-ingredients', 'value': None, '100g': 0.0, 'serving': 0.0, 'unit': None, 'prepared_value': None, 'prepared_100g': None, 'prepared_serving': None, 'prepared_unit': None}]\n",
      "[{'name': 'potassium', 'value': 0.0, '100g': 0.0, 'serving': 0.0, 'unit': 'mg', 'prepared_value': None, 'prepared_100g': None, 'prepared_serving': None, 'prepared_unit': None}, {'name': 'proteins', 'value': 0.0, '100g': 0.0, 'serving': 0.0, 'unit': 'g', 'prepared_value': None, 'prepared_100g': None, 'prepared_serving': None, 'prepared_unit': None}, {'name': 'energy-kcal', 'value': 13.319999694824219, '100g': 44.29999923706055, 'serving': 13.319999694824219, 'unit': 'kcal', 'prepared_value': None, 'prepared_100g': None, 'prepared_serving': None, 'prepared_unit': None}, {'name': 'sodium', 'value': 0.0, '100g': 0.0, 'serving': 0.0, 'unit': 'mg', 'prepared_value': None, 'prepared_100g': None, 'prepared_serving': None, 'prepared_unit': None}, {'name': 'fruits-vegetables-legumes-estimate-from-ingredients', 'value': None, '100g': 0.0, 'serving': 0.0, 'unit': None, 'prepared_value': None, 'prepared_100g': None, 'prepared_serving': None, 'prepared_unit': None}, {'name': 'fat', 'value': 0.0, '100g': 0.0, 'serving': 0.0, 'unit': 'g', 'prepared_value': None, 'prepared_100g': None, 'prepared_serving': None, 'prepared_unit': None}, {'name': 'energy', 'value': 13.319999694824219, '100g': 186.0, 'serving': 56.0, 'unit': 'kcal', 'prepared_value': None, 'prepared_100g': None, 'prepared_serving': None, 'prepared_unit': None}, {'name': 'salt', 'value': 0.0, '100g': 0.0, 'serving': 0.0, 'unit': 'mg', 'prepared_value': None, 'prepared_100g': None, 'prepared_serving': None, 'prepared_unit': None}, {'name': 'carbohydrates', 'value': 3.3299999237060547, '100g': 11.100000381469727, 'serving': 3.3299999237060547, 'unit': 'g', 'prepared_value': None, 'prepared_100g': None, 'prepared_serving': None, 'prepared_unit': None}, {'name': 'fruits-vegetables-nuts-estimate-from-ingredients', 'value': None, '100g': 0.0, 'serving': 0.0, 'unit': None, 'prepared_value': None, 'prepared_100g': None, 'prepared_serving': None, 'prepared_unit': None}]\n",
      "[{'name': 'fat', 'value': 0.0, '100g': 0.0, 'serving': 0.0, 'unit': 'g', 'prepared_value': None, 'prepared_100g': None, 'prepared_serving': None, 'prepared_unit': None}, {'name': 'sodium', 'value': 0.0, '100g': 0.0, 'serving': 0.0, 'unit': 'mg', 'prepared_value': None, 'prepared_100g': None, 'prepared_serving': None, 'prepared_unit': None}, {'name': 'potassium', 'value': 0.0, '100g': 0.0, 'serving': 0.0, 'unit': 'mg', 'prepared_value': None, 'prepared_100g': None, 'prepared_serving': None, 'prepared_unit': None}, {'name': 'energy-kcal', 'value': 0.0, '100g': 0.0, 'serving': 0.0, 'unit': 'kcal', 'prepared_value': None, 'prepared_100g': None, 'prepared_serving': None, 'prepared_unit': None}, {'name': 'proteins', 'value': 0.0, '100g': 0.0, 'serving': 0.0, 'unit': 'g', 'prepared_value': None, 'prepared_100g': None, 'prepared_serving': None, 'prepared_unit': None}, {'name': 'energy', 'value': 0.0, '100g': 0.0, 'serving': 0.0, 'unit': 'kcal', 'prepared_value': None, 'prepared_100g': None, 'prepared_serving': None, 'prepared_unit': None}, {'name': 'salt', 'value': 0.0, '100g': 0.0, 'serving': 0.0, 'unit': 'mg', 'prepared_value': None, 'prepared_100g': None, 'prepared_serving': None, 'prepared_unit': None}, {'name': 'carbohydrates', 'value': 3.3299999237060547, '100g': 3.3299999237060547, 'serving': 0.9990000128746033, 'unit': 'g', 'prepared_value': None, 'prepared_100g': None, 'prepared_serving': None, 'prepared_unit': None}, {'name': 'fruits-vegetables-nuts-estimate-from-ingredients', 'value': None, '100g': 0.0, 'serving': 0.0, 'unit': None, 'prepared_value': None, 'prepared_100g': None, 'prepared_serving': None, 'prepared_unit': None}, {'name': 'fruits-vegetables-legumes-estimate-from-ingredients', 'value': None, '100g': 0.0, 'serving': 0.0, 'unit': None, 'prepared_value': None, 'prepared_100g': None, 'prepared_serving': None, 'prepared_unit': None}]\n",
      "[{'name': 'carbohydrates', 'value': 3.3299999237060547, '100g': 11.100000381469727, 'serving': 3.3299999237060547, 'unit': 'g', 'prepared_value': None, 'prepared_100g': None, 'prepared_serving': None, 'prepared_unit': None}, {'name': 'fruits-vegetables-nuts-estimate-from-ingredients', 'value': None, '100g': 0.0, 'serving': 0.0, 'unit': None, 'prepared_value': None, 'prepared_100g': None, 'prepared_serving': None, 'prepared_unit': None}, {'name': 'salt', 'value': 0.0, '100g': 0.0, 'serving': 0.0, 'unit': 'g', 'prepared_value': None, 'prepared_100g': None, 'prepared_serving': None, 'prepared_unit': None}, {'name': 'fruits-vegetables-legumes-estimate-from-ingredients', 'value': None, '100g': 0.0, 'serving': 0.0, 'unit': None, 'prepared_value': None, 'prepared_100g': None, 'prepared_serving': None, 'prepared_unit': None}, {'name': 'potassium', 'value': 0.0, '100g': 0.0, 'serving': 0.0, 'unit': 'mg', 'prepared_value': None, 'prepared_100g': None, 'prepared_serving': None, 'prepared_unit': None}, {'name': 'proteins', 'value': 0.0, '100g': 0.0, 'serving': 0.0, 'unit': 'g', 'prepared_value': None, 'prepared_100g': None, 'prepared_serving': None, 'prepared_unit': None}, {'name': 'fat', 'value': 0.0, '100g': 0.0, 'serving': 0.0, 'unit': 'g', 'prepared_value': None, 'prepared_100g': None, 'prepared_serving': None, 'prepared_unit': None}, {'name': 'energy-kcal', 'value': 13.319999694824219, '100g': 44.29999923706055, 'serving': 13.319999694824219, 'unit': 'kcal', 'prepared_value': None, 'prepared_100g': None, 'prepared_serving': None, 'prepared_unit': None}, {'name': 'sodium', 'value': 0.0, '100g': 0.0, 'serving': 0.0, 'unit': 'g', 'prepared_value': None, 'prepared_100g': None, 'prepared_serving': None, 'prepared_unit': None}, {'name': 'energy', 'value': 13.319999694824219, '100g': 186.0, 'serving': 56.0, 'unit': 'kcal', 'prepared_value': None, 'prepared_100g': None, 'prepared_serving': None, 'prepared_unit': None}]\n",
      "[{'name': 'sodium', 'value': 0.0, '100g': 0.0, 'serving': 0.0, 'unit': 'mg', 'prepared_value': None, 'prepared_100g': None, 'prepared_serving': None, 'prepared_unit': None}, {'name': 'proteins', 'value': 0.0, '100g': 0.0, 'serving': 0.0, 'unit': 'g', 'prepared_value': None, 'prepared_100g': None, 'prepared_serving': None, 'prepared_unit': None}, {'name': 'energy-kcal', 'value': 0.0, '100g': 0.0, 'serving': 0.0, 'unit': 'kcal', 'prepared_value': None, 'prepared_100g': None, 'prepared_serving': None, 'prepared_unit': None}, {'name': 'potassium', 'value': 0.0, '100g': 0.0, 'serving': 0.0, 'unit': 'mg', 'prepared_value': None, 'prepared_100g': None, 'prepared_serving': None, 'prepared_unit': None}, {'name': 'fat', 'value': 0.0, '100g': 0.0, 'serving': 0.0, 'unit': 'g', 'prepared_value': None, 'prepared_100g': None, 'prepared_serving': None, 'prepared_unit': None}, {'name': 'carbohydrates', 'value': 0.0, '100g': 0.0, 'serving': 0.0, 'unit': 'g', 'prepared_value': None, 'prepared_100g': None, 'prepared_serving': None, 'prepared_unit': None}, {'name': 'fruits-vegetables-legumes-estimate-from-ingredients', 'value': None, '100g': 0.0, 'serving': 0.0, 'unit': None, 'prepared_value': None, 'prepared_100g': None, 'prepared_serving': None, 'prepared_unit': None}, {'name': 'fruits-vegetables-nuts-estimate-from-ingredients', 'value': None, '100g': 0.0, 'serving': 0.0, 'unit': None, 'prepared_value': None, 'prepared_100g': None, 'prepared_serving': None, 'prepared_unit': None}, {'name': 'nutrition-score-fr', 'value': None, '100g': 0.0, 'serving': None, 'unit': None, 'prepared_value': None, 'prepared_100g': None, 'prepared_serving': None, 'prepared_unit': None}, {'name': 'salt', 'value': 0.0, '100g': 0.0, 'serving': 0.0, 'unit': 'mg', 'prepared_value': None, 'prepared_100g': None, 'prepared_serving': None, 'prepared_unit': None}, {'name': 'energy', 'value': 0.0, '100g': 0.0, 'serving': 0.0, 'unit': 'kcal', 'prepared_value': None, 'prepared_100g': None, 'prepared_serving': None, 'prepared_unit': None}, {'name': 'nova-group', 'value': None, '100g': 1.0, 'serving': 1.0, 'unit': None, 'prepared_value': None, 'prepared_100g': None, 'prepared_serving': None, 'prepared_unit': None}]\n",
      "[{'name': 'proteins', 'value': 0.0, '100g': 0.0, 'serving': 0.0, 'unit': 'g', 'prepared_value': None, 'prepared_100g': None, 'prepared_serving': None, 'prepared_unit': None}, {'name': 'carbohydrates', 'value': 3.3299999237060547, '100g': 3.3299999237060547, 'serving': 0.9990000128746033, 'unit': 'g', 'prepared_value': None, 'prepared_100g': None, 'prepared_serving': None, 'prepared_unit': None}, {'name': 'fruits-vegetables-legumes-estimate-from-ingredients', 'value': None, '100g': 0.0, 'serving': 0.0, 'unit': None, 'prepared_value': None, 'prepared_100g': None, 'prepared_serving': None, 'prepared_unit': None}, {'name': 'fruits-vegetables-nuts-estimate-from-ingredients', 'value': None, '100g': 0.0, 'serving': 0.0, 'unit': None, 'prepared_value': None, 'prepared_100g': None, 'prepared_serving': None, 'prepared_unit': None}, {'name': 'salt', 'value': 0.0, '100g': 0.0, 'serving': 0.0, 'unit': 'mg', 'prepared_value': None, 'prepared_100g': None, 'prepared_serving': None, 'prepared_unit': None}, {'name': 'energy', 'value': 0.0, '100g': 0.0, 'serving': 0.0, 'unit': 'kcal', 'prepared_value': None, 'prepared_100g': None, 'prepared_serving': None, 'prepared_unit': None}, {'name': 'sodium', 'value': 0.0, '100g': 0.0, 'serving': 0.0, 'unit': 'mg', 'prepared_value': None, 'prepared_100g': None, 'prepared_serving': None, 'prepared_unit': None}, {'name': 'potassium', 'value': 0.0, '100g': 0.0, 'serving': 0.0, 'unit': 'mg', 'prepared_value': None, 'prepared_100g': None, 'prepared_serving': None, 'prepared_unit': None}, {'name': 'energy-kcal', 'value': 0.0, '100g': 0.0, 'serving': 0.0, 'unit': 'kcal', 'prepared_value': None, 'prepared_100g': None, 'prepared_serving': None, 'prepared_unit': None}, {'name': 'fat', 'value': 0.0, '100g': 0.0, 'serving': 0.0, 'unit': 'g', 'prepared_value': None, 'prepared_100g': None, 'prepared_serving': None, 'prepared_unit': None}]\n",
      "[{'name': 'fruits-vegetables-nuts-estimate-from-ingredients', 'value': None, '100g': 0.0, 'serving': 0.0, 'unit': None, 'prepared_value': None, 'prepared_100g': None, 'prepared_serving': None, 'prepared_unit': None}, {'name': 'carbohydrates', 'value': 100.0, '100g': None, 'serving': 100.0, 'unit': 'g', 'prepared_value': None, 'prepared_100g': None, 'prepared_serving': None, 'prepared_unit': None}, {'name': 'energy', 'value': 400.0, '100g': None, 'serving': 1674.0, 'unit': 'kcal', 'prepared_value': None, 'prepared_100g': None, 'prepared_serving': None, 'prepared_unit': None}, {'name': 'sodium', 'value': 0.0, '100g': None, 'serving': 0.0, 'unit': 'mg', 'prepared_value': None, 'prepared_100g': None, 'prepared_serving': None, 'prepared_unit': None}, {'name': 'fruits-vegetables-legumes-estimate-from-ingredients', 'value': None, '100g': 0.0, 'serving': 0.0, 'unit': None, 'prepared_value': None, 'prepared_100g': None, 'prepared_serving': None, 'prepared_unit': None}, {'name': 'potassium', 'value': 0.0, '100g': None, 'serving': 0.0, 'unit': 'mg', 'prepared_value': None, 'prepared_100g': None, 'prepared_serving': None, 'prepared_unit': None}, {'name': 'salt', 'value': 0.0, '100g': None, 'serving': 0.0, 'unit': 'mg', 'prepared_value': None, 'prepared_100g': None, 'prepared_serving': None, 'prepared_unit': None}, {'name': 'energy-kcal', 'value': 400.0, '100g': None, 'serving': 400.0, 'unit': 'kcal', 'prepared_value': None, 'prepared_100g': None, 'prepared_serving': None, 'prepared_unit': None}, {'name': 'proteins', 'value': 0.0, '100g': None, 'serving': 0.0, 'unit': 'g', 'prepared_value': None, 'prepared_100g': None, 'prepared_serving': None, 'prepared_unit': None}, {'name': 'fat', 'value': 0.0, '100g': None, 'serving': 0.0, 'unit': 'g', 'prepared_value': None, 'prepared_100g': None, 'prepared_serving': None, 'prepared_unit': None}]\n",
      "[{'name': 'fat', 'value': 100.0, '100g': 100.0, 'serving': 14.0, 'unit': 'g', 'prepared_value': None, 'prepared_100g': None, 'prepared_serving': None, 'prepared_unit': None}, {'name': 'trans-fat', 'value': 0.0, '100g': 0.0, 'serving': 0.0, 'unit': 'g', 'prepared_value': None, 'prepared_100g': None, 'prepared_serving': None, 'prepared_unit': None}, {'name': 'polyunsaturated-fat', 'value': 25.0, '100g': 25.0, 'serving': 3.5, 'unit': 'g', 'prepared_value': None, 'prepared_100g': None, 'prepared_serving': None, 'prepared_unit': None}, {'name': 'sodium', 'value': 0.0, '100g': 0.0, 'serving': 0.0, 'unit': 'mg', 'prepared_value': None, 'prepared_100g': None, 'prepared_serving': None, 'prepared_unit': None}, {'name': 'energy-kcal', 'value': 857.0, '100g': 857.0, 'serving': 120.0, 'unit': 'kcal', 'prepared_value': None, 'prepared_100g': None, 'prepared_serving': None, 'prepared_unit': None}, {'name': 'proteins', 'value': 0.0, '100g': 0.0, 'serving': 0.0, 'unit': 'g', 'prepared_value': None, 'prepared_100g': None, 'prepared_serving': None, 'prepared_unit': None}, {'name': 'saturated-fat', 'value': 7.139999866485596, '100g': 7.139999866485596, 'serving': 1.0, 'unit': 'g', 'prepared_value': None, 'prepared_100g': None, 'prepared_serving': None, 'prepared_unit': None}, {'name': 'energy', 'value': 857.0, '100g': 3586.0, 'serving': 502.0, 'unit': 'kcal', 'prepared_value': None, 'prepared_100g': None, 'prepared_serving': None, 'prepared_unit': None}, {'name': 'nova-group', 'value': None, '100g': 2.0, 'serving': 2.0, 'unit': None, 'prepared_value': None, 'prepared_100g': None, 'prepared_serving': None, 'prepared_unit': None}, {'name': 'monounsaturated-fat', 'value': 64.29000091552734, '100g': 64.29000091552734, 'serving': 9.0, 'unit': 'g', 'prepared_value': None, 'prepared_100g': None, 'prepared_serving': None, 'prepared_unit': None}, {'name': 'salt', 'value': 0.0, '100g': 0.0, 'serving': 0.0, 'unit': 'mg', 'prepared_value': None, 'prepared_100g': None, 'prepared_serving': None, 'prepared_unit': None}, {'name': 'nutrition-score-fr', 'value': None, '100g': 2.0, 'serving': None, 'unit': None, 'prepared_value': None, 'prepared_100g': None, 'prepared_serving': None, 'prepared_unit': None}, {'name': 'carbohydrates', 'value': 0.0, '100g': 0.0, 'serving': 0.0, 'unit': 'g', 'prepared_value': None, 'prepared_100g': None, 'prepared_serving': None, 'prepared_unit': None}, {'name': 'fruits-vegetables-nuts-estimate-from-ingredients', 'value': None, '100g': 0.0, 'serving': 0.0, 'unit': None, 'prepared_value': None, 'prepared_100g': None, 'prepared_serving': None, 'prepared_unit': None}, {'name': 'fruits-vegetables-legumes-estimate-from-ingredients', 'value': None, '100g': 0.0, 'serving': 0.0, 'unit': None, 'prepared_value': None, 'prepared_100g': None, 'prepared_serving': None, 'prepared_unit': None}]\n",
      "[{'name': 'trans-fat', 'value': 0.0, '100g': 0.0, 'serving': 0.0, 'unit': 'g', 'prepared_value': None, 'prepared_100g': None, 'prepared_serving': None, 'prepared_unit': None}, {'name': 'carbohydrates', 'value': 0.0, '100g': 0.0, 'serving': 0.0, 'unit': 'g', 'prepared_value': None, 'prepared_100g': None, 'prepared_serving': None, 'prepared_unit': None}, {'name': 'fruits-vegetables-nuts-estimate-from-ingredients', 'value': None, '100g': 53.33333206176758, 'serving': 53.33333206176758, 'unit': None, 'prepared_value': None, 'prepared_100g': None, 'prepared_serving': None, 'prepared_unit': None}, {'name': 'vitamin-a', 'value': 0.0010713000083342195, '100g': 7.649999744785418e-09, 'serving': 1.0713000486717306e-09, 'unit': 'µg', 'prepared_value': None, 'prepared_100g': None, 'prepared_serving': None, 'prepared_unit': None}, {'name': 'saturated-fat', 'value': 10.699999809265137, '100g': 76.4000015258789, 'serving': 10.699999809265137, 'unit': 'g', 'prepared_value': None, 'prepared_100g': None, 'prepared_serving': None, 'prepared_unit': None}, {'name': 'sugars', 'value': 0.0, '100g': 0.0, 'serving': 0.0, 'unit': 'g', 'prepared_value': None, 'prepared_100g': None, 'prepared_serving': None, 'prepared_unit': None}, {'name': 'salt', 'value': 1785.0, '100g': 12.699999809265137, 'serving': 1.784999966621399, 'unit': 'mg', 'prepared_value': None, 'prepared_100g': None, 'prepared_serving': None, 'prepared_unit': None}, {'name': 'fiber', 'value': 0.0, '100g': 0.0, 'serving': 0.0, 'unit': 'g', 'prepared_value': None, 'prepared_100g': None, 'prepared_serving': None, 'prepared_unit': None}, {'name': 'monounsaturated-fat', 'value': 42.900001525878906, '100g': 306.0, 'serving': 42.900001525878906, 'unit': 'g', 'prepared_value': None, 'prepared_100g': None, 'prepared_serving': None, 'prepared_unit': None}, {'name': 'nova-group', 'value': None, '100g': 4.0, 'serving': 4.0, 'unit': None, 'prepared_value': None, 'prepared_100g': None, 'prepared_serving': None, 'prepared_unit': None}, {'name': 'fruits-vegetables-legumes-estimate-from-ingredients', 'value': None, '100g': 0.0, 'serving': 0.0, 'unit': None, 'prepared_value': None, 'prepared_100g': None, 'prepared_serving': None, 'prepared_unit': None}, {'name': 'vitamin-d', 'value': 1.0724999810918234e-05, '100g': 7.659999717857247e-11, 'serving': 1.0724999881250863e-11, 'unit': 'µg', 'prepared_value': None, 'prepared_100g': None, 'prepared_serving': None, 'prepared_unit': None}, {'name': 'energy-kcal', 'value': 642.5999755859375, '100g': 4590.0, 'serving': 642.5999755859375, 'unit': 'kcal', 'prepared_value': None, 'prepared_100g': None, 'prepared_serving': None, 'prepared_unit': None}, {'name': 'energy', 'value': 642.5999755859375, '100g': 19200.0, 'serving': 2689.0, 'unit': 'kcal', 'prepared_value': None, 'prepared_100g': None, 'prepared_serving': None, 'prepared_unit': None}, {'name': 'cholesterol', 'value': 0.0, '100g': 0.0, 'serving': 0.0, 'unit': 'mg', 'prepared_value': None, 'prepared_100g': None, 'prepared_serving': None, 'prepared_unit': None}, {'name': 'sodium', 'value': 714.0, '100g': 5.099999904632568, 'serving': 0.7139999866485596, 'unit': 'mg', 'prepared_value': None, 'prepared_100g': None, 'prepared_serving': None, 'prepared_unit': None}, {'name': 'nutrition-score-fr', 'value': None, '100g': 40.0, 'serving': None, 'unit': None, 'prepared_value': None, 'prepared_100g': None, 'prepared_serving': None, 'prepared_unit': None}, {'name': 'proteins', 'value': 0.0, '100g': 0.0, 'serving': 0.0, 'unit': 'g', 'prepared_value': None, 'prepared_100g': None, 'prepared_serving': None, 'prepared_unit': None}, {'name': 'polyunsaturated-fat', 'value': 17.899999618530273, '100g': 128.0, 'serving': 17.899999618530273, 'unit': 'g', 'prepared_value': None, 'prepared_100g': None, 'prepared_serving': None, 'prepared_unit': None}, {'name': 'fat', 'value': 71.4000015258789, '100g': 510.0, 'serving': 71.4000015258789, 'unit': 'g', 'prepared_value': None, 'prepared_100g': None, 'prepared_serving': None, 'prepared_unit': None}]\n",
      "[{'name': 'fat', 'value': 57.13999938964844, '100g': 57.13999938964844, 'serving': 8.0, 'unit': 'g', 'prepared_value': None, 'prepared_100g': None, 'prepared_serving': None, 'prepared_unit': None}, {'name': 'sodium', 'value': 536.0, '100g': 0.5360000133514404, 'serving': 0.07500000298023224, 'unit': 'mg', 'prepared_value': None, 'prepared_100g': None, 'prepared_serving': None, 'prepared_unit': None}, {'name': 'vitamin-a', 'value': 3571.0, '100g': 0.0010713000083342195, 'serving': 0.0001500000071246177, 'unit': 'IU', 'prepared_value': None, 'prepared_100g': None, 'prepared_serving': None, 'prepared_unit': None}, {'name': 'proteins', 'value': 0.0, '100g': 0.0, 'serving': 0.0, 'unit': 'g', 'prepared_value': None, 'prepared_100g': None, 'prepared_serving': None, 'prepared_unit': None}, {'name': 'saturated-fat', 'value': 10.710000038146973, '100g': 10.710000038146973, 'serving': 1.5, 'unit': 'g', 'prepared_value': None, 'prepared_100g': None, 'prepared_serving': None, 'prepared_unit': None}, {'name': 'sugars', 'value': 0.0, '100g': 0.0, 'serving': 0.0, 'unit': 'g', 'prepared_value': None, 'prepared_100g': None, 'prepared_serving': None, 'prepared_unit': None}, {'name': 'fruits-vegetables-nuts-estimate-from-ingredients', 'value': None, '100g': 52.94117736816406, 'serving': 52.94117736816406, 'unit': None, 'prepared_value': None, 'prepared_100g': None, 'prepared_serving': None, 'prepared_unit': None}, {'name': 'fiber', 'value': 0.0, '100g': 0.0, 'serving': 0.0, 'unit': 'g', 'prepared_value': None, 'prepared_100g': None, 'prepared_serving': None, 'prepared_unit': None}, {'name': 'polyunsaturated-fat', 'value': 14.289999961853027, '100g': 14.289999961853027, 'serving': 2.0, 'unit': 'g', 'prepared_value': None, 'prepared_100g': None, 'prepared_serving': None, 'prepared_unit': None}, {'name': 'nova-group', 'value': None, '100g': 4.0, 'serving': 4.0, 'unit': None, 'prepared_value': None, 'prepared_100g': None, 'prepared_serving': None, 'prepared_unit': None}, {'name': 'energy', 'value': 571.0, '100g': 2389.0, 'serving': 334.0, 'unit': 'kcal', 'prepared_value': None, 'prepared_100g': None, 'prepared_serving': None, 'prepared_unit': None}, {'name': 'monounsaturated-fat', 'value': 32.13999938964844, '100g': 32.13999938964844, 'serving': 4.5, 'unit': 'g', 'prepared_value': None, 'prepared_100g': None, 'prepared_serving': None, 'prepared_unit': None}, {'name': 'vitamin-d', 'value': 429.0, '100g': 1.0724999810918234e-05, 'serving': 1.500000053056283e-06, 'unit': 'IU', 'prepared_value': None, 'prepared_100g': None, 'prepared_serving': None, 'prepared_unit': None}, {'name': 'trans-fat', 'value': 0.0, '100g': 0.0, 'serving': 0.0, 'unit': 'g', 'prepared_value': None, 'prepared_100g': None, 'prepared_serving': None, 'prepared_unit': None}, {'name': 'salt', 'value': 1340.0, '100g': 1.340000033378601, 'serving': 0.18799999356269836, 'unit': 'mg', 'prepared_value': None, 'prepared_100g': None, 'prepared_serving': None, 'prepared_unit': None}, {'name': 'cholesterol', 'value': 0.0, '100g': 0.0, 'serving': 0.0, 'unit': 'mg', 'prepared_value': None, 'prepared_100g': None, 'prepared_serving': None, 'prepared_unit': None}, {'name': 'energy-kcal', 'value': 571.0, '100g': 571.0, 'serving': 79.9000015258789, 'unit': 'kcal', 'prepared_value': None, 'prepared_100g': None, 'prepared_serving': None, 'prepared_unit': None}, {'name': 'carbohydrates', 'value': 0.0, '100g': 0.0, 'serving': 0.0, 'unit': 'g', 'prepared_value': None, 'prepared_100g': None, 'prepared_serving': None, 'prepared_unit': None}, {'name': 'fruits-vegetables-legumes-estimate-from-ingredients', 'value': None, '100g': 0.0, 'serving': 0.0, 'unit': None, 'prepared_value': None, 'prepared_100g': None, 'prepared_serving': None, 'prepared_unit': None}, {'name': 'nutrition-score-fr', 'value': None, '100g': 11.0, 'serving': None, 'unit': None, 'prepared_value': None, 'prepared_100g': None, 'prepared_serving': None, 'prepared_unit': None}]\n",
      "[{'name': 'cholesterol', 'value': 0.0, '100g': 0.0, 'serving': 0.0, 'unit': 'mg', 'prepared_value': None, 'prepared_100g': None, 'prepared_serving': None, 'prepared_unit': None}, {'name': 'vitamin-c', 'value': 2.0999999046325684, '100g': 0.0036800000816583633, 'serving': 0.002099999925121665, 'unit': 'mg', 'prepared_value': None, 'prepared_100g': None, 'prepared_serving': None, 'prepared_unit': None}, {'name': 'fiber', 'value': 1.7999999523162842, '100g': 3.1600000858306885, 'serving': 1.7999999523162842, 'unit': 'g', 'prepared_value': None, 'prepared_100g': None, 'prepared_serving': None, 'prepared_unit': None}, {'name': 'energy-kcal', 'value': 189.47999572753906, '100g': 332.0, 'serving': 189.47999572753906, 'unit': 'kcal', 'prepared_value': None, 'prepared_100g': None, 'prepared_serving': None, 'prepared_unit': None}, {'name': 'energy', 'value': 189.47999572753906, '100g': 1390.0, 'serving': 793.0, 'unit': 'kcal', 'prepared_value': None, 'prepared_100g': None, 'prepared_serving': None, 'prepared_unit': None}, {'name': 'iron', 'value': 2.5299999713897705, '100g': 0.00443999981507659, 'serving': 0.002529999939724803, 'unit': 'mg', 'prepared_value': None, 'prepared_100g': None, 'prepared_serving': None, 'prepared_unit': None}, {'name': 'trans-fat', 'value': 0.0, '100g': 0.0, 'serving': 0.0, 'unit': 'g', 'prepared_value': None, 'prepared_100g': None, 'prepared_serving': None, 'prepared_unit': None}, {'name': 'sodium', 'value': 561.0, '100g': 0.984000027179718, 'serving': 0.5609999895095825, 'unit': 'mg', 'prepared_value': None, 'prepared_100g': None, 'prepared_serving': None, 'prepared_unit': None}, {'name': 'fat', 'value': 2.630000114440918, '100g': 4.610000133514404, 'serving': 2.630000114440918, 'unit': 'g', 'prepared_value': None, 'prepared_100g': None, 'prepared_serving': None, 'prepared_unit': None}, {'name': 'nutrition-score-fr', 'value': None, '100g': 19.0, 'serving': None, 'unit': None, 'prepared_value': None, 'prepared_100g': None, 'prepared_serving': None, 'prepared_unit': None}, {'name': 'salt', 'value': 1402.5, '100g': 2.4600000381469727, 'serving': 1.402500033378601, 'unit': 'mg', 'prepared_value': None, 'prepared_100g': None, 'prepared_serving': None, 'prepared_unit': None}, {'name': 'saturated-fat', 'value': 0.0, '100g': 0.0, 'serving': 0.0, 'unit': 'g', 'prepared_value': None, 'prepared_100g': None, 'prepared_serving': None, 'prepared_unit': None}, {'name': 'proteins', 'value': 5.260000228881836, '100g': 9.229999542236328, 'serving': 5.260000228881836, 'unit': 'g', 'prepared_value': None, 'prepared_100g': None, 'prepared_serving': None, 'prepared_unit': None}, {'name': 'sugars', 'value': 8.770000457763672, '100g': 15.399999618530273, 'serving': 8.770000457763672, 'unit': 'g', 'prepared_value': None, 'prepared_100g': None, 'prepared_serving': None, 'prepared_unit': None}, {'name': 'calcium', 'value': 35.0, '100g': 0.061400000005960464, 'serving': 0.03500000014901161, 'unit': 'mg', 'prepared_value': None, 'prepared_100g': None, 'prepared_serving': None, 'prepared_unit': None}, {'name': 'carbohydrates', 'value': 47.369998931884766, '100g': 83.0999984741211, 'serving': 47.369998931884766, 'unit': 'g', 'prepared_value': None, 'prepared_100g': None, 'prepared_serving': None, 'prepared_unit': None}, {'name': 'fruits-vegetables-nuts-estimate-from-ingredients', 'value': None, '100g': 0.3551136255264282, 'serving': 0.3551136255264282, 'unit': None, 'prepared_value': None, 'prepared_100g': None, 'prepared_serving': None, 'prepared_unit': None}, {'name': 'vitamin-a', 'value': 0.0, '100g': 0.0, 'serving': 0.0, 'unit': 'µg', 'prepared_value': None, 'prepared_100g': None, 'prepared_serving': None, 'prepared_unit': None}, {'name': 'nova-group', 'value': None, '100g': 3.0, 'serving': 3.0, 'unit': None, 'prepared_value': None, 'prepared_100g': None, 'prepared_serving': None, 'prepared_unit': None}, {'name': 'fruits-vegetables-legumes-estimate-from-ingredients', 'value': None, '100g': 0.3551136255264282, 'serving': 0.3551136255264282, 'unit': None, 'prepared_value': None, 'prepared_100g': None, 'prepared_serving': None, 'prepared_unit': None}]\n",
      "[{'name': 'sugars', 'value': 53.599998474121094, '100g': 53.599998474121094, 'serving': 53.599998474121094, 'unit': 'g', 'prepared_value': None, 'prepared_100g': None, 'prepared_serving': None, 'prepared_unit': None}, {'name': 'saturated-fat', 'value': 21.5, '100g': 21.5, 'serving': 21.5, 'unit': 'g', 'prepared_value': None, 'prepared_100g': None, 'prepared_serving': None, 'prepared_unit': None}, {'name': 'carbohydrates', 'value': 54.20000076293945, '100g': 54.20000076293945, 'serving': 54.20000076293945, 'unit': 'g', 'prepared_value': None, 'prepared_100g': None, 'prepared_serving': None, 'prepared_unit': None}, {'name': 'fruits-vegetables-nuts-estimate-from-ingredients', 'value': None, '100g': 0.0, 'serving': 0.0, 'unit': None, 'prepared_value': None, 'prepared_100g': None, 'prepared_serving': None, 'prepared_unit': None}, {'name': 'nova-group', 'value': None, '100g': 4.0, 'serving': 4.0, 'unit': None, 'prepared_value': None, 'prepared_100g': None, 'prepared_serving': None, 'prepared_unit': None}, {'name': 'fruits-vegetables-legumes-estimate-from-ingredients', 'value': None, '100g': 0.0, 'serving': 0.0, 'unit': None, 'prepared_value': None, 'prepared_100g': None, 'prepared_serving': None, 'prepared_unit': None}, {'name': 'proteins', 'value': 6.400000095367432, '100g': 6.400000095367432, 'serving': 6.400000095367432, 'unit': 'g', 'prepared_value': None, 'prepared_100g': None, 'prepared_serving': None, 'prepared_unit': None}, {'name': 'fat', 'value': 34.70000076293945, '100g': 34.70000076293945, 'serving': 34.70000076293945, 'unit': 'g', 'prepared_value': None, 'prepared_100g': None, 'prepared_serving': None, 'prepared_unit': None}, {'name': 'energy-kcal', 'value': 216.8000030517578, '100g': 217.0, 'serving': 216.8000030517578, 'unit': 'kcal', 'prepared_value': None, 'prepared_100g': None, 'prepared_serving': None, 'prepared_unit': None}, {'name': 'energy', 'value': 216.8000030517578, '100g': 907.0, 'serving': 907.0, 'unit': 'kcal', 'prepared_value': None, 'prepared_100g': None, 'prepared_serving': None, 'prepared_unit': None}]\n",
      "[{'name': 'carbohydrates', 'value': 54.20000076293945, '100g': 54.20000076293945, 'serving': 54.20000076293945, 'unit': 'g', 'prepared_value': None, 'prepared_100g': None, 'prepared_serving': None, 'prepared_unit': None}, {'name': 'fat', 'value': 34.70000076293945, '100g': 34.70000076293945, 'serving': 34.70000076293945, 'unit': 'g', 'prepared_value': None, 'prepared_100g': None, 'prepared_serving': None, 'prepared_unit': None}, {'name': 'sugars', 'value': 53.599998474121094, '100g': 53.599998474121094, 'serving': 53.599998474121094, 'unit': 'g', 'prepared_value': None, 'prepared_100g': None, 'prepared_serving': None, 'prepared_unit': None}, {'name': 'energy', 'value': 216.8000030517578, '100g': 907.0, 'serving': 907.0, 'unit': 'kcal', 'prepared_value': None, 'prepared_100g': None, 'prepared_serving': None, 'prepared_unit': None}, {'name': 'energy-kcal', 'value': 216.8000030517578, '100g': 217.0, 'serving': 216.8000030517578, 'unit': 'kcal', 'prepared_value': None, 'prepared_100g': None, 'prepared_serving': None, 'prepared_unit': None}, {'name': 'proteins', 'value': 6.400000095367432, '100g': 6.400000095367432, 'serving': 6.400000095367432, 'unit': 'g', 'prepared_value': None, 'prepared_100g': None, 'prepared_serving': None, 'prepared_unit': None}, {'name': 'fruits-vegetables-nuts-estimate-from-ingredients', 'value': None, '100g': 0.0, 'serving': 0.0, 'unit': None, 'prepared_value': None, 'prepared_100g': None, 'prepared_serving': None, 'prepared_unit': None}, {'name': 'nova-group', 'value': None, '100g': 4.0, 'serving': 4.0, 'unit': None, 'prepared_value': None, 'prepared_100g': None, 'prepared_serving': None, 'prepared_unit': None}, {'name': 'fruits-vegetables-legumes-estimate-from-ingredients', 'value': None, '100g': 0.0, 'serving': 0.0, 'unit': None, 'prepared_value': None, 'prepared_100g': None, 'prepared_serving': None, 'prepared_unit': None}]\n",
      "[{'name': 'proteins', 'value': 7.099999904632568, '100g': 7.099999904632568, 'serving': 7.099999904632568, 'unit': 'g', 'prepared_value': None, 'prepared_100g': None, 'prepared_serving': None, 'prepared_unit': None}, {'name': 'fat', 'value': 26.100000381469727, '100g': 26.100000381469727, 'serving': 26.100000381469727, 'unit': 'g', 'prepared_value': None, 'prepared_100g': None, 'prepared_serving': None, 'prepared_unit': None}, {'name': 'energy-kcal', 'value': 509.0, '100g': 509.0, 'serving': 509.0, 'unit': 'kcal', 'prepared_value': None, 'prepared_100g': None, 'prepared_serving': None, 'prepared_unit': None}, {'name': 'energy', 'value': 509.0, '100g': 2130.0, 'serving': 2130.0, 'unit': 'kcal', 'prepared_value': None, 'prepared_100g': None, 'prepared_serving': None, 'prepared_unit': None}, {'name': 'fruits-vegetables-legumes-estimate-from-ingredients', 'value': None, '100g': 0.0, 'serving': 0.0, 'unit': None, 'prepared_value': None, 'prepared_100g': None, 'prepared_serving': None, 'prepared_unit': None}, {'name': 'carbohydrates', 'value': 60.0, '100g': 60.0, 'serving': 60.0, 'unit': 'g', 'prepared_value': None, 'prepared_100g': None, 'prepared_serving': None, 'prepared_unit': None}, {'name': 'nova-group', 'value': None, '100g': 4.0, 'serving': 4.0, 'unit': None, 'prepared_value': None, 'prepared_100g': None, 'prepared_serving': None, 'prepared_unit': None}, {'name': 'saturated-fat', 'value': 16.030000686645508, '100g': 16.030000686645508, 'serving': 16.0, 'unit': 'g', 'prepared_value': None, 'prepared_100g': None, 'prepared_serving': None, 'prepared_unit': None}, {'name': 'fruits-vegetables-nuts-estimate-from-ingredients', 'value': None, '100g': 0.0, 'serving': 0.0, 'unit': None, 'prepared_value': None, 'prepared_100g': None, 'prepared_serving': None, 'prepared_unit': None}, {'name': 'fiber', 'value': 2.700000047683716, '100g': 2.700000047683716, 'serving': 2.700000047683716, 'unit': 'g', 'prepared_value': None, 'prepared_100g': None, 'prepared_serving': None, 'prepared_unit': None}, {'name': 'sugars', 'value': 30.299999237060547, '100g': 30.299999237060547, 'serving': 30.299999237060547, 'unit': 'g', 'prepared_value': None, 'prepared_100g': None, 'prepared_serving': None, 'prepared_unit': None}]\n",
      "[{'name': 'fiber', 'value': 2.0, '100g': 2.0, 'serving': 2.0, 'unit': 'g', 'prepared_value': None, 'prepared_100g': None, 'prepared_serving': None, 'prepared_unit': None}, {'name': 'fat', 'value': 20.0, '100g': 20.0, 'serving': 20.0, 'unit': 'g', 'prepared_value': None, 'prepared_100g': None, 'prepared_serving': None, 'prepared_unit': None}, {'name': 'fruits-vegetables-nuts-estimate-from-ingredients', 'value': None, '100g': 0.0, 'serving': 0.0, 'unit': None, 'prepared_value': None, 'prepared_100g': None, 'prepared_serving': None, 'prepared_unit': None}, {'name': 'saturated-fat', 'value': 10.399999618530273, '100g': 10.399999618530273, 'serving': 10.399999618530273, 'unit': 'g', 'prepared_value': None, 'prepared_100g': None, 'prepared_serving': None, 'prepared_unit': None}, {'name': 'energy-kcal', 'value': 480.0, '100g': 480.0, 'serving': 480.0, 'unit': 'kcal', 'prepared_value': None, 'prepared_100g': None, 'prepared_serving': None, 'prepared_unit': None}, {'name': 'carbohydrates', 'value': 68.19999694824219, '100g': 68.19999694824219, 'serving': 68.19999694824219, 'unit': 'g', 'prepared_value': None, 'prepared_100g': None, 'prepared_serving': None, 'prepared_unit': None}, {'name': 'sugars', 'value': 38.599998474121094, '100g': 38.599998474121094, 'serving': 38.599998474121094, 'unit': 'g', 'prepared_value': None, 'prepared_100g': None, 'prepared_serving': None, 'prepared_unit': None}, {'name': 'proteins', 'value': 5.800000190734863, '100g': 5.800000190734863, 'serving': 5.800000190734863, 'unit': 'g', 'prepared_value': None, 'prepared_100g': None, 'prepared_serving': None, 'prepared_unit': None}, {'name': 'nova-group', 'value': None, '100g': 4.0, 'serving': 4.0, 'unit': None, 'prepared_value': None, 'prepared_100g': None, 'prepared_serving': None, 'prepared_unit': None}, {'name': 'energy', 'value': 480.0, '100g': 2008.0, 'serving': 2010.0, 'unit': 'kcal', 'prepared_value': None, 'prepared_100g': None, 'prepared_serving': None, 'prepared_unit': None}, {'name': 'fruits-vegetables-legumes-estimate-from-ingredients', 'value': None, '100g': 0.0, 'serving': 0.0, 'unit': None, 'prepared_value': None, 'prepared_100g': None, 'prepared_serving': None, 'prepared_unit': None}]\n",
      "[{'name': 'sugars', 'value': 0.6000000238418579, '100g': 0.6000000238418579, 'serving': 0.6000000238418579, 'unit': 'g', 'prepared_value': None, 'prepared_100g': None, 'prepared_serving': None, 'prepared_unit': None}, {'name': 'carbohydrates', 'value': 45.70000076293945, '100g': 45.70000076293945, 'serving': 45.70000076293945, 'unit': 'g', 'prepared_value': None, 'prepared_100g': None, 'prepared_serving': None, 'prepared_unit': None}, {'name': 'fruits-vegetables-nuts-estimate-from-ingredients', 'value': None, '100g': 0.0, 'serving': 0.0, 'unit': None, 'prepared_value': None, 'prepared_100g': None, 'prepared_serving': None, 'prepared_unit': None}, {'name': 'nova-group', 'value': None, '100g': 3.0, 'serving': 3.0, 'unit': None, 'prepared_value': None, 'prepared_100g': None, 'prepared_serving': None, 'prepared_unit': None}, {'name': 'salt', 'value': 6.0960001945495605, '100g': 6.099999904632568, 'serving': 6.0960001945495605, 'unit': 'g', 'prepared_value': None, 'prepared_100g': None, 'prepared_serving': None, 'prepared_unit': None}, {'name': 'fruits-vegetables-legumes-estimate-from-ingredients', 'value': None, '100g': 0.0, 'serving': 0.0, 'unit': None, 'prepared_value': None, 'prepared_100g': None, 'prepared_serving': None, 'prepared_unit': None}, {'name': 'fiber', 'value': 10.100000381469727, '100g': 10.100000381469727, 'serving': 10.100000381469727, 'unit': 'g', 'prepared_value': None, 'prepared_100g': None, 'prepared_serving': None, 'prepared_unit': None}, {'name': 'proteins', 'value': 21.899999618530273, '100g': 21.899999618530273, 'serving': 21.899999618530273, 'unit': 'g', 'prepared_value': None, 'prepared_100g': None, 'prepared_serving': None, 'prepared_unit': None}, {'name': 'fat', 'value': 0.30000001192092896, '100g': 0.30000001192092896, 'serving': 0.30000001192092896, 'unit': 'g', 'prepared_value': None, 'prepared_100g': None, 'prepared_serving': None, 'prepared_unit': None}, {'name': 'energy-kcal', 'value': 182.8000030517578, '100g': 183.0, 'serving': 182.8000030517578, 'unit': 'kcal', 'prepared_value': None, 'prepared_100g': None, 'prepared_serving': None, 'prepared_unit': None}, {'name': 'sodium', 'value': 2.4384000301361084, '100g': 2.440000057220459, 'serving': 2.4384000301361084, 'unit': 'g', 'prepared_value': None, 'prepared_100g': None, 'prepared_serving': None, 'prepared_unit': None}, {'name': 'energy', 'value': 182.8000030517578, '100g': 765.0, 'serving': 765.0, 'unit': 'kcal', 'prepared_value': None, 'prepared_100g': None, 'prepared_serving': None, 'prepared_unit': None}]\n",
      "[{'name': 'fruits-vegetables-nuts-estimate-from-ingredients', 'value': None, '100g': 0.0, 'serving': 0.0, 'unit': None, 'prepared_value': None, 'prepared_100g': None, 'prepared_serving': None, 'prepared_unit': None}, {'name': 'energy-kj', 'value': 1533.0, '100g': 1533.0, 'serving': 307.0, 'unit': 'kJ', 'prepared_value': None, 'prepared_100g': None, 'prepared_serving': None, 'prepared_unit': None}, {'name': 'fruits-vegetables-legumes-estimate-from-ingredients', 'value': None, '100g': 0.0, 'serving': 0.0, 'unit': None, 'prepared_value': None, 'prepared_100g': None, 'prepared_serving': None, 'prepared_unit': None}, {'name': 'proteins', 'value': 85.5, '100g': 85.5, 'serving': 17.100000381469727, 'unit': 'g', 'prepared_value': None, 'prepared_100g': None, 'prepared_serving': None, 'prepared_unit': None}, {'name': 'fat', 'value': 1.0, '100g': 1.0, 'serving': 0.20000000298023224, 'unit': 'g', 'prepared_value': None, 'prepared_100g': None, 'prepared_serving': None, 'prepared_unit': None}, {'name': 'proteins-dry-substance', 'value': 88.5, '100g': 88.5, 'serving': 17.700000762939453, 'unit': 'g', 'prepared_value': None, 'prepared_100g': None, 'prepared_serving': None, 'prepared_unit': None}, {'name': 'energy', 'value': 1533.0, '100g': 1533.0, 'serving': 307.0, 'unit': 'kJ', 'prepared_value': None, 'prepared_100g': None, 'prepared_serving': None, 'prepared_unit': None}, {'name': 'carbohydrates', 'value': 2.5, '100g': 2.5, 'serving': 0.5, 'unit': 'g', 'prepared_value': None, 'prepared_100g': None, 'prepared_serving': None, 'prepared_unit': None}, {'name': 'nova-group', 'value': None, '100g': 4.0, 'serving': 4.0, 'unit': None, 'prepared_value': None, 'prepared_100g': None, 'prepared_serving': None, 'prepared_unit': None}]\n",
      "[{'name': 'proteins', 'value': 0.0, '100g': 0.0, 'serving': 0.0, 'unit': 'g', 'prepared_value': None, 'prepared_100g': None, 'prepared_serving': None, 'prepared_unit': None}, {'name': 'energy-kcal', 'value': 1.2000000476837158, '100g': 1.2000000476837158, 'serving': 1.2000000476837158, 'unit': 'kcal', 'prepared_value': None, 'prepared_100g': None, 'prepared_serving': None, 'prepared_unit': None}, {'name': 'fruits-vegetables-legumes-estimate-from-ingredients', 'value': None, '100g': 0.0, 'serving': 0.0, 'unit': None, 'prepared_value': None, 'prepared_100g': None, 'prepared_serving': None, 'prepared_unit': None}, {'name': 'fat', 'value': 0.0, '100g': 0.0, 'serving': 0.0, 'unit': 'g', 'prepared_value': None, 'prepared_100g': None, 'prepared_serving': None, 'prepared_unit': None}, {'name': 'carbohydrates', 'value': 0.30000001192092896, '100g': 0.30000001192092896, 'serving': 0.30000001192092896, 'unit': 'g', 'prepared_value': None, 'prepared_100g': None, 'prepared_serving': None, 'prepared_unit': None}, {'name': 'energy', 'value': 1.2000000476837158, '100g': 5.0, 'serving': 5.0, 'unit': 'kcal', 'prepared_value': None, 'prepared_100g': None, 'prepared_serving': None, 'prepared_unit': None}, {'name': 'fruits-vegetables-nuts-estimate-from-ingredients', 'value': None, '100g': 0.0, 'serving': 0.0, 'unit': None, 'prepared_value': None, 'prepared_100g': None, 'prepared_serving': None, 'prepared_unit': None}, {'name': 'nova-group', 'value': None, '100g': 1.0, 'serving': 1.0, 'unit': None, 'prepared_value': None, 'prepared_100g': None, 'prepared_serving': None, 'prepared_unit': None}]\n",
      "[{'name': 'iron', 'value': 3.180000066757202, '100g': 0.0031799999997019768, 'serving': 0.00107999995816499, 'unit': 'mg', 'prepared_value': None, 'prepared_100g': None, 'prepared_serving': None, 'prepared_unit': None}, {'name': 'trans-fat', 'value': 0.0, '100g': 0.0, 'serving': 0.0, 'unit': 'g', 'prepared_value': None, 'prepared_100g': None, 'prepared_serving': None, 'prepared_unit': None}, {'name': 'vitamin-b1', 'value': 0.0, '100g': 0.0, 'serving': 0.0, 'unit': 'mg', 'prepared_value': None, 'prepared_100g': None, 'prepared_serving': None, 'prepared_unit': None}, {'name': 'salt', 'value': 1250.0, '100g': 1.25, 'serving': 0.42500001192092896, 'unit': 'mg', 'prepared_value': None, 'prepared_100g': None, 'prepared_serving': None, 'prepared_unit': None}, {'name': 'saturated-fat', 'value': 0.0, '100g': 0.0, 'serving': 0.0, 'unit': 'g', 'prepared_value': None, 'prepared_100g': None, 'prepared_serving': None, 'prepared_unit': None}, {'name': 'fiber', 'value': 2.9000000953674316, '100g': 2.9000000953674316, 'serving': 0.9860000014305115, 'unit': 'g', 'prepared_value': None, 'prepared_100g': None, 'prepared_serving': None, 'prepared_unit': None}, {'name': 'sodium', 'value': 500.0, '100g': 0.5, 'serving': 0.17000000178813934, 'unit': 'mg', 'prepared_value': None, 'prepared_100g': None, 'prepared_serving': None, 'prepared_unit': None}, {'name': 'fat', 'value': 1.4700000286102295, '100g': 1.4700000286102295, 'serving': 0.5, 'unit': 'g', 'prepared_value': None, 'prepared_100g': None, 'prepared_serving': None, 'prepared_unit': None}, {'name': 'energy', 'value': 235.0, '100g': 983.0, 'serving': 334.0, 'unit': 'kcal', 'prepared_value': None, 'prepared_100g': None, 'prepared_serving': None, 'prepared_unit': None}, {'name': 'nova-group', 'value': None, '100g': 4.0, 'serving': 4.0, 'unit': None, 'prepared_value': None, 'prepared_100g': None, 'prepared_serving': None, 'prepared_unit': None}, {'name': 'vitamin-pp', 'value': 3.5290000438690186, '100g': 0.0035290000960230827, 'serving': 0.0012000000569969416, 'unit': 'mg', 'prepared_value': None, 'prepared_100g': None, 'prepared_serving': None, 'prepared_unit': None}, {'name': 'energy-kcal', 'value': 235.0, '100g': 235.0, 'serving': 79.9000015258789, 'unit': 'kcal', 'prepared_value': None, 'prepared_100g': None, 'prepared_serving': None, 'prepared_unit': None}, {'name': 'cholesterol', 'value': 0.0, '100g': 0.0, 'serving': 0.0, 'unit': 'mg', 'prepared_value': None, 'prepared_100g': None, 'prepared_serving': None, 'prepared_unit': None}, {'name': 'proteins', 'value': 8.819999694824219, '100g': 8.819999694824219, 'serving': 3.0, 'unit': 'g', 'prepared_value': None, 'prepared_100g': None, 'prepared_serving': None, 'prepared_unit': None}, {'name': 'vitamin-b2', 'value': 0.4000000059604645, '100g': 0.00039999998989515007, 'serving': 0.00013600000238511711, 'unit': 'mg', 'prepared_value': None, 'prepared_100g': None, 'prepared_serving': None, 'prepared_unit': None}, {'name': 'sugars', 'value': 5.880000114440918, '100g': 5.880000114440918, 'serving': 2.0, 'unit': 'g', 'prepared_value': None, 'prepared_100g': None, 'prepared_serving': None, 'prepared_unit': None}, {'name': 'vitamin-a', 'value': 0.0, '100g': 0.0, 'serving': 0.0, 'unit': 'IU', 'prepared_value': None, 'prepared_100g': None, 'prepared_serving': None, 'prepared_unit': None}, {'name': 'vitamin-c', 'value': 0.0, '100g': 0.0, 'serving': 0.0, 'unit': 'mg', 'prepared_value': None, 'prepared_100g': None, 'prepared_serving': None, 'prepared_unit': None}, {'name': 'fruits-vegetables-nuts-estimate-from-ingredients', 'value': None, '100g': 0.46875, 'serving': 0.46875, 'unit': None, 'prepared_value': None, 'prepared_100g': None, 'prepared_serving': None, 'prepared_unit': None}, {'name': 'calcium', 'value': 0.0, '100g': 0.0, 'serving': 0.0, 'unit': 'mg', 'prepared_value': None, 'prepared_100g': None, 'prepared_serving': None, 'prepared_unit': None}, {'name': 'carbohydrates', 'value': 50.0, '100g': 50.0, 'serving': 17.0, 'unit': 'g', 'prepared_value': None, 'prepared_100g': None, 'prepared_serving': None, 'prepared_unit': None}, {'name': 'fruits-vegetables-legumes-estimate-from-ingredients', 'value': None, '100g': 0.3125, 'serving': 0.3125, 'unit': None, 'prepared_value': None, 'prepared_100g': None, 'prepared_serving': None, 'prepared_unit': None}, {'name': 'nutrition-score-fr', 'value': None, '100g': 6.0, 'serving': None, 'unit': None, 'prepared_value': None, 'prepared_100g': None, 'prepared_serving': None, 'prepared_unit': None}]\n",
      "[{'name': 'calcium', 'value': 0.0, '100g': 0.0, 'serving': 0.0, 'unit': 'mg', 'prepared_value': None, 'prepared_100g': None, 'prepared_serving': None, 'prepared_unit': None}, {'name': 'vitamin-b2', 'value': 0.2619999945163727, '100g': 0.00026199998683296144, 'serving': 0.00010199999815085903, 'unit': 'mg', 'prepared_value': None, 'prepared_100g': None, 'prepared_serving': None, 'prepared_unit': None}, {'name': 'saturated-fat', 'value': 0.0, '100g': 0.0, 'serving': 0.0, 'unit': 'g', 'prepared_value': None, 'prepared_100g': None, 'prepared_serving': None, 'prepared_unit': None}, {'name': 'fiber', 'value': 2.5999999046325684, '100g': 2.5999999046325684, 'serving': 1.0099999904632568, 'unit': 'g', 'prepared_value': None, 'prepared_100g': None, 'prepared_serving': None, 'prepared_unit': None}, {'name': 'proteins', 'value': 7.690000057220459, '100g': 7.690000057220459, 'serving': 3.0, 'unit': 'g', 'prepared_value': None, 'prepared_100g': None, 'prepared_serving': None, 'prepared_unit': None}, {'name': 'fruits-vegetables-nuts-estimate-from-ingredients', 'value': None, '100g': 0.0, 'serving': 0.0, 'unit': None, 'prepared_value': None, 'prepared_100g': None, 'prepared_serving': None, 'prepared_unit': None}, {'name': 'polyunsaturated-fat', 'value': 1.2799999713897705, '100g': 1.2799999713897705, 'serving': 0.49900001287460327, 'unit': 'g', 'prepared_value': None, 'prepared_100g': None, 'prepared_serving': None, 'prepared_unit': None}, {'name': 'energy', 'value': 256.0, '100g': 1071.0, 'serving': 418.0, 'unit': 'kcal', 'prepared_value': None, 'prepared_100g': None, 'prepared_serving': None, 'prepared_unit': None}, {'name': 'nova-group', 'value': None, '100g': 4.0, 'serving': 4.0, 'unit': None, 'prepared_value': None, 'prepared_100g': None, 'prepared_serving': None, 'prepared_unit': None}, {'name': 'vitamin-a', 'value': 0.0, '100g': 0.0, 'serving': 0.0, 'unit': 'IU', 'prepared_value': None, 'prepared_100g': None, 'prepared_serving': None, 'prepared_unit': None}, {'name': 'monounsaturated-fat', 'value': 0.0, '100g': 0.0, 'serving': 0.0, 'unit': 'g', 'prepared_value': None, 'prepared_100g': None, 'prepared_serving': None, 'prepared_unit': None}, {'name': 'fat', 'value': 2.559999942779541, '100g': 2.559999942779541, 'serving': 0.9980000257492065, 'unit': 'g', 'prepared_value': None, 'prepared_100g': None, 'prepared_serving': None, 'prepared_unit': None}, {'name': 'sodium', 'value': 321.0, '100g': 0.32100000977516174, 'serving': 0.125, 'unit': 'mg', 'prepared_value': None, 'prepared_100g': None, 'prepared_serving': None, 'prepared_unit': None}, {'name': 'vitamin-c', 'value': 0.0, '100g': 0.0, 'serving': 0.0, 'unit': 'mg', 'prepared_value': None, 'prepared_100g': None, 'prepared_serving': None, 'prepared_unit': None}, {'name': 'sugars', 'value': 2.559999942779541, '100g': 2.559999942779541, 'serving': 0.9980000257492065, 'unit': 'g', 'prepared_value': None, 'prepared_100g': None, 'prepared_serving': None, 'prepared_unit': None}, {'name': 'trans-fat', 'value': 0.0, '100g': 0.0, 'serving': 0.0, 'unit': 'g', 'prepared_value': None, 'prepared_100g': None, 'prepared_serving': None, 'prepared_unit': None}, {'name': 'salt', 'value': 802.5, '100g': 0.8025000095367432, 'serving': 0.31299999356269836, 'unit': 'mg', 'prepared_value': None, 'prepared_100g': None, 'prepared_serving': None, 'prepared_unit': None}, {'name': 'iron', 'value': 3.690000057220459, '100g': 0.0036899999249726534, 'serving': 0.0014400000218302011, 'unit': 'mg', 'prepared_value': None, 'prepared_100g': None, 'prepared_serving': None, 'prepared_unit': None}, {'name': 'cholesterol', 'value': 0.0, '100g': 0.0, 'serving': 0.0, 'unit': 'mg', 'prepared_value': None, 'prepared_100g': None, 'prepared_serving': None, 'prepared_unit': None}, {'name': 'vitamin-pp', 'value': 4.103000164031982, '100g': 0.004102999810129404, 'serving': 0.0015999999595806003, 'unit': 'mg', 'prepared_value': None, 'prepared_100g': None, 'prepared_serving': None, 'prepared_unit': None}, {'name': 'energy-kcal', 'value': 256.0, '100g': 256.0, 'serving': 99.80000305175781, 'unit': 'kcal', 'prepared_value': None, 'prepared_100g': None, 'prepared_serving': None, 'prepared_unit': None}, {'name': 'vitamin-b1', 'value': 0.0, '100g': 0.0, 'serving': 0.0, 'unit': 'mg', 'prepared_value': None, 'prepared_100g': None, 'prepared_serving': None, 'prepared_unit': None}, {'name': 'carbohydrates', 'value': 53.849998474121094, '100g': 53.849998474121094, 'serving': 21.0, 'unit': 'g', 'prepared_value': None, 'prepared_100g': None, 'prepared_serving': None, 'prepared_unit': None}, {'name': 'fruits-vegetables-legumes-estimate-from-ingredients', 'value': None, '100g': 0.0, 'serving': 0.0, 'unit': None, 'prepared_value': None, 'prepared_100g': None, 'prepared_serving': None, 'prepared_unit': None}, {'name': 'nutrition-score-fr', 'value': None, '100g': 4.0, 'serving': None, 'unit': None, 'prepared_value': None, 'prepared_100g': None, 'prepared_serving': None, 'prepared_unit': None}]\n",
      "[{'name': 'energy-kj', 'value': 1533.0, '100g': 1533.0, 'serving': 307.0, 'unit': 'kJ', 'prepared_value': None, 'prepared_100g': None, 'prepared_serving': None, 'prepared_unit': None}, {'name': 'proteins-dry-substance', 'value': 88.5, '100g': 88.5, 'serving': 17.700000762939453, 'unit': 'g', 'prepared_value': None, 'prepared_100g': None, 'prepared_serving': None, 'prepared_unit': None}, {'name': 'energy', 'value': 1533.0, '100g': 1533.0, 'serving': 307.0, 'unit': 'kJ', 'prepared_value': None, 'prepared_100g': None, 'prepared_serving': None, 'prepared_unit': None}, {'name': 'fat', 'value': 1.0, '100g': 1.0, 'serving': 0.20000000298023224, 'unit': 'g', 'prepared_value': None, 'prepared_100g': None, 'prepared_serving': None, 'prepared_unit': None}, {'name': 'carbohydrates', 'value': 2.5, '100g': 2.5, 'serving': 0.5, 'unit': 'g', 'prepared_value': None, 'prepared_100g': None, 'prepared_serving': None, 'prepared_unit': None}, {'name': 'fruits-vegetables-legumes-estimate-from-ingredients', 'value': None, '100g': 0.0, 'serving': 0.0, 'unit': None, 'prepared_value': None, 'prepared_100g': None, 'prepared_serving': None, 'prepared_unit': None}, {'name': 'proteins', 'value': 85.5, '100g': 85.5, 'serving': 17.100000381469727, 'unit': 'g', 'prepared_value': None, 'prepared_100g': None, 'prepared_serving': None, 'prepared_unit': None}, {'name': 'fruits-vegetables-nuts-estimate-from-ingredients', 'value': None, '100g': 0.0, 'serving': 0.0, 'unit': None, 'prepared_value': None, 'prepared_100g': None, 'prepared_serving': None, 'prepared_unit': None}, {'name': 'nova-group', 'value': None, '100g': 4.0, 'serving': 4.0, 'unit': None, 'prepared_value': None, 'prepared_100g': None, 'prepared_serving': None, 'prepared_unit': None}]\n",
      "[{'name': 'energy-kcal', 'value': 449.0, '100g': 449.0, 'serving': 449.0, 'unit': 'kcal', 'prepared_value': None, 'prepared_100g': None, 'prepared_serving': None, 'prepared_unit': None}, {'name': 'fat', 'value': 18.0, '100g': 18.0, 'serving': 18.0, 'unit': 'g', 'prepared_value': None, 'prepared_100g': None, 'prepared_serving': None, 'prepared_unit': None}, {'name': 'carbohydrates', 'value': 58.0, '100g': 58.0, 'serving': 58.0, 'unit': 'g', 'prepared_value': None, 'prepared_100g': None, 'prepared_serving': None, 'prepared_unit': None}, {'name': 'proteins', 'value': 2.5999999046325684, '100g': 2.5999999046325684, 'serving': 2.5999999046325684, 'unit': 'g', 'prepared_value': None, 'prepared_100g': None, 'prepared_serving': None, 'prepared_unit': None}, {'name': 'fruits-vegetables-nuts-estimate-from-ingredients', 'value': None, '100g': 0.0, 'serving': 0.0, 'unit': None, 'prepared_value': None, 'prepared_100g': None, 'prepared_serving': None, 'prepared_unit': None}, {'name': 'energy', 'value': 449.0, '100g': 1879.0, 'serving': 1880.0, 'unit': 'kcal', 'prepared_value': None, 'prepared_100g': None, 'prepared_serving': None, 'prepared_unit': None}, {'name': 'nova-group', 'value': None, '100g': 4.0, 'serving': 4.0, 'unit': None, 'prepared_value': None, 'prepared_100g': None, 'prepared_serving': None, 'prepared_unit': None}, {'name': 'fruits-vegetables-legumes-estimate-from-ingredients', 'value': None, '100g': 0.0, 'serving': 0.0, 'unit': None, 'prepared_value': None, 'prepared_100g': None, 'prepared_serving': None, 'prepared_unit': None}]\n",
      "[{'name': 'energy-kcal', 'value': 485.0, '100g': 485.0, 'serving': 194.0, 'unit': 'kcal', 'prepared_value': None, 'prepared_100g': None, 'prepared_serving': None, 'prepared_unit': None}, {'name': 'salt', 'value': 30.0, '100g': 0.029999999329447746, 'serving': 0.012000000104308128, 'unit': 'mg', 'prepared_value': None, 'prepared_100g': None, 'prepared_serving': None, 'prepared_unit': None}, {'name': 'nova-group', 'value': None, '100g': 4.0, 'serving': 4.0, 'unit': None, 'prepared_value': None, 'prepared_100g': None, 'prepared_serving': None, 'prepared_unit': None}, {'name': 'trans-fat', 'value': 0.0, '100g': 0.0, 'serving': 0.0, 'unit': 'g', 'prepared_value': None, 'prepared_100g': None, 'prepared_serving': None, 'prepared_unit': None}, {'name': 'energy', 'value': 485.0, '100g': 2029.0, 'serving': 812.0, 'unit': 'kcal', 'prepared_value': None, 'prepared_100g': None, 'prepared_serving': None, 'prepared_unit': None}, {'name': 'proteins', 'value': 8.75, '100g': 8.75, 'serving': 3.5, 'unit': 'g', 'prepared_value': None, 'prepared_100g': None, 'prepared_serving': None, 'prepared_unit': None}, {'name': 'cholesterol', 'value': 0.0, '100g': 0.0, 'serving': 0.0, 'unit': 'mg', 'prepared_value': None, 'prepared_100g': None, 'prepared_serving': None, 'prepared_unit': None}, {'name': 'saturated-fat', 'value': 9.75, '100g': 9.75, 'serving': 3.9000000953674316, 'unit': 'g', 'prepared_value': None, 'prepared_100g': None, 'prepared_serving': None, 'prepared_unit': None}, {'name': 'fiber', 'value': 4.199999809265137, '100g': 4.199999809265137, 'serving': 1.6799999475479126, 'unit': 'g', 'prepared_value': None, 'prepared_100g': None, 'prepared_serving': None, 'prepared_unit': None}, {'name': 'sodium', 'value': 12.0, '100g': 0.012000000104308128, 'serving': 0.004800000227987766, 'unit': 'mg', 'prepared_value': None, 'prepared_100g': None, 'prepared_serving': None, 'prepared_unit': None}, {'name': 'fat', 'value': 26.25, '100g': 26.25, 'serving': 10.5, 'unit': 'g', 'prepared_value': None, 'prepared_100g': None, 'prepared_serving': None, 'prepared_unit': None}, {'name': 'vitamin-a', 'value': 0.0, '100g': 0.0, 'serving': 0.0, 'unit': 'IU', 'prepared_value': None, 'prepared_100g': None, 'prepared_serving': None, 'prepared_unit': None}, {'name': 'calcium', 'value': 112.0, '100g': 0.1120000034570694, 'serving': 0.04479999840259552, 'unit': 'mg', 'prepared_value': None, 'prepared_100g': None, 'prepared_serving': None, 'prepared_unit': None}, {'name': 'fruits-vegetables-nuts-estimate-from-ingredients', 'value': None, '100g': 0.036716461181640625, 'serving': 0.036716461181640625, 'unit': None, 'prepared_value': None, 'prepared_100g': None, 'prepared_serving': None, 'prepared_unit': None}, {'name': 'vitamin-c', 'value': 3.5, '100g': 0.0035000001080334187, 'serving': 0.00139999995008111, 'unit': 'mg', 'prepared_value': None, 'prepared_100g': None, 'prepared_serving': None, 'prepared_unit': None}, {'name': 'sugars', 'value': 6.5, '100g': 6.5, 'serving': 2.5999999046325684, 'unit': 'g', 'prepared_value': None, 'prepared_100g': None, 'prepared_serving': None, 'prepared_unit': None}, {'name': 'carbohydrates', 'value': 58.75, '100g': 58.75, 'serving': 23.5, 'unit': 'g', 'prepared_value': None, 'prepared_100g': None, 'prepared_serving': None, 'prepared_unit': None}, {'name': 'fruits-vegetables-legumes-estimate-from-ingredients', 'value': None, '100g': 9.5367431640625e-05, 'serving': 9.5367431640625e-05, 'unit': None, 'prepared_value': None, 'prepared_100g': None, 'prepared_serving': None, 'prepared_unit': None}, {'name': 'nutrition-score-fr', 'value': None, '100g': 14.0, 'serving': None, 'unit': None, 'prepared_value': None, 'prepared_100g': None, 'prepared_serving': None, 'prepared_unit': None}]\n",
      "[{'name': 'energy', 'value': 143.0, '100g': 598.0, 'serving': 167.0, 'unit': 'kcal', 'prepared_value': None, 'prepared_100g': None, 'prepared_serving': None, 'prepared_unit': None}, {'name': 'energy-kcal', 'value': 143.0, '100g': 143.0, 'serving': 40.0, 'unit': 'kcal', 'prepared_value': None, 'prepared_100g': None, 'prepared_serving': None, 'prepared_unit': None}, {'name': 'vitamin-c', 'value': 12.899999618530273, '100g': 0.012900000438094139, 'serving': 0.0036100000143051147, 'unit': 'mg', 'prepared_value': None, 'prepared_100g': None, 'prepared_serving': None, 'prepared_unit': None}, {'name': 'salt', 'value': 1607.5, '100g': 1.6074999570846558, 'serving': 0.44999998807907104, 'unit': 'mg', 'prepared_value': None, 'prepared_100g': None, 'prepared_serving': None, 'prepared_unit': None}, {'name': 'carbohydrates', 'value': 32.13999938964844, '100g': 32.13999938964844, 'serving': 9.0, 'unit': 'g', 'prepared_value': None, 'prepared_100g': None, 'prepared_serving': None, 'prepared_unit': None}, {'name': 'fruits-vegetables-legumes-estimate-from-ingredients', 'value': None, '100g': 23.514286041259766, 'serving': 23.514286041259766, 'unit': None, 'prepared_value': None, 'prepared_100g': None, 'prepared_serving': None, 'prepared_unit': None}, {'name': 'nova-group', 'value': None, '100g': 4.0, 'serving': 4.0, 'unit': None, 'prepared_value': None, 'prepared_100g': None, 'prepared_serving': None, 'prepared_unit': None}, {'name': 'vitamin-a', 'value': 357.0, '100g': 0.00010710000060498714, 'serving': 2.9999999242136255e-05, 'unit': 'IU', 'prepared_value': None, 'prepared_100g': None, 'prepared_serving': None, 'prepared_unit': None}, {'name': 'fat', 'value': 0.0, '100g': 0.0, 'serving': 0.0, 'unit': 'g', 'prepared_value': None, 'prepared_100g': None, 'prepared_serving': None, 'prepared_unit': None}, {'name': 'proteins', 'value': 0.0, '100g': 0.0, 'serving': 0.0, 'unit': 'g', 'prepared_value': None, 'prepared_100g': None, 'prepared_serving': None, 'prepared_unit': None}, {'name': 'sugars', 'value': 25.0, '100g': 25.0, 'serving': 7.0, 'unit': 'g', 'prepared_value': None, 'prepared_100g': None, 'prepared_serving': None, 'prepared_unit': None}, {'name': 'fruits-vegetables-nuts-estimate-from-ingredients', 'value': None, '100g': 23.514286041259766, 'serving': 23.514286041259766, 'unit': None, 'prepared_value': None, 'prepared_100g': None, 'prepared_serving': None, 'prepared_unit': None}, {'name': 'sodium', 'value': 643.0, '100g': 0.6430000066757202, 'serving': 0.18000000715255737, 'unit': 'mg', 'prepared_value': None, 'prepared_100g': None, 'prepared_serving': None, 'prepared_unit': None}, {'name': 'nutrition-score-fr', 'value': None, '100g': 16.0, 'serving': None, 'unit': None, 'prepared_value': None, 'prepared_100g': None, 'prepared_serving': None, 'prepared_unit': None}]\n",
      "[{'name': 'vitamin-a', 'value': 0.0, '100g': 0.0, 'serving': 0.0, 'unit': 'IU', 'prepared_value': None, 'prepared_100g': None, 'prepared_serving': None, 'prepared_unit': None}, {'name': 'sugars', 'value': 34.380001068115234, '100g': 34.380001068115234, 'serving': 11.0, 'unit': 'g', 'prepared_value': None, 'prepared_100g': None, 'prepared_serving': None, 'prepared_unit': None}, {'name': 'fat', 'value': 0.0, '100g': 0.0, 'serving': 0.0, 'unit': 'g', 'prepared_value': None, 'prepared_100g': None, 'prepared_serving': None, 'prepared_unit': None}, {'name': 'vitamin-c', 'value': 18.799999237060547, '100g': 0.018799999728798866, 'serving': 0.006020000204443932, 'unit': 'mg', 'prepared_value': None, 'prepared_100g': None, 'prepared_serving': None, 'prepared_unit': None}, {'name': 'sodium', 'value': 1188.0, '100g': 1.187999963760376, 'serving': 0.3799999952316284, 'unit': 'mg', 'prepared_value': None, 'prepared_100g': None, 'prepared_serving': None, 'prepared_unit': None}, {'name': 'proteins', 'value': 0.0, '100g': 0.0, 'serving': 0.0, 'unit': 'g', 'prepared_value': None, 'prepared_100g': None, 'prepared_serving': None, 'prepared_unit': None}, {'name': 'saturated-fat', 'value': 0.0, '100g': 0.0, 'serving': 0.0, 'unit': 'g', 'prepared_value': None, 'prepared_100g': None, 'prepared_serving': None, 'prepared_unit': None}, {'name': 'nova-group', 'value': None, '100g': 3.0, 'serving': 3.0, 'unit': None, 'prepared_value': None, 'prepared_100g': None, 'prepared_serving': None, 'prepared_unit': None}, {'name': 'energy', 'value': 250.0, '100g': 1046.0, 'serving': 335.0, 'unit': 'kcal', 'prepared_value': None, 'prepared_100g': None, 'prepared_serving': None, 'prepared_unit': None}, {'name': 'calcium', 'value': 0.0, '100g': 0.0, 'serving': 0.0, 'unit': 'mg', 'prepared_value': None, 'prepared_100g': None, 'prepared_serving': None, 'prepared_unit': None}, {'name': 'fruits-vegetables-nuts-estimate-from-ingredients', 'value': None, '100g': 5.681818008422852, 'serving': 5.681818008422852, 'unit': None, 'prepared_value': None, 'prepared_100g': None, 'prepared_serving': None, 'prepared_unit': None}, {'name': 'fiber', 'value': 0.0, '100g': 0.0, 'serving': 0.0, 'unit': 'g', 'prepared_value': None, 'prepared_100g': None, 'prepared_serving': None, 'prepared_unit': None}, {'name': 'iron', 'value': 0.0, '100g': 0.0, 'serving': 0.0, 'unit': 'mg', 'prepared_value': None, 'prepared_100g': None, 'prepared_serving': None, 'prepared_unit': None}, {'name': 'salt', 'value': 2970.0, '100g': 2.9700000286102295, 'serving': 0.949999988079071, 'unit': 'mg', 'prepared_value': None, 'prepared_100g': None, 'prepared_serving': None, 'prepared_unit': None}, {'name': 'energy-kcal', 'value': 250.0, '100g': 250.0, 'serving': 80.0, 'unit': 'kcal', 'prepared_value': None, 'prepared_100g': None, 'prepared_serving': None, 'prepared_unit': None}, {'name': 'cholesterol', 'value': 0.0, '100g': 0.0, 'serving': 0.0, 'unit': 'mg', 'prepared_value': None, 'prepared_100g': None, 'prepared_serving': None, 'prepared_unit': None}, {'name': 'carbohydrates', 'value': 43.75, '100g': 43.75, 'serving': 14.0, 'unit': 'g', 'prepared_value': None, 'prepared_100g': None, 'prepared_serving': None, 'prepared_unit': None}, {'name': 'nutrition-score-fr', 'value': None, '100g': 27.0, 'serving': None, 'unit': None, 'prepared_value': None, 'prepared_100g': None, 'prepared_serving': None, 'prepared_unit': None}, {'name': 'fruits-vegetables-legumes-estimate-from-ingredients', 'value': None, '100g': 5.681818008422852, 'serving': 5.681818008422852, 'unit': None, 'prepared_value': None, 'prepared_100g': None, 'prepared_serving': None, 'prepared_unit': None}]\n",
      "[{'name': 'sodium', 'value': 0.0, '100g': 0.0, 'serving': 0.0, 'unit': 'mg', 'prepared_value': None, 'prepared_100g': None, 'prepared_serving': None, 'prepared_unit': None}, {'name': 'fat', 'value': 0.0, '100g': 0.0, 'serving': 0.0, 'unit': 'g', 'prepared_value': None, 'prepared_100g': None, 'prepared_serving': None, 'prepared_unit': None}, {'name': 'fruits-vegetables-nuts-estimate-from-ingredients', 'value': None, '100g': 0.00286102294921875, 'serving': 0.00286102294921875, 'unit': None, 'prepared_value': None, 'prepared_100g': None, 'prepared_serving': None, 'prepared_unit': None}, {'name': 'salt', 'value': 0.0, '100g': 0.0, 'serving': 0.0, 'unit': 'mg', 'prepared_value': None, 'prepared_100g': None, 'prepared_serving': None, 'prepared_unit': None}, {'name': 'energy-kcal', 'value': 200.0, '100g': 200.0, 'serving': 5.0, 'unit': 'kcal', 'prepared_value': None, 'prepared_100g': None, 'prepared_serving': None, 'prepared_unit': None}, {'name': 'carbohydrates', 'value': 80.0, '100g': 80.0, 'serving': 2.0, 'unit': 'g', 'prepared_value': None, 'prepared_100g': None, 'prepared_serving': None, 'prepared_unit': None}, {'name': 'vitamin-c', 'value': 600.0, '100g': 0.6000000238418579, 'serving': 0.014999999664723873, 'unit': 'mg', 'prepared_value': None, 'prepared_100g': None, 'prepared_serving': None, 'prepared_unit': None}, {'name': 'proteins', 'value': 0.0, '100g': 0.0, 'serving': 0.0, 'unit': 'g', 'prepared_value': None, 'prepared_100g': None, 'prepared_serving': None, 'prepared_unit': None}, {'name': 'vitamin-a', 'value': 50000.0, '100g': 0.014999999664723873, 'serving': 0.000375000003259629, 'unit': 'IU', 'prepared_value': None, 'prepared_100g': None, 'prepared_serving': None, 'prepared_unit': None}, {'name': 'energy', 'value': 200.0, '100g': 837.0, 'serving': 20.899999618530273, 'unit': 'kcal', 'prepared_value': None, 'prepared_100g': None, 'prepared_serving': None, 'prepared_unit': None}, {'name': 'nova-group', 'value': None, '100g': 4.0, 'serving': 4.0, 'unit': None, 'prepared_value': None, 'prepared_100g': None, 'prepared_serving': None, 'prepared_unit': None}, {'name': 'fruits-vegetables-legumes-estimate-from-ingredients', 'value': None, '100g': 0.00286102294921875, 'serving': 0.00286102294921875, 'unit': None, 'prepared_value': None, 'prepared_100g': None, 'prepared_serving': None, 'prepared_unit': None}, {'name': 'polyols', 'value': 40.0, '100g': 40.0, 'serving': 1.0, 'unit': 'g', 'prepared_value': None, 'prepared_100g': None, 'prepared_serving': None, 'prepared_unit': None}]\n",
      "[{'name': 'salt', 'value': 1500.0, '100g': 1.5, 'serving': 0.03750000149011612, 'unit': 'mg', 'prepared_value': None, 'prepared_100g': None, 'prepared_serving': None, 'prepared_unit': None}, {'name': 'energy-kcal', 'value': 200.0, '100g': 200.0, 'serving': 5.0, 'unit': 'kcal', 'prepared_value': None, 'prepared_100g': None, 'prepared_serving': None, 'prepared_unit': None}, {'name': 'vitamin-c', 'value': 600.0, '100g': 0.6000000238418579, 'serving': 0.014999999664723873, 'unit': 'mg', 'prepared_value': None, 'prepared_100g': None, 'prepared_serving': None, 'prepared_unit': None}, {'name': 'sugars', 'value': 0.0, '100g': 0.0, 'serving': 0.0, 'unit': 'g', 'prepared_value': None, 'prepared_100g': None, 'prepared_serving': None, 'prepared_unit': None}, {'name': 'carbohydrates', 'value': 80.0, '100g': 80.0, 'serving': 2.0, 'unit': 'g', 'prepared_value': None, 'prepared_100g': None, 'prepared_serving': None, 'prepared_unit': None}, {'name': 'sodium', 'value': 600.0, '100g': 0.6000000238418579, 'serving': 0.014999999664723873, 'unit': 'mg', 'prepared_value': None, 'prepared_100g': None, 'prepared_serving': None, 'prepared_unit': None}, {'name': 'fat', 'value': 0.0, '100g': 0.0, 'serving': 0.0, 'unit': 'g', 'prepared_value': None, 'prepared_100g': None, 'prepared_serving': None, 'prepared_unit': None}, {'name': 'fruits-vegetables-nuts-estimate-from-ingredients', 'value': None, '100g': 0.0056966147385537624, 'serving': 0.0056966147385537624, 'unit': None, 'prepared_value': None, 'prepared_100g': None, 'prepared_serving': None, 'prepared_unit': None}, {'name': 'nova-group', 'value': None, '100g': 4.0, 'serving': 4.0, 'unit': None, 'prepared_value': None, 'prepared_100g': None, 'prepared_serving': None, 'prepared_unit': None}, {'name': 'energy', 'value': 200.0, '100g': 837.0, 'serving': 20.899999618530273, 'unit': 'kcal', 'prepared_value': None, 'prepared_100g': None, 'prepared_serving': None, 'prepared_unit': None}, {'name': 'vitamin-a', 'value': 50000.0, '100g': 0.014999999664723873, 'serving': 0.000375000003259629, 'unit': 'IU', 'prepared_value': None, 'prepared_100g': None, 'prepared_serving': None, 'prepared_unit': None}, {'name': 'fruits-vegetables-legumes-estimate-from-ingredients', 'value': None, '100g': 0.0056966147385537624, 'serving': 0.0056966147385537624, 'unit': None, 'prepared_value': None, 'prepared_100g': None, 'prepared_serving': None, 'prepared_unit': None}, {'name': 'proteins', 'value': 0.0, '100g': 0.0, 'serving': 0.0, 'unit': 'g', 'prepared_value': None, 'prepared_100g': None, 'prepared_serving': None, 'prepared_unit': None}]\n",
      "[{'name': 'fiber', 'value': 2.0, '100g': 8.0, 'serving': 2.0, 'unit': 'g', 'prepared_value': None, 'prepared_100g': None, 'prepared_serving': None, 'prepared_unit': None}, {'name': 'energy', 'value': 240.0, '100g': 4020.0, 'serving': 1004.0, 'unit': 'kcal', 'prepared_value': None, 'prepared_100g': None, 'prepared_serving': None, 'prepared_unit': None}, {'name': 'energy-kcal', 'value': 240.0, '100g': 960.0, 'serving': 240.0, 'unit': 'kcal', 'prepared_value': None, 'prepared_100g': None, 'prepared_serving': None, 'prepared_unit': None}, {'name': 'sodium', 'value': 160.0, '100g': 0.6399999856948853, 'serving': 0.1599999964237213, 'unit': 'mg', 'prepared_value': None, 'prepared_100g': None, 'prepared_serving': None, 'prepared_unit': None}, {'name': 'carbohydrates', 'value': 60.0, '100g': 240.0, 'serving': 60.0, 'unit': 'g', 'prepared_value': None, 'prepared_100g': None, 'prepared_serving': None, 'prepared_unit': None}, {'name': 'nutrition-score-fr', 'value': None, '100g': 37.0, 'serving': None, 'unit': None, 'prepared_value': None, 'prepared_100g': None, 'prepared_serving': None, 'prepared_unit': None}, {'name': 'salt', 'value': 400.0, '100g': 1.600000023841858, 'serving': 0.4000000059604645, 'unit': 'mg', 'prepared_value': None, 'prepared_100g': None, 'prepared_serving': None, 'prepared_unit': None}, {'name': 'saturated-fat', 'value': 18.399999618530273, '100g': 73.5999984741211, 'serving': 18.399999618530273, 'unit': 'g', 'prepared_value': None, 'prepared_100g': None, 'prepared_serving': None, 'prepared_unit': None}, {'name': 'proteins', 'value': 8.0, '100g': 32.0, 'serving': 8.0, 'unit': 'g', 'prepared_value': None, 'prepared_100g': None, 'prepared_serving': None, 'prepared_unit': None}, {'name': 'fat', 'value': 28.0, '100g': 112.0, 'serving': 28.0, 'unit': 'g', 'prepared_value': None, 'prepared_100g': None, 'prepared_serving': None, 'prepared_unit': None}, {'name': 'fruits-vegetables-legumes-estimate-from-ingredients', 'value': None, '100g': 0.0, 'serving': 0.0, 'unit': None, 'prepared_value': None, 'prepared_100g': None, 'prepared_serving': None, 'prepared_unit': None}, {'name': 'sugars', 'value': 49.599998474121094, '100g': 198.0, 'serving': 49.599998474121094, 'unit': 'g', 'prepared_value': None, 'prepared_100g': None, 'prepared_serving': None, 'prepared_unit': None}, {'name': 'fruits-vegetables-nuts-estimate-from-ingredients', 'value': None, '100g': 0.0, 'serving': 0.0, 'unit': None, 'prepared_value': None, 'prepared_100g': None, 'prepared_serving': None, 'prepared_unit': None}, {'name': 'nova-group', 'value': None, '100g': 4.0, 'serving': 4.0, 'unit': None, 'prepared_value': None, 'prepared_100g': None, 'prepared_serving': None, 'prepared_unit': None}]\n",
      "[{'name': 'proteins', 'value': 8.0, '100g': 8.0, 'serving': None, 'unit': 'g', 'prepared_value': None, 'prepared_100g': None, 'prepared_serving': None, 'prepared_unit': None}, {'name': 'salt', 'value': 0.13208000361919403, '100g': 0.13208000361919403, 'serving': None, 'unit': 'g', 'prepared_value': None, 'prepared_100g': None, 'prepared_serving': None, 'prepared_unit': None}, {'name': 'carbohydrates', 'value': 56.0, '100g': 56.0, 'serving': None, 'unit': 'g', 'prepared_value': None, 'prepared_100g': None, 'prepared_serving': None, 'prepared_unit': None}, {'name': 'nova-group', 'value': None, '100g': 4.0, 'serving': 4.0, 'unit': None, 'prepared_value': None, 'prepared_100g': None, 'prepared_serving': None, 'prepared_unit': None}, {'name': 'energy', 'value': 512.0, '100g': 2142.0, 'serving': None, 'unit': 'kcal', 'prepared_value': None, 'prepared_100g': None, 'prepared_serving': None, 'prepared_unit': None}, {'name': 'fiber', 'value': 1.600000023841858, '100g': 1.600000023841858, 'serving': None, 'unit': 'g', 'prepared_value': None, 'prepared_100g': None, 'prepared_serving': None, 'prepared_unit': None}, {'name': 'fruits-vegetables-legumes-estimate-from-ingredients', 'value': None, '100g': 11.458333015441895, 'serving': 11.458333015441895, 'unit': None, 'prepared_value': None, 'prepared_100g': None, 'prepared_serving': None, 'prepared_unit': None}, {'name': 'fruits-vegetables-nuts-estimate-from-ingredients', 'value': None, '100g': 12.890625, 'serving': 12.890625, 'unit': None, 'prepared_value': None, 'prepared_100g': None, 'prepared_serving': None, 'prepared_unit': None}, {'name': 'sugars', 'value': 43.599998474121094, '100g': 43.599998474121094, 'serving': None, 'unit': 'g', 'prepared_value': None, 'prepared_100g': None, 'prepared_serving': None, 'prepared_unit': None}, {'name': 'fat', 'value': 28.0, '100g': 28.0, 'serving': None, 'unit': 'g', 'prepared_value': None, 'prepared_100g': None, 'prepared_serving': None, 'prepared_unit': None}, {'name': 'saturated-fat', 'value': 15.600000381469727, '100g': 15.600000381469727, 'serving': None, 'unit': 'g', 'prepared_value': None, 'prepared_100g': None, 'prepared_serving': None, 'prepared_unit': None}, {'name': 'sodium', 'value': 0.05283199995756149, '100g': 0.05283199995756149, 'serving': None, 'unit': 'g', 'prepared_value': None, 'prepared_100g': None, 'prepared_serving': None, 'prepared_unit': None}, {'name': 'energy-kcal', 'value': 512.0, '100g': 512.0, 'serving': None, 'unit': 'kcal', 'prepared_value': None, 'prepared_100g': None, 'prepared_serving': None, 'prepared_unit': None}]\n",
      "[{'name': 'fat', 'value': 31.200000762939453, '100g': 125.0, 'serving': 31.200000762939453, 'unit': 'g', 'prepared_value': None, 'prepared_100g': None, 'prepared_serving': None, 'prepared_unit': None}, {'name': 'carbohydrates', 'value': 57.20000076293945, '100g': 229.0, 'serving': 57.20000076293945, 'unit': 'g', 'prepared_value': None, 'prepared_100g': None, 'prepared_serving': None, 'prepared_unit': None}, {'name': 'sugars', 'value': 56.0, '100g': 224.0, 'serving': 56.0, 'unit': 'g', 'prepared_value': None, 'prepared_100g': None, 'prepared_serving': None, 'prepared_unit': None}, {'name': 'proteins', 'value': 7.199999809265137, '100g': 28.799999237060547, 'serving': 7.199999809265137, 'unit': 'g', 'prepared_value': None, 'prepared_100g': None, 'prepared_serving': None, 'prepared_unit': None}, {'name': 'fruits-vegetables-nuts-estimate-from-ingredients', 'value': None, '100g': 7.699999809265137, 'serving': 7.699999809265137, 'unit': None, 'prepared_value': None, 'prepared_100g': None, 'prepared_serving': None, 'prepared_unit': None}, {'name': 'saturated-fat', 'value': 16.799999237060547, '100g': 67.19999694824219, 'serving': 16.799999237060547, 'unit': 'g', 'prepared_value': None, 'prepared_100g': None, 'prepared_serving': None, 'prepared_unit': None}, {'name': 'salt', 'value': 0.1422400027513504, '100g': 0.5690000057220459, 'serving': 0.1422400027513504, 'unit': 'g', 'prepared_value': None, 'prepared_100g': None, 'prepared_serving': None, 'prepared_unit': None}, {'name': 'fiber', 'value': 2.4000000953674316, '100g': 9.600000381469727, 'serving': 2.4000000953674316, 'unit': 'g', 'prepared_value': None, 'prepared_100g': None, 'prepared_serving': None, 'prepared_unit': None}, {'name': 'nova-group', 'value': None, '100g': 4.0, 'serving': 4.0, 'unit': None, 'prepared_value': None, 'prepared_100g': None, 'prepared_serving': None, 'prepared_unit': None}, {'name': 'fruits-vegetables-legumes-estimate-from-ingredients', 'value': None, '100g': 0.0, 'serving': 0.0, 'unit': None, 'prepared_value': None, 'prepared_100g': None, 'prepared_serving': None, 'prepared_unit': None}, {'name': 'energy', 'value': 228.8000030517578, '100g': 3830.0, 'serving': 957.0, 'unit': 'kcal', 'prepared_value': None, 'prepared_100g': None, 'prepared_serving': None, 'prepared_unit': None}, {'name': 'energy-kcal', 'value': 228.8000030517578, '100g': 915.0, 'serving': 228.8000030517578, 'unit': 'kcal', 'prepared_value': None, 'prepared_100g': None, 'prepared_serving': None, 'prepared_unit': None}, {'name': 'sodium', 'value': 0.05689600110054016, '100g': 0.2280000001192093, 'serving': 0.05689600110054016, 'unit': 'g', 'prepared_value': None, 'prepared_100g': None, 'prepared_serving': None, 'prepared_unit': None}, {'name': 'nutrition-score-fr', 'value': None, '100g': 32.0, 'serving': None, 'unit': None, 'prepared_value': None, 'prepared_100g': None, 'prepared_serving': None, 'prepared_unit': None}]\n",
      "[{'name': 'energy-kcal', 'value': 461.0, '100g': 461.0, 'serving': 461.0, 'unit': 'kcal', 'prepared_value': None, 'prepared_100g': None, 'prepared_serving': None, 'prepared_unit': None}, {'name': 'fat', 'value': 21.399999618530273, '100g': 21.399999618530273, 'serving': 21.399999618530273, 'unit': 'g', 'prepared_value': None, 'prepared_100g': None, 'prepared_serving': None, 'prepared_unit': None}, {'name': 'sodium', 'value': 100.0, '100g': 0.10000000149011612, 'serving': 0.10000000149011612, 'unit': 'mg', 'prepared_value': None, 'prepared_100g': None, 'prepared_serving': None, 'prepared_unit': None}, {'name': 'saturated-fat', 'value': 1.7999999523162842, '100g': 1.7999999523162842, 'serving': 1.7999999523162842, 'unit': 'g', 'prepared_value': None, 'prepared_100g': None, 'prepared_serving': None, 'prepared_unit': None}, {'name': 'proteins', 'value': 9.600000381469727, '100g': 9.600000381469727, 'serving': 9.600000381469727, 'unit': 'g', 'prepared_value': None, 'prepared_100g': None, 'prepared_serving': None, 'prepared_unit': None}, {'name': 'sugars', 'value': 51.599998474121094, '100g': 51.599998474121094, 'serving': 51.599998474121094, 'unit': 'g', 'prepared_value': None, 'prepared_100g': None, 'prepared_serving': None, 'prepared_unit': None}, {'name': 'fiber', 'value': 4.199999809265137, '100g': 4.199999809265137, 'serving': 4.199999809265137, 'unit': 'g', 'prepared_value': None, 'prepared_100g': None, 'prepared_serving': None, 'prepared_unit': None}, {'name': 'fruits-vegetables-nuts-estimate-from-ingredients', 'value': None, '100g': 22.22222137451172, 'serving': 22.22222137451172, 'unit': None, 'prepared_value': None, 'prepared_100g': None, 'prepared_serving': None, 'prepared_unit': None}, {'name': 'fruits-vegetables-legumes-estimate-from-ingredients', 'value': None, '100g': 0.0, 'serving': 0.0, 'unit': None, 'prepared_value': None, 'prepared_100g': None, 'prepared_serving': None, 'prepared_unit': None}, {'name': 'carbohydrates', 'value': 55.20000076293945, '100g': 55.20000076293945, 'serving': 55.20000076293945, 'unit': 'g', 'prepared_value': None, 'prepared_100g': None, 'prepared_serving': None, 'prepared_unit': None}, {'name': 'energy', 'value': 461.0, '100g': 1929.0, 'serving': 1930.0, 'unit': 'kcal', 'prepared_value': None, 'prepared_100g': None, 'prepared_serving': None, 'prepared_unit': None}, {'name': 'nova-group', 'value': None, '100g': 4.0, 'serving': 4.0, 'unit': None, 'prepared_value': None, 'prepared_100g': None, 'prepared_serving': None, 'prepared_unit': None}, {'name': 'nutrition-score-fr', 'value': None, '100g': 20.0, 'serving': None, 'unit': None, 'prepared_value': None, 'prepared_100g': None, 'prepared_serving': None, 'prepared_unit': None}, {'name': 'salt', 'value': 250.0, '100g': 0.25, 'serving': 0.25, 'unit': 'mg', 'prepared_value': None, 'prepared_100g': None, 'prepared_serving': None, 'prepared_unit': None}]\n",
      "[{'name': 'proteins', 'value': 7.139999866485596, '100g': 25.5, 'serving': 7.139999866485596, 'unit': 'g', 'prepared_value': None, 'prepared_100g': None, 'prepared_serving': None, 'prepared_unit': None}, {'name': 'fruits-vegetables-nuts-estimate-from-ingredients', 'value': None, '100g': 10.714285850524902, 'serving': 10.714285850524902, 'unit': None, 'prepared_value': None, 'prepared_100g': None, 'prepared_serving': None, 'prepared_unit': None}, {'name': 'fat', 'value': 21.43000030517578, '100g': 76.5, 'serving': 21.43000030517578, 'unit': 'g', 'prepared_value': None, 'prepared_100g': None, 'prepared_serving': None, 'prepared_unit': None}, {'name': 'trans-fat', 'value': 0.0, '100g': 0.0, 'serving': 0.0, 'unit': 'g', 'prepared_value': None, 'prepared_100g': None, 'prepared_serving': None, 'prepared_unit': None}, {'name': 'sugars', 'value': 28.56999969482422, '100g': 102.0, 'serving': 28.56999969482422, 'unit': 'g', 'prepared_value': None, 'prepared_100g': None, 'prepared_serving': None, 'prepared_unit': None}, {'name': 'carbohydrates', 'value': 67.86000061035156, '100g': 242.0, 'serving': 67.86000061035156, 'unit': 'g', 'prepared_value': None, 'prepared_100g': None, 'prepared_serving': None, 'prepared_unit': None}, {'name': 'salt', 'value': 535.0, '100g': 1.909999966621399, 'serving': 0.5350000262260437, 'unit': 'mg', 'prepared_value': None, 'prepared_100g': None, 'prepared_serving': None, 'prepared_unit': None}, {'name': 'fiber', 'value': 3.5999999046325684, '100g': 12.899999618530273, 'serving': 3.5999999046325684, 'unit': 'g', 'prepared_value': None, 'prepared_100g': None, 'prepared_serving': None, 'prepared_unit': None}, {'name': 'nova-group', 'value': None, '100g': 1.0, 'serving': 1.0, 'unit': None, 'prepared_value': None, 'prepared_100g': None, 'prepared_serving': None, 'prepared_unit': None}, {'name': 'saturated-fat', 'value': 12.5, '100g': 44.599998474121094, 'serving': 12.5, 'unit': 'g', 'prepared_value': None, 'prepared_100g': None, 'prepared_serving': None, 'prepared_unit': None}, {'name': 'fruits-vegetables-legumes-estimate-from-ingredients', 'value': None, '100g': 10.714285850524902, 'serving': 10.714285850524902, 'unit': None, 'prepared_value': None, 'prepared_100g': None, 'prepared_serving': None, 'prepared_unit': None}, {'name': 'cholesterol', 'value': 36.0, '100g': 0.1289999932050705, 'serving': 0.035999998450279236, 'unit': 'mg', 'prepared_value': None, 'prepared_100g': None, 'prepared_serving': None, 'prepared_unit': None}, {'name': 'energy', 'value': 271.44000244140625, '100g': 4060.0, 'serving': 1136.0, 'unit': 'kcal', 'prepared_value': None, 'prepared_100g': None, 'prepared_serving': None, 'prepared_unit': None}, {'name': 'energy-kcal', 'value': 271.44000244140625, '100g': 969.0, 'serving': 271.44000244140625, 'unit': 'kcal', 'prepared_value': None, 'prepared_100g': None, 'prepared_serving': None, 'prepared_unit': None}, {'name': 'sodium', 'value': 214.0, '100g': 0.7639999985694885, 'serving': 0.21400000154972076, 'unit': 'mg', 'prepared_value': None, 'prepared_100g': None, 'prepared_serving': None, 'prepared_unit': None}, {'name': 'nutrition-score-fr', 'value': None, '100g': 39.0, 'serving': None, 'unit': None, 'prepared_value': None, 'prepared_100g': None, 'prepared_serving': None, 'prepared_unit': None}]\n",
      "[{'name': 'trans-fat', 'value': 0.0, '100g': 0.0, 'serving': 0.0, 'unit': 'g', 'prepared_value': None, 'prepared_100g': None, 'prepared_serving': None, 'prepared_unit': None}, {'name': 'nova-group', 'value': None, '100g': 1.0, 'serving': 1.0, 'unit': None, 'prepared_value': None, 'prepared_100g': None, 'prepared_serving': None, 'prepared_unit': None}, {'name': 'sugars', 'value': 28.56999969482422, '100g': 102.0, 'serving': 28.56999969482422, 'unit': 'g', 'prepared_value': None, 'prepared_100g': None, 'prepared_serving': None, 'prepared_unit': None}, {'name': 'proteins', 'value': 7.139999866485596, '100g': 25.5, 'serving': 7.139999866485596, 'unit': 'g', 'prepared_value': None, 'prepared_100g': None, 'prepared_serving': None, 'prepared_unit': None}, {'name': 'fiber', 'value': 3.5999999046325684, '100g': 12.899999618530273, 'serving': 3.5999999046325684, 'unit': 'g', 'prepared_value': None, 'prepared_100g': None, 'prepared_serving': None, 'prepared_unit': None}, {'name': 'salt', 'value': 535.0, '100g': 1.909999966621399, 'serving': 0.5350000262260437, 'unit': 'mg', 'prepared_value': None, 'prepared_100g': None, 'prepared_serving': None, 'prepared_unit': None}, {'name': 'saturated-fat', 'value': 12.5, '100g': 44.599998474121094, 'serving': 12.5, 'unit': 'g', 'prepared_value': None, 'prepared_100g': None, 'prepared_serving': None, 'prepared_unit': None}, {'name': 'fat', 'value': 21.43000030517578, '100g': 76.5, 'serving': 21.43000030517578, 'unit': 'g', 'prepared_value': None, 'prepared_100g': None, 'prepared_serving': None, 'prepared_unit': None}, {'name': 'fruits-vegetables-nuts-estimate-from-ingredients', 'value': None, '100g': 100.0, 'serving': 100.0, 'unit': None, 'prepared_value': None, 'prepared_100g': None, 'prepared_serving': None, 'prepared_unit': None}, {'name': 'carbohydrates', 'value': 67.86000061035156, '100g': 242.0, 'serving': 67.86000061035156, 'unit': 'g', 'prepared_value': None, 'prepared_100g': None, 'prepared_serving': None, 'prepared_unit': None}, {'name': 'fruits-vegetables-legumes-estimate-from-ingredients', 'value': None, '100g': 0.0, 'serving': 0.0, 'unit': None, 'prepared_value': None, 'prepared_100g': None, 'prepared_serving': None, 'prepared_unit': None}, {'name': 'cholesterol', 'value': 36.0, '100g': 0.1289999932050705, 'serving': 0.035999998450279236, 'unit': 'mg', 'prepared_value': None, 'prepared_100g': None, 'prepared_serving': None, 'prepared_unit': None}, {'name': 'sodium', 'value': 214.0, '100g': 0.7639999985694885, 'serving': 0.21400000154972076, 'unit': 'mg', 'prepared_value': None, 'prepared_100g': None, 'prepared_serving': None, 'prepared_unit': None}, {'name': 'energy', 'value': 271.44000244140625, '100g': 4060.0, 'serving': 1136.0, 'unit': 'kcal', 'prepared_value': None, 'prepared_100g': None, 'prepared_serving': None, 'prepared_unit': None}, {'name': 'energy-kcal', 'value': 271.44000244140625, '100g': 969.0, 'serving': 271.44000244140625, 'unit': 'kcal', 'prepared_value': None, 'prepared_100g': None, 'prepared_serving': None, 'prepared_unit': None}, {'name': 'nutrition-score-fr', 'value': None, '100g': 39.0, 'serving': None, 'unit': None, 'prepared_value': None, 'prepared_100g': None, 'prepared_serving': None, 'prepared_unit': None}]\n",
      "[{'name': 'energy-kcal', 'value': 388.0, '100g': 388.0, 'serving': 132.0, 'unit': 'kcal', 'prepared_value': None, 'prepared_100g': None, 'prepared_serving': None, 'prepared_unit': None}, {'name': 'iron', 'value': 1.059999942779541, '100g': 0.0010600000387057662, 'serving': 0.0003600000054575503, 'unit': 'mg', 'prepared_value': None, 'prepared_100g': None, 'prepared_serving': None, 'prepared_unit': None}, {'name': 'salt', 'value': 367.5, '100g': 0.3675000071525574, 'serving': 0.125, 'unit': 'mg', 'prepared_value': None, 'prepared_100g': None, 'prepared_serving': None, 'prepared_unit': None}, {'name': 'trans-fat', 'value': 0.0, '100g': 0.0, 'serving': 0.0, 'unit': 'g', 'prepared_value': None, 'prepared_100g': None, 'prepared_serving': None, 'prepared_unit': None}, {'name': 'energy', 'value': 388.0, '100g': 1623.0, 'serving': 552.0, 'unit': 'kcal', 'prepared_value': None, 'prepared_100g': None, 'prepared_serving': None, 'prepared_unit': None}, {'name': 'nova-group', 'value': None, '100g': 3.0, 'serving': 3.0, 'unit': None, 'prepared_value': None, 'prepared_100g': None, 'prepared_serving': None, 'prepared_unit': None}, {'name': 'proteins', 'value': 2.940000057220459, '100g': 2.940000057220459, 'serving': 1.0, 'unit': 'g', 'prepared_value': None, 'prepared_100g': None, 'prepared_serving': None, 'prepared_unit': None}, {'name': 'cholesterol', 'value': 74.0, '100g': 0.07400000095367432, 'serving': 0.025200000032782555, 'unit': 'mg', 'prepared_value': None, 'prepared_100g': None, 'prepared_serving': None, 'prepared_unit': None}, {'name': 'saturated-fat', 'value': 10.289999961853027, '100g': 10.289999961853027, 'serving': 3.5, 'unit': 'g', 'prepared_value': None, 'prepared_100g': None, 'prepared_serving': None, 'prepared_unit': None}, {'name': 'fiber', 'value': 1.5, '100g': 1.5, 'serving': 0.5099999904632568, 'unit': 'g', 'prepared_value': None, 'prepared_100g': None, 'prepared_serving': None, 'prepared_unit': None}, {'name': 'sodium', 'value': 147.0, '100g': 0.1469999998807907, 'serving': 0.05000000074505806, 'unit': 'mg', 'prepared_value': None, 'prepared_100g': None, 'prepared_serving': None, 'prepared_unit': None}, {'name': 'fat', 'value': 17.649999618530273, '100g': 17.649999618530273, 'serving': 6.0, 'unit': 'g', 'prepared_value': None, 'prepared_100g': None, 'prepared_serving': None, 'prepared_unit': None}, {'name': 'vitamin-a', 'value': 588.0, '100g': 0.00017640000442042947, 'serving': 5.999999848427251e-05, 'unit': 'IU', 'prepared_value': None, 'prepared_100g': None, 'prepared_serving': None, 'prepared_unit': None}, {'name': 'calcium', 'value': 0.0, '100g': 0.0, 'serving': 0.0, 'unit': 'mg', 'prepared_value': None, 'prepared_100g': None, 'prepared_serving': None, 'prepared_unit': None}, {'name': 'fruits-vegetables-nuts-estimate-from-ingredients', 'value': None, '100g': 5.46875, 'serving': 5.46875, 'unit': None, 'prepared_value': None, 'prepared_100g': None, 'prepared_serving': None, 'prepared_unit': None}, {'name': 'vitamin-c', 'value': 0.0, '100g': 0.0, 'serving': 0.0, 'unit': 'mg', 'prepared_value': None, 'prepared_100g': None, 'prepared_serving': None, 'prepared_unit': None}, {'name': 'sugars', 'value': 17.649999618530273, '100g': 17.649999618530273, 'serving': 6.0, 'unit': 'g', 'prepared_value': None, 'prepared_100g': None, 'prepared_serving': None, 'prepared_unit': None}, {'name': 'carbohydrates', 'value': 50.0, '100g': 50.0, 'serving': 17.0, 'unit': 'g', 'prepared_value': None, 'prepared_100g': None, 'prepared_serving': None, 'prepared_unit': None}, {'name': 'fruits-vegetables-legumes-estimate-from-ingredients', 'value': None, '100g': 5.46875, 'serving': 5.46875, 'unit': None, 'prepared_value': None, 'prepared_100g': None, 'prepared_serving': None, 'prepared_unit': None}, {'name': 'nutrition-score-fr', 'value': None, '100g': 20.0, 'serving': None, 'unit': None, 'prepared_value': None, 'prepared_100g': None, 'prepared_serving': None, 'prepared_unit': None}]\n",
      "[{'name': 'fat', 'value': 17.649999618530273, '100g': 51.900001525878906, 'serving': 17.649999618530273, 'unit': 'g', 'prepared_value': None, 'prepared_100g': None, 'prepared_serving': None, 'prepared_unit': None}, {'name': 'iron', 'value': 1.059999942779541, '100g': 0.003120000008493662, 'serving': 0.0010600000387057662, 'unit': 'mg', 'prepared_value': None, 'prepared_100g': None, 'prepared_serving': None, 'prepared_unit': None}, {'name': 'energy-kcal', 'value': 200.0, '100g': 588.0, 'serving': 200.0, 'unit': 'kcal', 'prepared_value': None, 'prepared_100g': None, 'prepared_serving': None, 'prepared_unit': None}, {'name': 'sodium', 'value': 147.0, '100g': 0.4320000112056732, 'serving': 0.1469999998807907, 'unit': 'mg', 'prepared_value': None, 'prepared_100g': None, 'prepared_serving': None, 'prepared_unit': None}, {'name': 'trans-fat', 'value': 0.0, '100g': 0.0, 'serving': 0.0, 'unit': 'g', 'prepared_value': None, 'prepared_100g': None, 'prepared_serving': None, 'prepared_unit': None}, {'name': 'proteins', 'value': 2.940000057220459, '100g': 8.649999618530273, 'serving': 2.940000057220459, 'unit': 'g', 'prepared_value': None, 'prepared_100g': None, 'prepared_serving': None, 'prepared_unit': None}, {'name': 'salt', 'value': 367.5, '100g': 1.0800000429153442, 'serving': 0.3675000071525574, 'unit': 'mg', 'prepared_value': None, 'prepared_100g': None, 'prepared_serving': None, 'prepared_unit': None}, {'name': 'nutrition-score-fr', 'value': None, '100g': 35.0, 'serving': None, 'unit': None, 'prepared_value': None, 'prepared_100g': None, 'prepared_serving': None, 'prepared_unit': None}, {'name': 'saturated-fat', 'value': 10.289999961853027, '100g': 30.299999237060547, 'serving': 10.289999961853027, 'unit': 'g', 'prepared_value': None, 'prepared_100g': None, 'prepared_serving': None, 'prepared_unit': None}, {'name': 'cholesterol', 'value': 74.0, '100g': 0.21799999475479126, 'serving': 0.07400000095367432, 'unit': 'mg', 'prepared_value': None, 'prepared_100g': None, 'prepared_serving': None, 'prepared_unit': None}, {'name': 'energy', 'value': 200.0, '100g': 2460.0, 'serving': 837.0, 'unit': 'kcal', 'prepared_value': None, 'prepared_100g': None, 'prepared_serving': None, 'prepared_unit': None}, {'name': 'vitamin-c', 'value': 0.0, '100g': 0.0, 'serving': 0.0, 'unit': 'mg', 'prepared_value': None, 'prepared_100g': None, 'prepared_serving': None, 'prepared_unit': None}, {'name': 'fiber', 'value': 1.5, '100g': 4.409999847412109, 'serving': 1.5, 'unit': 'g', 'prepared_value': None, 'prepared_100g': None, 'prepared_serving': None, 'prepared_unit': None}, {'name': 'calcium', 'value': 0.0, '100g': 0.0, 'serving': 0.0, 'unit': 'mg', 'prepared_value': None, 'prepared_100g': None, 'prepared_serving': None, 'prepared_unit': None}, {'name': 'sugars', 'value': 17.649999618530273, '100g': 51.900001525878906, 'serving': 17.649999618530273, 'unit': 'g', 'prepared_value': None, 'prepared_100g': None, 'prepared_serving': None, 'prepared_unit': None}, {'name': 'fruits-vegetables-legumes-estimate-from-ingredients', 'value': None, '100g': 0.0, 'serving': 0.0, 'unit': None, 'prepared_value': None, 'prepared_100g': None, 'prepared_serving': None, 'prepared_unit': None}, {'name': 'nova-group', 'value': None, '100g': 3.0, 'serving': 3.0, 'unit': None, 'prepared_value': None, 'prepared_100g': None, 'prepared_serving': None, 'prepared_unit': None}, {'name': 'carbohydrates', 'value': 50.0, '100g': 147.0, 'serving': 50.0, 'unit': 'g', 'prepared_value': None, 'prepared_100g': None, 'prepared_serving': None, 'prepared_unit': None}, {'name': 'vitamin-a', 'value': 0.00017640000442042947, '100g': 5.190000096355618e-10, 'serving': 1.7640000571361725e-10, 'unit': 'µg', 'prepared_value': None, 'prepared_100g': None, 'prepared_serving': None, 'prepared_unit': None}, {'name': 'fruits-vegetables-nuts-estimate-from-ingredients', 'value': None, '100g': 0.0, 'serving': 0.0, 'unit': None, 'prepared_value': None, 'prepared_100g': None, 'prepared_serving': None, 'prepared_unit': None}]\n",
      "[{'name': 'proteins', 'value': 2.819999933242798, '100g': 2.819999933242798, 'serving': 2.0, 'unit': 'g', 'prepared_value': None, 'prepared_100g': None, 'prepared_serving': None, 'prepared_unit': None}, {'name': 'energy', 'value': 211.0, '100g': 883.0, 'serving': 627.0, 'unit': 'kcal', 'prepared_value': None, 'prepared_100g': None, 'prepared_serving': None, 'prepared_unit': None}, {'name': 'nova-group', 'value': None, '100g': 4.0, 'serving': 4.0, 'unit': None, 'prepared_value': None, 'prepared_100g': None, 'prepared_serving': None, 'prepared_unit': None}, {'name': 'vitamin-a', 'value': 423.0, '100g': 0.0001269000058528036, 'serving': 9.010000212583691e-05, 'unit': 'IU', 'prepared_value': None, 'prepared_100g': None, 'prepared_serving': None, 'prepared_unit': None}, {'name': 'calcium', 'value': 113.0, '100g': 0.11299999803304672, 'serving': 0.08020000159740448, 'unit': 'mg', 'prepared_value': None, 'prepared_100g': None, 'prepared_serving': None, 'prepared_unit': None}, {'name': 'fiber', 'value': 0.0, '100g': 0.0, 'serving': 0.0, 'unit': 'g', 'prepared_value': None, 'prepared_100g': None, 'prepared_serving': None, 'prepared_unit': None}, {'name': 'saturated-fat', 'value': 7.039999961853027, '100g': 7.039999961853027, 'serving': 5.0, 'unit': 'g', 'prepared_value': None, 'prepared_100g': None, 'prepared_serving': None, 'prepared_unit': None}, {'name': 'fruits-vegetables-nuts-estimate-from-ingredients', 'value': None, '100g': 0.0, 'serving': 0.0, 'unit': None, 'prepared_value': None, 'prepared_100g': None, 'prepared_serving': None, 'prepared_unit': None}, {'name': 'vitamin-c', 'value': 0.0, '100g': 0.0, 'serving': 0.0, 'unit': 'mg', 'prepared_value': None, 'prepared_100g': None, 'prepared_serving': None, 'prepared_unit': None}, {'name': 'fat', 'value': 11.270000457763672, '100g': 11.270000457763672, 'serving': 8.0, 'unit': 'g', 'prepared_value': None, 'prepared_100g': None, 'prepared_serving': None, 'prepared_unit': None}, {'name': 'sugars', 'value': 16.899999618530273, '100g': 16.899999618530273, 'serving': 12.0, 'unit': 'g', 'prepared_value': None, 'prepared_100g': None, 'prepared_serving': None, 'prepared_unit': None}, {'name': 'sodium', 'value': 56.0, '100g': 0.0560000017285347, 'serving': 0.039799999445676804, 'unit': 'mg', 'prepared_value': None, 'prepared_100g': None, 'prepared_serving': None, 'prepared_unit': None}, {'name': 'salt', 'value': 140.0, '100g': 0.14000000059604645, 'serving': 0.09939999878406525, 'unit': 'mg', 'prepared_value': None, 'prepared_100g': None, 'prepared_serving': None, 'prepared_unit': None}, {'name': 'iron', 'value': 0.0, '100g': 0.0, 'serving': 0.0, 'unit': 'mg', 'prepared_value': None, 'prepared_100g': None, 'prepared_serving': None, 'prepared_unit': None}, {'name': 'energy-kcal', 'value': 211.0, '100g': 211.0, 'serving': 150.0, 'unit': 'kcal', 'prepared_value': None, 'prepared_100g': None, 'prepared_serving': None, 'prepared_unit': None}, {'name': 'trans-fat', 'value': 0.0, '100g': 0.0, 'serving': 0.0, 'unit': 'g', 'prepared_value': None, 'prepared_100g': None, 'prepared_serving': None, 'prepared_unit': None}, {'name': 'cholesterol', 'value': 49.0, '100g': 0.04899999871850014, 'serving': 0.03480000048875809, 'unit': 'mg', 'prepared_value': None, 'prepared_100g': None, 'prepared_serving': None, 'prepared_unit': None}, {'name': 'nutrition-score-fr', 'value': None, '100g': 13.0, 'serving': None, 'unit': None, 'prepared_value': None, 'prepared_100g': None, 'prepared_serving': None, 'prepared_unit': None}, {'name': 'carbohydrates', 'value': 22.540000915527344, '100g': 22.540000915527344, 'serving': 16.0, 'unit': 'g', 'prepared_value': None, 'prepared_100g': None, 'prepared_serving': None, 'prepared_unit': None}, {'name': 'fruits-vegetables-legumes-estimate-from-ingredients', 'value': None, '100g': 0.0, 'serving': 0.0, 'unit': None, 'prepared_value': None, 'prepared_100g': None, 'prepared_serving': None, 'prepared_unit': None}]\n",
      "[{'name': 'energy-kcal', 'value': 239.0, '100g': 239.0, 'serving': 170.0, 'unit': 'kcal', 'prepared_value': None, 'prepared_100g': None, 'prepared_serving': None, 'prepared_unit': None}, {'name': 'calcium', 'value': 113.0, '100g': 0.11299999803304672, 'serving': 0.08020000159740448, 'unit': 'mg', 'prepared_value': None, 'prepared_100g': None, 'prepared_serving': None, 'prepared_unit': None}, {'name': 'sodium', 'value': 134.0, '100g': 0.1340000033378601, 'serving': 0.09510000050067902, 'unit': 'mg', 'prepared_value': None, 'prepared_100g': None, 'prepared_serving': None, 'prepared_unit': None}, {'name': 'trans-fat', 'value': 0.0, '100g': 0.0, 'serving': 0.0, 'unit': 'g', 'prepared_value': None, 'prepared_100g': None, 'prepared_serving': None, 'prepared_unit': None}, {'name': 'sugars', 'value': 15.489999771118164, '100g': 15.489999771118164, 'serving': 11.0, 'unit': 'g', 'prepared_value': None, 'prepared_100g': None, 'prepared_serving': None, 'prepared_unit': None}, {'name': 'cholesterol', 'value': 42.0, '100g': 0.041999999433755875, 'serving': 0.02979999966919422, 'unit': 'mg', 'prepared_value': None, 'prepared_100g': None, 'prepared_serving': None, 'prepared_unit': None}, {'name': 'fiber', 'value': 1.399999976158142, '100g': 1.399999976158142, 'serving': 0.9940000176429749, 'unit': 'g', 'prepared_value': None, 'prepared_100g': None, 'prepared_serving': None, 'prepared_unit': None}, {'name': 'fruits-vegetables-legumes-estimate-from-ingredients', 'value': None, '100g': 0.0, 'serving': 0.0, 'unit': None, 'prepared_value': None, 'prepared_100g': None, 'prepared_serving': None, 'prepared_unit': None}, {'name': 'carbohydrates', 'value': 22.540000915527344, '100g': 22.540000915527344, 'serving': 16.0, 'unit': 'g', 'prepared_value': None, 'prepared_100g': None, 'prepared_serving': None, 'prepared_unit': None}, {'name': 'iron', 'value': 0.0, '100g': 0.0, 'serving': 0.0, 'unit': 'mg', 'prepared_value': None, 'prepared_100g': None, 'prepared_serving': None, 'prepared_unit': None}, {'name': 'nutrition-score-fr', 'value': None, '100g': 14.0, 'serving': None, 'unit': None, 'prepared_value': None, 'prepared_100g': None, 'prepared_serving': None, 'prepared_unit': None}, {'name': 'salt', 'value': 335.0, '100g': 0.33500000834465027, 'serving': 0.23800000548362732, 'unit': 'mg', 'prepared_value': None, 'prepared_100g': None, 'prepared_serving': None, 'prepared_unit': None}, {'name': 'fruits-vegetables-nuts-estimate-from-ingredients', 'value': None, '100g': 3.6193056106567383, 'serving': 3.6193056106567383, 'unit': None, 'prepared_value': None, 'prepared_100g': None, 'prepared_serving': None, 'prepared_unit': None}, {'name': 'vitamin-c', 'value': 0.0, '100g': 0.0, 'serving': 0.0, 'unit': 'mg', 'prepared_value': None, 'prepared_100g': None, 'prepared_serving': None, 'prepared_unit': None}, {'name': 'fat', 'value': 15.489999771118164, '100g': 15.489999771118164, 'serving': 11.0, 'unit': 'g', 'prepared_value': None, 'prepared_100g': None, 'prepared_serving': None, 'prepared_unit': None}, {'name': 'vitamin-a', 'value': 423.0, '100g': 0.0001269000058528036, 'serving': 9.010000212583691e-05, 'unit': 'IU', 'prepared_value': None, 'prepared_100g': None, 'prepared_serving': None, 'prepared_unit': None}, {'name': 'energy', 'value': 239.0, '100g': 1000.0, 'serving': 710.0, 'unit': 'kcal', 'prepared_value': None, 'prepared_100g': None, 'prepared_serving': None, 'prepared_unit': None}, {'name': 'saturated-fat', 'value': 7.039999961853027, '100g': 7.039999961853027, 'serving': 5.0, 'unit': 'g', 'prepared_value': None, 'prepared_100g': None, 'prepared_serving': None, 'prepared_unit': None}, {'name': 'proteins', 'value': 4.230000019073486, '100g': 4.230000019073486, 'serving': 3.0, 'unit': 'g', 'prepared_value': None, 'prepared_100g': None, 'prepared_serving': None, 'prepared_unit': None}, {'name': 'nova-group', 'value': None, '100g': 4.0, 'serving': 4.0, 'unit': None, 'prepared_value': None, 'prepared_100g': None, 'prepared_serving': None, 'prepared_unit': None}]\n",
      "[{'name': 'proteins-dry-substance', 'value': 90.0, '100g': 90.0, 'serving': 22.5, 'unit': 'g', 'prepared_value': None, 'prepared_100g': None, 'prepared_serving': None, 'prepared_unit': None}, {'name': 'fat', 'value': 0.5, '100g': 0.5, 'serving': 0.125, 'unit': 'g', 'prepared_value': None, 'prepared_100g': None, 'prepared_serving': None, 'prepared_unit': None}, {'name': 'energy', 'value': 1590.0, '100g': 1590.0, 'serving': 398.0, 'unit': 'kJ', 'prepared_value': None, 'prepared_100g': None, 'prepared_serving': None, 'prepared_unit': None}, {'name': 'energy-kj', 'value': 1590.0, '100g': 1590.0, 'serving': 398.0, 'unit': 'kJ', 'prepared_value': None, 'prepared_100g': None, 'prepared_serving': None, 'prepared_unit': None}, {'name': 'fruits-vegetables-legumes-estimate-from-ingredients', 'value': None, '100g': 0.0, 'serving': 0.0, 'unit': None, 'prepared_value': None, 'prepared_100g': None, 'prepared_serving': None, 'prepared_unit': None}, {'name': 'proteins', 'value': 88.5, '100g': 88.5, 'serving': 22.100000381469727, 'unit': 'g', 'prepared_value': None, 'prepared_100g': None, 'prepared_serving': None, 'prepared_unit': None}, {'name': 'fruits-vegetables-nuts-estimate-from-ingredients', 'value': None, '100g': 0.0, 'serving': 0.0, 'unit': None, 'prepared_value': None, 'prepared_100g': None, 'prepared_serving': None, 'prepared_unit': None}, {'name': 'carbohydrates', 'value': 1.100000023841858, '100g': 1.100000023841858, 'serving': 0.2750000059604645, 'unit': 'g', 'prepared_value': None, 'prepared_100g': None, 'prepared_serving': None, 'prepared_unit': None}, {'name': 'nova-group', 'value': None, '100g': 4.0, 'serving': 4.0, 'unit': None, 'prepared_value': None, 'prepared_100g': None, 'prepared_serving': None, 'prepared_unit': None}]\n",
      "[{'name': 'energy-kj', 'value': 1644.0, '100g': 1644.0, 'serving': 510.0, 'unit': 'kJ', 'prepared_value': None, 'prepared_100g': None, 'prepared_serving': None, 'prepared_unit': None}, {'name': 'fiber', 'value': 0.10000000149011612, '100g': 0.10000000149011612, 'serving': 0.03099999949336052, 'unit': 'g', 'prepared_value': None, 'prepared_100g': None, 'prepared_serving': None, 'prepared_unit': None}, {'name': 'salt', 'value': 1211.5799560546875, '100g': 1.2115800380706787, 'serving': 0.37599998712539673, 'unit': 'mg', 'prepared_value': None, 'prepared_100g': None, 'prepared_serving': None, 'prepared_unit': None}, {'name': 'sugars', 'value': 6.0, '100g': 6.0, 'serving': 1.8600000143051147, 'unit': 'g', 'prepared_value': None, 'prepared_100g': None, 'prepared_serving': None, 'prepared_unit': None}, {'name': 'fruits-vegetables-legumes-estimate-from-ingredients', 'value': None, '100g': 0.0, 'serving': 0.0, 'unit': None, 'prepared_value': None, 'prepared_100g': None, 'prepared_serving': None, 'prepared_unit': None}, {'name': 'proteins', 'value': 78.05000305175781, '100g': 78.05000305175781, 'serving': 24.200000762939453, 'unit': 'g', 'prepared_value': None, 'prepared_100g': None, 'prepared_serving': None, 'prepared_unit': None}, {'name': 'energy', 'value': 1644.0, '100g': 1644.0, 'serving': 510.0, 'unit': 'kJ', 'prepared_value': None, 'prepared_100g': None, 'prepared_serving': None, 'prepared_unit': None}, {'name': 'carbohydrates', 'value': 8.800000190734863, '100g': 8.800000190734863, 'serving': 2.7300000190734863, 'unit': 'g', 'prepared_value': None, 'prepared_100g': None, 'prepared_serving': None, 'prepared_unit': None}, {'name': 'sodium', 'value': 484.6319885253906, '100g': 0.4846319854259491, 'serving': 0.15000000596046448, 'unit': 'mg', 'prepared_value': None, 'prepared_100g': None, 'prepared_serving': None, 'prepared_unit': None}, {'name': 'fat', 'value': 4.599999904632568, '100g': 4.599999904632568, 'serving': 1.4299999475479126, 'unit': 'g', 'prepared_value': None, 'prepared_100g': None, 'prepared_serving': None, 'prepared_unit': None}, {'name': 'fruits-vegetables-nuts-estimate-from-ingredients', 'value': None, '100g': 0.0, 'serving': 0.0, 'unit': None, 'prepared_value': None, 'prepared_100g': None, 'prepared_serving': None, 'prepared_unit': None}, {'name': 'nova-group', 'value': None, '100g': 4.0, 'serving': 4.0, 'unit': None, 'prepared_value': None, 'prepared_100g': None, 'prepared_serving': None, 'prepared_unit': None}]\n",
      "[{'name': 'fiber', 'value': 0.10000000149011612, '100g': 0.10000000149011612, 'serving': 0.03099999949336052, 'unit': 'g', 'prepared_value': None, 'prepared_100g': None, 'prepared_serving': None, 'prepared_unit': None}, {'name': 'energy-kj', 'value': 1644.0, '100g': 1644.0, 'serving': 510.0, 'unit': 'kJ', 'prepared_value': None, 'prepared_100g': None, 'prepared_serving': None, 'prepared_unit': None}, {'name': 'salt', 'value': 1211.5799560546875, '100g': 1.2115800380706787, 'serving': 0.37599998712539673, 'unit': 'mg', 'prepared_value': None, 'prepared_100g': None, 'prepared_serving': None, 'prepared_unit': None}, {'name': 'sugars', 'value': 6.0, '100g': 6.0, 'serving': 1.8600000143051147, 'unit': 'g', 'prepared_value': None, 'prepared_100g': None, 'prepared_serving': None, 'prepared_unit': None}, {'name': 'proteins', 'value': 78.05000305175781, '100g': 78.05000305175781, 'serving': 24.200000762939453, 'unit': 'g', 'prepared_value': None, 'prepared_100g': None, 'prepared_serving': None, 'prepared_unit': None}, {'name': 'fruits-vegetables-legumes-estimate-from-ingredients', 'value': None, '100g': 0.0, 'serving': 0.0, 'unit': None, 'prepared_value': None, 'prepared_100g': None, 'prepared_serving': None, 'prepared_unit': None}, {'name': 'energy', 'value': 1644.0, '100g': 1644.0, 'serving': 510.0, 'unit': 'kJ', 'prepared_value': None, 'prepared_100g': None, 'prepared_serving': None, 'prepared_unit': None}, {'name': 'carbohydrates', 'value': 8.800000190734863, '100g': 8.800000190734863, 'serving': 2.7300000190734863, 'unit': 'g', 'prepared_value': None, 'prepared_100g': None, 'prepared_serving': None, 'prepared_unit': None}, {'name': 'fat', 'value': 4.599999904632568, '100g': 4.599999904632568, 'serving': 1.4299999475479126, 'unit': 'g', 'prepared_value': None, 'prepared_100g': None, 'prepared_serving': None, 'prepared_unit': None}, {'name': 'sodium', 'value': 484.6319885253906, '100g': 0.4846319854259491, 'serving': 0.15000000596046448, 'unit': 'mg', 'prepared_value': None, 'prepared_100g': None, 'prepared_serving': None, 'prepared_unit': None}, {'name': 'fruits-vegetables-nuts-estimate-from-ingredients', 'value': None, '100g': 0.0, 'serving': 0.0, 'unit': None, 'prepared_value': None, 'prepared_100g': None, 'prepared_serving': None, 'prepared_unit': None}, {'name': 'nova-group', 'value': None, '100g': 4.0, 'serving': 4.0, 'unit': None, 'prepared_value': None, 'prepared_100g': None, 'prepared_serving': None, 'prepared_unit': None}]\n",
      "[{'name': 'fruits-vegetables-legumes-estimate-from-ingredients', 'value': None, '100g': 0.0, 'serving': 0.0, 'unit': None, 'prepared_value': None, 'prepared_100g': None, 'prepared_serving': None, 'prepared_unit': None}, {'name': 'fruits-vegetables-nuts-estimate-from-ingredients', 'value': None, '100g': 0.0, 'serving': 0.0, 'unit': None, 'prepared_value': None, 'prepared_100g': None, 'prepared_serving': None, 'prepared_unit': None}, {'name': 'nova-group', 'value': None, '100g': 4.0, 'serving': 4.0, 'unit': None, 'prepared_value': None, 'prepared_100g': None, 'prepared_serving': None, 'prepared_unit': None}, {'name': 'carbohydrates', 'value': 70.0, '100g': 233.0, 'serving': 70.0, 'unit': 'g', 'prepared_value': None, 'prepared_100g': None, 'prepared_serving': None, 'prepared_unit': None}, {'name': 'sugars', 'value': 1.0, '100g': 3.3299999237060547, 'serving': 1.0, 'unit': 'g', 'prepared_value': None, 'prepared_100g': None, 'prepared_serving': None, 'prepared_unit': None}, {'name': 'saturated-fat', 'value': 1.6699999570846558, '100g': 5.570000171661377, 'serving': 1.6699999570846558, 'unit': 'g', 'prepared_value': None, 'prepared_100g': None, 'prepared_serving': None, 'prepared_unit': None}, {'name': 'proteins', 'value': 11.0, '100g': 36.70000076293945, 'serving': 11.0, 'unit': 'g', 'prepared_value': None, 'prepared_100g': None, 'prepared_serving': None, 'prepared_unit': None}, {'name': 'fat', 'value': 3.6700000762939453, '100g': 12.199999809265137, 'serving': 3.6700000762939453, 'unit': 'g', 'prepared_value': None, 'prepared_100g': None, 'prepared_serving': None, 'prepared_unit': None}, {'name': 'energy-kcal', 'value': 280.0, '100g': 933.0, 'serving': 280.0, 'unit': 'kcal', 'prepared_value': None, 'prepared_100g': None, 'prepared_serving': None, 'prepared_unit': None}, {'name': 'energy', 'value': 280.0, '100g': 3910.0, 'serving': 1172.0, 'unit': 'kcal', 'prepared_value': None, 'prepared_100g': None, 'prepared_serving': None, 'prepared_unit': None}]\n",
      "[{'name': 'carbohydrates', 'value': 8.800000190734863, '100g': 8.800000190734863, 'serving': 2.7300000190734863, 'unit': 'g', 'prepared_value': None, 'prepared_100g': None, 'prepared_serving': None, 'prepared_unit': None}, {'name': 'fruits-vegetables-nuts-estimate-from-ingredients', 'value': None, '100g': 0.0, 'serving': 0.0, 'unit': None, 'prepared_value': None, 'prepared_100g': None, 'prepared_serving': None, 'prepared_unit': None}, {'name': 'proteins', 'value': 78.05000305175781, '100g': 78.05000305175781, 'serving': 24.200000762939453, 'unit': 'g', 'prepared_value': None, 'prepared_100g': None, 'prepared_serving': None, 'prepared_unit': None}, {'name': 'fat', 'value': 4.599999904632568, '100g': 4.599999904632568, 'serving': 1.4299999475479126, 'unit': 'g', 'prepared_value': None, 'prepared_100g': None, 'prepared_serving': None, 'prepared_unit': None}, {'name': 'sodium', 'value': 484.6319885253906, '100g': 0.4846319854259491, 'serving': 0.15000000596046448, 'unit': 'mg', 'prepared_value': None, 'prepared_100g': None, 'prepared_serving': None, 'prepared_unit': None}, {'name': 'nova-group', 'value': None, '100g': 4.0, 'serving': 4.0, 'unit': None, 'prepared_value': None, 'prepared_100g': None, 'prepared_serving': None, 'prepared_unit': None}, {'name': 'energy', 'value': 1644.0, '100g': 1644.0, 'serving': 510.0, 'unit': 'kJ', 'prepared_value': None, 'prepared_100g': None, 'prepared_serving': None, 'prepared_unit': None}, {'name': 'salt', 'value': 1211.5799560546875, '100g': 1.2115800380706787, 'serving': 0.37599998712539673, 'unit': 'mg', 'prepared_value': None, 'prepared_100g': None, 'prepared_serving': None, 'prepared_unit': None}, {'name': 'sugars', 'value': 6.0, '100g': 6.0, 'serving': 1.8600000143051147, 'unit': 'g', 'prepared_value': None, 'prepared_100g': None, 'prepared_serving': None, 'prepared_unit': None}, {'name': 'energy-kj', 'value': 1644.0, '100g': 1644.0, 'serving': 510.0, 'unit': 'kJ', 'prepared_value': None, 'prepared_100g': None, 'prepared_serving': None, 'prepared_unit': None}, {'name': 'fiber', 'value': 0.10000000149011612, '100g': 0.10000000149011612, 'serving': 0.03099999949336052, 'unit': 'g', 'prepared_value': None, 'prepared_100g': None, 'prepared_serving': None, 'prepared_unit': None}, {'name': 'fruits-vegetables-legumes-estimate-from-ingredients', 'value': None, '100g': 0.0, 'serving': 0.0, 'unit': None, 'prepared_value': None, 'prepared_100g': None, 'prepared_serving': None, 'prepared_unit': None}]\n",
      "[{'name': 'proteins', 'value': 4.5, '100g': 4.5, 'serving': 4.5, 'unit': 'g', 'prepared_value': None, 'prepared_100g': None, 'prepared_serving': None, 'prepared_unit': None}, {'name': 'fat', 'value': 23.0, '100g': 23.0, 'serving': 23.0, 'unit': 'g', 'prepared_value': None, 'prepared_100g': None, 'prepared_serving': None, 'prepared_unit': None}, {'name': 'salt', 'value': 300.0, '100g': 0.30000001192092896, 'serving': 0.30000001192092896, 'unit': 'mg', 'prepared_value': None, 'prepared_100g': None, 'prepared_serving': None, 'prepared_unit': None}, {'name': 'nova-group', 'value': None, '100g': 4.0, 'serving': 4.0, 'unit': None, 'prepared_value': None, 'prepared_100g': None, 'prepared_serving': None, 'prepared_unit': None}, {'name': 'energy', 'value': 467.0, '100g': 1954.0, 'serving': 1950.0, 'unit': 'kcal', 'prepared_value': None, 'prepared_100g': None, 'prepared_serving': None, 'prepared_unit': None}, {'name': 'energy-kcal', 'value': 467.0, '100g': 467.0, 'serving': 467.0, 'unit': 'kcal', 'prepared_value': None, 'prepared_100g': None, 'prepared_serving': None, 'prepared_unit': None}, {'name': 'carbohydrates', 'value': 57.0, '100g': 57.0, 'serving': 57.0, 'unit': 'g', 'prepared_value': None, 'prepared_100g': None, 'prepared_serving': None, 'prepared_unit': None}, {'name': 'fruits-vegetables-legumes-estimate-from-ingredients', 'value': None, '100g': 0.0, 'serving': 0.0, 'unit': None, 'prepared_value': None, 'prepared_100g': None, 'prepared_serving': None, 'prepared_unit': None}, {'name': 'sodium', 'value': 120.0, '100g': 0.11999999731779099, 'serving': 0.11999999731779099, 'unit': 'mg', 'prepared_value': None, 'prepared_100g': None, 'prepared_serving': None, 'prepared_unit': None}, {'name': 'saturated-fat', 'value': 14.0, '100g': 14.0, 'serving': 14.0, 'unit': 'g', 'prepared_value': None, 'prepared_100g': None, 'prepared_serving': None, 'prepared_unit': None}, {'name': 'fruits-vegetables-nuts-estimate-from-ingredients', 'value': None, '100g': 0.0, 'serving': 0.0, 'unit': None, 'prepared_value': None, 'prepared_100g': None, 'prepared_serving': None, 'prepared_unit': None}, {'name': 'sugars', 'value': 57.0, '100g': 57.0, 'serving': 57.0, 'unit': 'g', 'prepared_value': None, 'prepared_100g': None, 'prepared_serving': None, 'prepared_unit': None}, {'name': 'nutrition-score-fr', 'value': None, '100g': 31.0, 'serving': None, 'unit': None, 'prepared_value': None, 'prepared_100g': None, 'prepared_serving': None, 'prepared_unit': None}]\n",
      "[{'name': 'carbohydrates', 'value': 48.20000076293945, '100g': 48.20000076293945, 'serving': None, 'unit': '', 'prepared_value': None, 'prepared_100g': None, 'prepared_serving': None, 'prepared_unit': None}, {'name': 'proteins', 'value': 4.400000095367432, '100g': 4.400000095367432, 'serving': None, 'unit': '', 'prepared_value': None, 'prepared_100g': None, 'prepared_serving': None, 'prepared_unit': None}, {'name': 'fruits-vegetables-legumes-estimate-from-ingredients', 'value': None, '100g': 0.0, 'serving': 0.0, 'unit': None, 'prepared_value': None, 'prepared_100g': None, 'prepared_serving': None, 'prepared_unit': None}, {'name': 'fat', 'value': 6.300000190734863, '100g': 6.300000190734863, 'serving': None, 'unit': '', 'prepared_value': None, 'prepared_100g': None, 'prepared_serving': None, 'prepared_unit': None}, {'name': 'saturated-fat', 'value': 0.5, '100g': 0.5, 'serving': None, 'unit': '', 'prepared_value': None, 'prepared_100g': None, 'prepared_serving': None, 'prepared_unit': None}, {'name': 'sodium', 'value': 0.4359999895095825, '100g': 0.4359999895095825, 'serving': None, 'unit': 'g', 'prepared_value': None, 'prepared_100g': None, 'prepared_serving': None, 'prepared_unit': None}, {'name': 'fiber', 'value': 5.800000190734863, '100g': 5.800000190734863, 'serving': None, 'unit': '', 'prepared_value': None, 'prepared_100g': None, 'prepared_serving': None, 'prepared_unit': None}, {'name': 'salt', 'value': 1.090000033378601, '100g': 1.090000033378601, 'serving': None, 'unit': '', 'prepared_value': None, 'prepared_100g': None, 'prepared_serving': None, 'prepared_unit': None}, {'name': 'fruits-vegetables-nuts-estimate-from-ingredients', 'value': None, '100g': 2.9513888359069824, 'serving': 2.9513888359069824, 'unit': None, 'prepared_value': None, 'prepared_100g': None, 'prepared_serving': None, 'prepared_unit': None}, {'name': 'nutrition-score-fr', 'value': None, '100g': 5.0, 'serving': None, 'unit': None, 'prepared_value': None, 'prepared_100g': None, 'prepared_serving': None, 'prepared_unit': None}, {'name': 'energy', 'value': 279.0, '100g': 1167.0, 'serving': None, 'unit': 'kcal', 'prepared_value': None, 'prepared_100g': None, 'prepared_serving': None, 'prepared_unit': None}, {'name': 'sugars', 'value': 4.400000095367432, '100g': 4.400000095367432, 'serving': None, 'unit': '', 'prepared_value': None, 'prepared_100g': None, 'prepared_serving': None, 'prepared_unit': None}, {'name': 'nova-group', 'value': None, '100g': 4.0, 'serving': 4.0, 'unit': None, 'prepared_value': None, 'prepared_100g': None, 'prepared_serving': None, 'prepared_unit': None}, {'name': 'energy-kcal', 'value': 279.0, '100g': 279.0, 'serving': None, 'unit': 'kcal', 'prepared_value': None, 'prepared_100g': None, 'prepared_serving': None, 'prepared_unit': None}]\n",
      "[{'name': 'fat', 'value': 32.13999938964844, '100g': 57.400001525878906, 'serving': 32.13999938964844, 'unit': 'g', 'prepared_value': None, 'prepared_100g': None, 'prepared_serving': None, 'prepared_unit': None}, {'name': 'energy-kcal', 'value': 235.72000122070312, '100g': 421.0, 'serving': 235.72000122070312, 'unit': 'kcal', 'prepared_value': None, 'prepared_100g': None, 'prepared_serving': None, 'prepared_unit': None}, {'name': 'iron', 'value': 1.9299999475479126, '100g': 0.003449999960139394, 'serving': 0.001930000027641654, 'unit': 'mg', 'prepared_value': None, 'prepared_100g': None, 'prepared_serving': None, 'prepared_unit': None}, {'name': 'trans-fat', 'value': 0.0, '100g': 0.0, 'serving': 0.0, 'unit': 'g', 'prepared_value': None, 'prepared_100g': None, 'prepared_serving': None, 'prepared_unit': None}, {'name': 'sodium', 'value': 80.0, '100g': 0.14300000667572021, 'serving': 0.07999999821186066, 'unit': 'mg', 'prepared_value': None, 'prepared_100g': None, 'prepared_serving': None, 'prepared_unit': None}, {'name': 'proteins', 'value': 7.139999866485596, '100g': 12.699999809265137, 'serving': 7.139999866485596, 'unit': 'g', 'prepared_value': None, 'prepared_100g': None, 'prepared_serving': None, 'prepared_unit': None}, {'name': 'salt', 'value': 200.0, '100g': 0.3569999933242798, 'serving': 0.20000000298023224, 'unit': 'mg', 'prepared_value': None, 'prepared_100g': None, 'prepared_serving': None, 'prepared_unit': None}, {'name': 'nutrition-score-fr', 'value': None, '100g': 30.0, 'serving': None, 'unit': None, 'prepared_value': None, 'prepared_100g': None, 'prepared_serving': None, 'prepared_unit': None}, {'name': 'saturated-fat', 'value': 19.639999389648438, '100g': 35.099998474121094, 'serving': 19.639999389648438, 'unit': 'g', 'prepared_value': None, 'prepared_100g': None, 'prepared_serving': None, 'prepared_unit': None}, {'name': 'cholesterol', 'value': 18.0, '100g': 0.032099999487400055, 'serving': 0.017999999225139618, 'unit': 'mg', 'prepared_value': None, 'prepared_100g': None, 'prepared_serving': None, 'prepared_unit': None}, {'name': 'energy', 'value': 235.72000122070312, '100g': 1760.0, 'serving': 986.0, 'unit': 'kcal', 'prepared_value': None, 'prepared_100g': None, 'prepared_serving': None, 'prepared_unit': None}, {'name': 'vitamin-c', 'value': 2.0999999046325684, '100g': 0.0037499999161809683, 'serving': 0.002099999925121665, 'unit': 'mg', 'prepared_value': None, 'prepared_100g': None, 'prepared_serving': None, 'prepared_unit': None}, {'name': 'fiber', 'value': 1.7999999523162842, '100g': 3.2100000381469727, 'serving': 1.7999999523162842, 'unit': 'g', 'prepared_value': None, 'prepared_100g': None, 'prepared_serving': None, 'prepared_unit': None}, {'name': 'calcium', 'value': 179.0, '100g': 0.3199999928474426, 'serving': 0.17900000512599945, 'unit': 'mg', 'prepared_value': None, 'prepared_100g': None, 'prepared_serving': None, 'prepared_unit': None}, {'name': 'sugars', 'value': 55.36000061035156, '100g': 98.9000015258789, 'serving': 55.36000061035156, 'unit': 'g', 'prepared_value': None, 'prepared_100g': None, 'prepared_serving': None, 'prepared_unit': None}, {'name': 'fruits-vegetables-legumes-estimate-from-ingredients', 'value': None, '100g': 0.0, 'serving': 0.0, 'unit': None, 'prepared_value': None, 'prepared_100g': None, 'prepared_serving': None, 'prepared_unit': None}, {'name': 'nova-group', 'value': None, '100g': 4.0, 'serving': 4.0, 'unit': None, 'prepared_value': None, 'prepared_100g': None, 'prepared_serving': None, 'prepared_unit': None}, {'name': 'carbohydrates', 'value': 58.93000030517578, '100g': 105.0, 'serving': 58.93000030517578, 'unit': 'g', 'prepared_value': None, 'prepared_100g': None, 'prepared_serving': None, 'prepared_unit': None}, {'name': 'vitamin-a', 'value': 5.370000144466758e-05, '100g': 9.590000321635372e-11, 'serving': 5.3699999308376434e-11, 'unit': 'µg', 'prepared_value': None, 'prepared_100g': None, 'prepared_serving': None, 'prepared_unit': None}, {'name': 'fruits-vegetables-nuts-estimate-from-ingredients', 'value': None, '100g': 0.0, 'serving': 0.0, 'unit': None, 'prepared_value': None, 'prepared_100g': None, 'prepared_serving': None, 'prepared_unit': None}]\n"
     ]
    }
   ],
   "source": [
    "for sample in samples:\n",
    "    print(sample['nutriments'])"
   ]
  },
  {
   "cell_type": "code",
   "execution_count": 30,
   "id": "063deb38",
   "metadata": {},
   "outputs": [],
   "source": [
    "constituents_path = \"../../data/all_lang_constituents.json\"\n",
    "with open(constituents_path, 'r') as f:\n",
    "    constituents = json.load(f)"
   ]
  },
  {
   "cell_type": "code",
   "execution_count": 31,
   "id": "6a57d329",
   "metadata": {},
   "outputs": [],
   "source": [
    "ingredients = constituents['ingredients']\n",
    "languages = set()\n",
    "for ing in ingredients:\n",
    "    lang = ing.split(':')[0]\n",
    "    languages.add(lang)"
   ]
  },
  {
   "cell_type": "code",
   "execution_count": 32,
   "id": "e15e9bd5",
   "metadata": {},
   "outputs": [
    {
     "name": "stdout",
     "output_type": "stream",
     "text": [
      "The number of unique languages in ingredients is: 89\n"
     ]
    }
   ],
   "source": [
    "print(\"The number of unique languages in ingredients is:\", len(languages))"
   ]
  },
  {
   "cell_type": "code",
   "execution_count": 16,
   "id": "2d562b73",
   "metadata": {},
   "outputs": [
    {
     "name": "stdout",
     "output_type": "stream",
     "text": [
      "Languages set:  {'', 'ne', 'mo', 'te', 'so', 'et', 'id', 'tl', 'fr', 'es', 'ky', 'it', 'uz', 'iw', 'tr', 'da', 'ku', 'tt', 'se', 'fy', 'ga', 'bg', 'am', 'ig', 'to', 'hr', 'sr', 'xx', 'ca', 'cy', 'mr', 'ms', 'hy', 'is', 'ja', 'ro', 'mk', 'co', 'ty', 'fa', 'sv', 'eo', 'ko', 'zh', 'fi', 'sq', 'uk', 'ka', 'bs', 'pl', 'af', 'my', 'gl', 'sk', 'ur', 'ba', 'hi', 'rn', 'lb', 'ar', 'th', 'de', 'mn', 'pt', 'az', 'lv', 'en', 'in', 'lt', 'as', 'vi', 'no', 'hu', 'gd', 'nl', 'nb', 'mg', 'km', 'sl', 'he', 'bn', 'ee', 'ru', 'eu', 'be', 'la', 'el', 'aa', 'cs'}\n"
     ]
    }
   ],
   "source": [
    "print(\"Languages set: \", languages)"
   ]
  },
  {
   "cell_type": "code",
   "execution_count": 33,
   "id": "5ac9f430",
   "metadata": {},
   "outputs": [],
   "source": [
    "constituents_path = \"../../data/constituents.json\"\n",
    "with open(constituents_path, 'r') as f:\n",
    "    constituents = json.load(f)"
   ]
  },
  {
   "cell_type": "code",
   "execution_count": 24,
   "id": "ee6ee6c0",
   "metadata": {},
   "outputs": [
    {
     "name": "stdout",
     "output_type": "stream",
     "text": [
      "Number of ingredients in English: 396478\n",
      "Number of additives in English: 615\n",
      "Number of minerals in English: 123\n",
      "Number of nutriments in English: 2286\n"
     ]
    }
   ],
   "source": [
    "print(\"Number of ingredients in English:\", len(constituents['ingredients']))\n",
    "print(\"Number of additives in English:\", len(constituents['additives']))\n",
    "print(\"Number of minerals in English:\", len(constituents['minerals']))\n",
    "print(\"Number of nutriments in English:\", len(constituents['nutriments']))"
   ]
  },
  {
   "cell_type": "code",
   "execution_count": 49,
   "id": "a1f2f335",
   "metadata": {},
   "outputs": [],
   "source": [
    "ingredients = constituents['ingredients']\n",
    "additives = constituents['additives']\n",
    "minerals = constituents['minerals']\n",
    "nutriments = constituents['nutriments']"
   ]
  },
  {
   "cell_type": "code",
   "execution_count": 50,
   "id": "f5065e1c",
   "metadata": {},
   "outputs": [
    {
     "name": "stdout",
     "output_type": "stream",
     "text": [
      "en:camomile-flower: 158\n",
      "en:herb: 96637\n",
      "en:camomile: 860\n",
      "en:peppermint: 2125\n",
      "en:mint: 5422\n",
      "en:linden-flowers: 25\n",
      "en:roselle-flower: 2711\n",
      "en:plant: 168080\n",
      "en:tea: 9226\n",
      "en:cinnamon: 18390\n"
     ]
    }
   ],
   "source": [
    "count = 0\n",
    "for key, value in ingredients.items():\n",
    "    print(f\"{key}: {value}\")\n",
    "    count += 1\n",
    "    if count >= 10:\n",
    "        break"
   ]
  },
  {
   "cell_type": "code",
   "execution_count": 66,
   "id": "2895df3c",
   "metadata": {},
   "outputs": [
    {
     "name": "stdout",
     "output_type": "stream",
     "text": [
      "396478\n"
     ]
    },
    {
     "data": {
      "text/plain": [
       "(array([3.95316e+05, 3.52000e+02, 1.69000e+02, 8.60000e+01, 6.40000e+01,\n",
       "        4.90000e+01, 3.60000e+01, 2.50000e+01, 1.70000e+01, 2.70000e+01,\n",
       "        2.30000e+01, 1.40000e+01, 1.70000e+01, 8.00000e+00, 1.00000e+01,\n",
       "        8.00000e+00, 9.00000e+00, 1.10000e+01, 1.30000e+01, 1.10000e+01,\n",
       "        1.00000e+01, 7.00000e+00, 1.50000e+01, 4.00000e+00, 4.00000e+00,\n",
       "        1.10000e+01, 2.00000e+00, 2.00000e+00, 4.00000e+00, 4.00000e+00,\n",
       "        3.00000e+00, 2.00000e+00, 3.00000e+00, 3.00000e+00, 3.00000e+00,\n",
       "        7.00000e+00, 5.00000e+00, 2.00000e+00, 4.00000e+00, 2.00000e+00,\n",
       "        4.00000e+00, 0.00000e+00, 1.00000e+00, 1.00000e+00, 1.00000e+00,\n",
       "        3.00000e+00, 2.00000e+00, 4.00000e+00, 4.00000e+00, 2.00000e+00,\n",
       "        2.00000e+00, 3.00000e+00, 2.00000e+00, 3.00000e+00, 3.00000e+00,\n",
       "        1.00000e+00, 4.00000e+00, 1.00000e+00, 1.00000e+00, 0.00000e+00,\n",
       "        2.00000e+00, 0.00000e+00, 3.00000e+00, 2.00000e+00, 1.00000e+00,\n",
       "        1.00000e+00, 1.00000e+00, 1.00000e+00, 0.00000e+00, 3.00000e+00,\n",
       "        0.00000e+00, 1.00000e+00, 0.00000e+00, 4.00000e+00, 0.00000e+00,\n",
       "        1.00000e+00, 1.00000e+00, 1.00000e+00, 1.00000e+00, 0.00000e+00,\n",
       "        0.00000e+00, 1.00000e+00, 2.00000e+00, 0.00000e+00, 2.00000e+00,\n",
       "        0.00000e+00, 1.00000e+00, 1.00000e+00, 1.00000e+00, 0.00000e+00,\n",
       "        1.00000e+00, 0.00000e+00, 0.00000e+00, 0.00000e+00, 0.00000e+00,\n",
       "        0.00000e+00, 2.00000e+00, 0.00000e+00, 0.00000e+00, 0.00000e+00,\n",
       "        1.00000e+00, 1.00000e+00, 0.00000e+00, 1.00000e+00, 0.00000e+00,\n",
       "        1.00000e+00, 0.00000e+00, 0.00000e+00, 1.00000e+00, 3.00000e+00,\n",
       "        0.00000e+00, 0.00000e+00, 0.00000e+00, 1.00000e+00, 0.00000e+00,\n",
       "        1.00000e+00, 0.00000e+00, 1.00000e+00, 0.00000e+00, 0.00000e+00,\n",
       "        0.00000e+00, 0.00000e+00, 0.00000e+00, 0.00000e+00, 0.00000e+00,\n",
       "        0.00000e+00, 0.00000e+00, 0.00000e+00, 0.00000e+00, 0.00000e+00,\n",
       "        0.00000e+00, 1.00000e+00, 0.00000e+00, 0.00000e+00, 0.00000e+00,\n",
       "        0.00000e+00, 0.00000e+00, 0.00000e+00, 0.00000e+00, 0.00000e+00,\n",
       "        0.00000e+00, 0.00000e+00, 1.00000e+00, 0.00000e+00, 0.00000e+00,\n",
       "        0.00000e+00, 0.00000e+00, 0.00000e+00, 0.00000e+00, 0.00000e+00,\n",
       "        0.00000e+00, 0.00000e+00, 0.00000e+00, 0.00000e+00, 0.00000e+00,\n",
       "        0.00000e+00, 0.00000e+00, 0.00000e+00, 1.00000e+00, 0.00000e+00,\n",
       "        0.00000e+00, 0.00000e+00, 0.00000e+00, 1.00000e+00, 1.00000e+00,\n",
       "        0.00000e+00, 1.00000e+00, 0.00000e+00, 0.00000e+00, 0.00000e+00,\n",
       "        0.00000e+00, 0.00000e+00, 0.00000e+00, 0.00000e+00, 0.00000e+00,\n",
       "        0.00000e+00, 1.00000e+00, 0.00000e+00, 0.00000e+00, 1.00000e+00,\n",
       "        0.00000e+00, 1.00000e+00, 1.00000e+00, 0.00000e+00, 1.00000e+00,\n",
       "        0.00000e+00, 0.00000e+00, 0.00000e+00, 0.00000e+00, 0.00000e+00,\n",
       "        0.00000e+00, 0.00000e+00, 0.00000e+00, 1.00000e+00, 0.00000e+00,\n",
       "        0.00000e+00, 0.00000e+00, 0.00000e+00, 0.00000e+00, 0.00000e+00,\n",
       "        0.00000e+00, 0.00000e+00, 1.00000e+00, 1.00000e+00, 0.00000e+00,\n",
       "        0.00000e+00, 0.00000e+00, 0.00000e+00, 0.00000e+00, 0.00000e+00,\n",
       "        0.00000e+00, 0.00000e+00, 1.00000e+00, 0.00000e+00, 0.00000e+00,\n",
       "        0.00000e+00, 1.00000e+00, 0.00000e+00, 0.00000e+00, 0.00000e+00,\n",
       "        0.00000e+00, 1.00000e+00, 0.00000e+00, 0.00000e+00, 0.00000e+00,\n",
       "        0.00000e+00, 1.00000e+00, 0.00000e+00, 0.00000e+00, 0.00000e+00,\n",
       "        0.00000e+00, 0.00000e+00, 0.00000e+00, 0.00000e+00, 0.00000e+00,\n",
       "        0.00000e+00, 0.00000e+00, 0.00000e+00, 0.00000e+00, 0.00000e+00,\n",
       "        0.00000e+00, 0.00000e+00, 0.00000e+00, 0.00000e+00, 0.00000e+00,\n",
       "        0.00000e+00, 0.00000e+00, 0.00000e+00, 0.00000e+00, 0.00000e+00,\n",
       "        0.00000e+00, 0.00000e+00, 0.00000e+00, 0.00000e+00, 0.00000e+00,\n",
       "        0.00000e+00, 0.00000e+00, 0.00000e+00, 0.00000e+00, 0.00000e+00,\n",
       "        0.00000e+00, 0.00000e+00, 0.00000e+00, 0.00000e+00, 0.00000e+00,\n",
       "        0.00000e+00, 0.00000e+00, 0.00000e+00, 0.00000e+00, 2.00000e+00,\n",
       "        0.00000e+00, 0.00000e+00, 0.00000e+00, 0.00000e+00, 0.00000e+00,\n",
       "        0.00000e+00, 0.00000e+00, 0.00000e+00, 0.00000e+00, 0.00000e+00,\n",
       "        0.00000e+00, 0.00000e+00, 0.00000e+00, 0.00000e+00, 0.00000e+00,\n",
       "        0.00000e+00, 0.00000e+00, 0.00000e+00, 0.00000e+00, 0.00000e+00,\n",
       "        0.00000e+00, 0.00000e+00, 0.00000e+00, 0.00000e+00, 0.00000e+00,\n",
       "        0.00000e+00, 0.00000e+00, 0.00000e+00, 0.00000e+00, 0.00000e+00,\n",
       "        0.00000e+00, 0.00000e+00, 0.00000e+00, 0.00000e+00, 0.00000e+00,\n",
       "        0.00000e+00, 0.00000e+00, 0.00000e+00, 0.00000e+00, 0.00000e+00,\n",
       "        0.00000e+00, 0.00000e+00, 0.00000e+00, 0.00000e+00, 0.00000e+00,\n",
       "        0.00000e+00, 0.00000e+00, 0.00000e+00, 1.00000e+00, 0.00000e+00,\n",
       "        0.00000e+00, 0.00000e+00, 0.00000e+00, 0.00000e+00, 0.00000e+00,\n",
       "        0.00000e+00, 0.00000e+00, 0.00000e+00, 0.00000e+00, 1.00000e+00,\n",
       "        0.00000e+00, 0.00000e+00, 0.00000e+00, 1.00000e+00, 0.00000e+00,\n",
       "        0.00000e+00, 0.00000e+00, 0.00000e+00, 0.00000e+00, 0.00000e+00,\n",
       "        0.00000e+00, 0.00000e+00, 0.00000e+00, 0.00000e+00, 0.00000e+00,\n",
       "        0.00000e+00, 0.00000e+00, 1.00000e+00, 0.00000e+00, 0.00000e+00,\n",
       "        0.00000e+00, 0.00000e+00, 0.00000e+00, 1.00000e+00, 0.00000e+00,\n",
       "        0.00000e+00, 0.00000e+00, 0.00000e+00, 0.00000e+00, 0.00000e+00,\n",
       "        0.00000e+00, 0.00000e+00, 0.00000e+00, 0.00000e+00, 0.00000e+00,\n",
       "        0.00000e+00, 0.00000e+00, 0.00000e+00, 0.00000e+00, 0.00000e+00,\n",
       "        0.00000e+00, 0.00000e+00, 0.00000e+00, 0.00000e+00, 0.00000e+00,\n",
       "        0.00000e+00, 0.00000e+00, 0.00000e+00, 0.00000e+00, 0.00000e+00,\n",
       "        0.00000e+00, 0.00000e+00, 0.00000e+00, 0.00000e+00, 0.00000e+00,\n",
       "        0.00000e+00, 0.00000e+00, 0.00000e+00, 0.00000e+00, 0.00000e+00,\n",
       "        0.00000e+00, 0.00000e+00, 0.00000e+00, 0.00000e+00, 0.00000e+00,\n",
       "        0.00000e+00, 0.00000e+00, 0.00000e+00, 0.00000e+00, 0.00000e+00,\n",
       "        0.00000e+00, 0.00000e+00, 0.00000e+00, 0.00000e+00, 0.00000e+00,\n",
       "        0.00000e+00, 0.00000e+00, 0.00000e+00, 1.00000e+00, 0.00000e+00,\n",
       "        0.00000e+00, 0.00000e+00, 0.00000e+00, 0.00000e+00, 0.00000e+00,\n",
       "        0.00000e+00, 0.00000e+00, 0.00000e+00, 0.00000e+00, 0.00000e+00,\n",
       "        0.00000e+00, 0.00000e+00, 0.00000e+00, 0.00000e+00, 0.00000e+00,\n",
       "        0.00000e+00, 0.00000e+00, 0.00000e+00, 0.00000e+00, 1.00000e+00,\n",
       "        0.00000e+00, 0.00000e+00, 0.00000e+00, 0.00000e+00, 0.00000e+00,\n",
       "        0.00000e+00, 0.00000e+00, 0.00000e+00, 0.00000e+00, 0.00000e+00,\n",
       "        0.00000e+00, 0.00000e+00, 0.00000e+00, 0.00000e+00, 0.00000e+00,\n",
       "        0.00000e+00, 0.00000e+00, 0.00000e+00, 0.00000e+00, 0.00000e+00,\n",
       "        0.00000e+00, 0.00000e+00, 0.00000e+00, 0.00000e+00, 0.00000e+00,\n",
       "        0.00000e+00, 0.00000e+00, 0.00000e+00, 0.00000e+00, 0.00000e+00,\n",
       "        0.00000e+00, 0.00000e+00, 0.00000e+00, 0.00000e+00, 0.00000e+00,\n",
       "        0.00000e+00, 0.00000e+00, 0.00000e+00, 0.00000e+00, 0.00000e+00,\n",
       "        0.00000e+00, 0.00000e+00, 0.00000e+00, 0.00000e+00, 0.00000e+00,\n",
       "        0.00000e+00, 0.00000e+00, 0.00000e+00, 0.00000e+00, 1.00000e+00,\n",
       "        0.00000e+00, 0.00000e+00, 0.00000e+00, 0.00000e+00, 0.00000e+00,\n",
       "        0.00000e+00, 0.00000e+00, 0.00000e+00, 0.00000e+00, 0.00000e+00,\n",
       "        0.00000e+00, 0.00000e+00, 0.00000e+00, 0.00000e+00, 0.00000e+00,\n",
       "        0.00000e+00, 0.00000e+00, 0.00000e+00, 0.00000e+00, 1.00000e+00]),\n",
       " array([1.00000000e+00, 9.35052000e+02, 1.86910400e+03, 2.80315600e+03,\n",
       "        3.73720800e+03, 4.67126000e+03, 5.60531200e+03, 6.53936400e+03,\n",
       "        7.47341600e+03, 8.40746800e+03, 9.34152000e+03, 1.02755720e+04,\n",
       "        1.12096240e+04, 1.21436760e+04, 1.30777280e+04, 1.40117800e+04,\n",
       "        1.49458320e+04, 1.58798840e+04, 1.68139360e+04, 1.77479880e+04,\n",
       "        1.86820400e+04, 1.96160920e+04, 2.05501440e+04, 2.14841960e+04,\n",
       "        2.24182480e+04, 2.33523000e+04, 2.42863520e+04, 2.52204040e+04,\n",
       "        2.61544560e+04, 2.70885080e+04, 2.80225600e+04, 2.89566120e+04,\n",
       "        2.98906640e+04, 3.08247160e+04, 3.17587680e+04, 3.26928200e+04,\n",
       "        3.36268720e+04, 3.45609240e+04, 3.54949760e+04, 3.64290280e+04,\n",
       "        3.73630800e+04, 3.82971320e+04, 3.92311840e+04, 4.01652360e+04,\n",
       "        4.10992880e+04, 4.20333400e+04, 4.29673920e+04, 4.39014440e+04,\n",
       "        4.48354960e+04, 4.57695480e+04, 4.67036000e+04, 4.76376520e+04,\n",
       "        4.85717040e+04, 4.95057560e+04, 5.04398080e+04, 5.13738600e+04,\n",
       "        5.23079120e+04, 5.32419640e+04, 5.41760160e+04, 5.51100680e+04,\n",
       "        5.60441200e+04, 5.69781720e+04, 5.79122240e+04, 5.88462760e+04,\n",
       "        5.97803280e+04, 6.07143800e+04, 6.16484320e+04, 6.25824840e+04,\n",
       "        6.35165360e+04, 6.44505880e+04, 6.53846400e+04, 6.63186920e+04,\n",
       "        6.72527440e+04, 6.81867960e+04, 6.91208480e+04, 7.00549000e+04,\n",
       "        7.09889520e+04, 7.19230040e+04, 7.28570560e+04, 7.37911080e+04,\n",
       "        7.47251600e+04, 7.56592120e+04, 7.65932640e+04, 7.75273160e+04,\n",
       "        7.84613680e+04, 7.93954200e+04, 8.03294720e+04, 8.12635240e+04,\n",
       "        8.21975760e+04, 8.31316280e+04, 8.40656800e+04, 8.49997320e+04,\n",
       "        8.59337840e+04, 8.68678360e+04, 8.78018880e+04, 8.87359400e+04,\n",
       "        8.96699920e+04, 9.06040440e+04, 9.15380960e+04, 9.24721480e+04,\n",
       "        9.34062000e+04, 9.43402520e+04, 9.52743040e+04, 9.62083560e+04,\n",
       "        9.71424080e+04, 9.80764600e+04, 9.90105120e+04, 9.99445640e+04,\n",
       "        1.00878616e+05, 1.01812668e+05, 1.02746720e+05, 1.03680772e+05,\n",
       "        1.04614824e+05, 1.05548876e+05, 1.06482928e+05, 1.07416980e+05,\n",
       "        1.08351032e+05, 1.09285084e+05, 1.10219136e+05, 1.11153188e+05,\n",
       "        1.12087240e+05, 1.13021292e+05, 1.13955344e+05, 1.14889396e+05,\n",
       "        1.15823448e+05, 1.16757500e+05, 1.17691552e+05, 1.18625604e+05,\n",
       "        1.19559656e+05, 1.20493708e+05, 1.21427760e+05, 1.22361812e+05,\n",
       "        1.23295864e+05, 1.24229916e+05, 1.25163968e+05, 1.26098020e+05,\n",
       "        1.27032072e+05, 1.27966124e+05, 1.28900176e+05, 1.29834228e+05,\n",
       "        1.30768280e+05, 1.31702332e+05, 1.32636384e+05, 1.33570436e+05,\n",
       "        1.34504488e+05, 1.35438540e+05, 1.36372592e+05, 1.37306644e+05,\n",
       "        1.38240696e+05, 1.39174748e+05, 1.40108800e+05, 1.41042852e+05,\n",
       "        1.41976904e+05, 1.42910956e+05, 1.43845008e+05, 1.44779060e+05,\n",
       "        1.45713112e+05, 1.46647164e+05, 1.47581216e+05, 1.48515268e+05,\n",
       "        1.49449320e+05, 1.50383372e+05, 1.51317424e+05, 1.52251476e+05,\n",
       "        1.53185528e+05, 1.54119580e+05, 1.55053632e+05, 1.55987684e+05,\n",
       "        1.56921736e+05, 1.57855788e+05, 1.58789840e+05, 1.59723892e+05,\n",
       "        1.60657944e+05, 1.61591996e+05, 1.62526048e+05, 1.63460100e+05,\n",
       "        1.64394152e+05, 1.65328204e+05, 1.66262256e+05, 1.67196308e+05,\n",
       "        1.68130360e+05, 1.69064412e+05, 1.69998464e+05, 1.70932516e+05,\n",
       "        1.71866568e+05, 1.72800620e+05, 1.73734672e+05, 1.74668724e+05,\n",
       "        1.75602776e+05, 1.76536828e+05, 1.77470880e+05, 1.78404932e+05,\n",
       "        1.79338984e+05, 1.80273036e+05, 1.81207088e+05, 1.82141140e+05,\n",
       "        1.83075192e+05, 1.84009244e+05, 1.84943296e+05, 1.85877348e+05,\n",
       "        1.86811400e+05, 1.87745452e+05, 1.88679504e+05, 1.89613556e+05,\n",
       "        1.90547608e+05, 1.91481660e+05, 1.92415712e+05, 1.93349764e+05,\n",
       "        1.94283816e+05, 1.95217868e+05, 1.96151920e+05, 1.97085972e+05,\n",
       "        1.98020024e+05, 1.98954076e+05, 1.99888128e+05, 2.00822180e+05,\n",
       "        2.01756232e+05, 2.02690284e+05, 2.03624336e+05, 2.04558388e+05,\n",
       "        2.05492440e+05, 2.06426492e+05, 2.07360544e+05, 2.08294596e+05,\n",
       "        2.09228648e+05, 2.10162700e+05, 2.11096752e+05, 2.12030804e+05,\n",
       "        2.12964856e+05, 2.13898908e+05, 2.14832960e+05, 2.15767012e+05,\n",
       "        2.16701064e+05, 2.17635116e+05, 2.18569168e+05, 2.19503220e+05,\n",
       "        2.20437272e+05, 2.21371324e+05, 2.22305376e+05, 2.23239428e+05,\n",
       "        2.24173480e+05, 2.25107532e+05, 2.26041584e+05, 2.26975636e+05,\n",
       "        2.27909688e+05, 2.28843740e+05, 2.29777792e+05, 2.30711844e+05,\n",
       "        2.31645896e+05, 2.32579948e+05, 2.33514000e+05, 2.34448052e+05,\n",
       "        2.35382104e+05, 2.36316156e+05, 2.37250208e+05, 2.38184260e+05,\n",
       "        2.39118312e+05, 2.40052364e+05, 2.40986416e+05, 2.41920468e+05,\n",
       "        2.42854520e+05, 2.43788572e+05, 2.44722624e+05, 2.45656676e+05,\n",
       "        2.46590728e+05, 2.47524780e+05, 2.48458832e+05, 2.49392884e+05,\n",
       "        2.50326936e+05, 2.51260988e+05, 2.52195040e+05, 2.53129092e+05,\n",
       "        2.54063144e+05, 2.54997196e+05, 2.55931248e+05, 2.56865300e+05,\n",
       "        2.57799352e+05, 2.58733404e+05, 2.59667456e+05, 2.60601508e+05,\n",
       "        2.61535560e+05, 2.62469612e+05, 2.63403664e+05, 2.64337716e+05,\n",
       "        2.65271768e+05, 2.66205820e+05, 2.67139872e+05, 2.68073924e+05,\n",
       "        2.69007976e+05, 2.69942028e+05, 2.70876080e+05, 2.71810132e+05,\n",
       "        2.72744184e+05, 2.73678236e+05, 2.74612288e+05, 2.75546340e+05,\n",
       "        2.76480392e+05, 2.77414444e+05, 2.78348496e+05, 2.79282548e+05,\n",
       "        2.80216600e+05, 2.81150652e+05, 2.82084704e+05, 2.83018756e+05,\n",
       "        2.83952808e+05, 2.84886860e+05, 2.85820912e+05, 2.86754964e+05,\n",
       "        2.87689016e+05, 2.88623068e+05, 2.89557120e+05, 2.90491172e+05,\n",
       "        2.91425224e+05, 2.92359276e+05, 2.93293328e+05, 2.94227380e+05,\n",
       "        2.95161432e+05, 2.96095484e+05, 2.97029536e+05, 2.97963588e+05,\n",
       "        2.98897640e+05, 2.99831692e+05, 3.00765744e+05, 3.01699796e+05,\n",
       "        3.02633848e+05, 3.03567900e+05, 3.04501952e+05, 3.05436004e+05,\n",
       "        3.06370056e+05, 3.07304108e+05, 3.08238160e+05, 3.09172212e+05,\n",
       "        3.10106264e+05, 3.11040316e+05, 3.11974368e+05, 3.12908420e+05,\n",
       "        3.13842472e+05, 3.14776524e+05, 3.15710576e+05, 3.16644628e+05,\n",
       "        3.17578680e+05, 3.18512732e+05, 3.19446784e+05, 3.20380836e+05,\n",
       "        3.21314888e+05, 3.22248940e+05, 3.23182992e+05, 3.24117044e+05,\n",
       "        3.25051096e+05, 3.25985148e+05, 3.26919200e+05, 3.27853252e+05,\n",
       "        3.28787304e+05, 3.29721356e+05, 3.30655408e+05, 3.31589460e+05,\n",
       "        3.32523512e+05, 3.33457564e+05, 3.34391616e+05, 3.35325668e+05,\n",
       "        3.36259720e+05, 3.37193772e+05, 3.38127824e+05, 3.39061876e+05,\n",
       "        3.39995928e+05, 3.40929980e+05, 3.41864032e+05, 3.42798084e+05,\n",
       "        3.43732136e+05, 3.44666188e+05, 3.45600240e+05, 3.46534292e+05,\n",
       "        3.47468344e+05, 3.48402396e+05, 3.49336448e+05, 3.50270500e+05,\n",
       "        3.51204552e+05, 3.52138604e+05, 3.53072656e+05, 3.54006708e+05,\n",
       "        3.54940760e+05, 3.55874812e+05, 3.56808864e+05, 3.57742916e+05,\n",
       "        3.58676968e+05, 3.59611020e+05, 3.60545072e+05, 3.61479124e+05,\n",
       "        3.62413176e+05, 3.63347228e+05, 3.64281280e+05, 3.65215332e+05,\n",
       "        3.66149384e+05, 3.67083436e+05, 3.68017488e+05, 3.68951540e+05,\n",
       "        3.69885592e+05, 3.70819644e+05, 3.71753696e+05, 3.72687748e+05,\n",
       "        3.73621800e+05, 3.74555852e+05, 3.75489904e+05, 3.76423956e+05,\n",
       "        3.77358008e+05, 3.78292060e+05, 3.79226112e+05, 3.80160164e+05,\n",
       "        3.81094216e+05, 3.82028268e+05, 3.82962320e+05, 3.83896372e+05,\n",
       "        3.84830424e+05, 3.85764476e+05, 3.86698528e+05, 3.87632580e+05,\n",
       "        3.88566632e+05, 3.89500684e+05, 3.90434736e+05, 3.91368788e+05,\n",
       "        3.92302840e+05, 3.93236892e+05, 3.94170944e+05, 3.95104996e+05,\n",
       "        3.96039048e+05, 3.96973100e+05, 3.97907152e+05, 3.98841204e+05,\n",
       "        3.99775256e+05, 4.00709308e+05, 4.01643360e+05, 4.02577412e+05,\n",
       "        4.03511464e+05, 4.04445516e+05, 4.05379568e+05, 4.06313620e+05,\n",
       "        4.07247672e+05, 4.08181724e+05, 4.09115776e+05, 4.10049828e+05,\n",
       "        4.10983880e+05, 4.11917932e+05, 4.12851984e+05, 4.13786036e+05,\n",
       "        4.14720088e+05, 4.15654140e+05, 4.16588192e+05, 4.17522244e+05,\n",
       "        4.18456296e+05, 4.19390348e+05, 4.20324400e+05, 4.21258452e+05,\n",
       "        4.22192504e+05, 4.23126556e+05, 4.24060608e+05, 4.24994660e+05,\n",
       "        4.25928712e+05, 4.26862764e+05, 4.27796816e+05, 4.28730868e+05,\n",
       "        4.29664920e+05, 4.30598972e+05, 4.31533024e+05, 4.32467076e+05,\n",
       "        4.33401128e+05, 4.34335180e+05, 4.35269232e+05, 4.36203284e+05,\n",
       "        4.37137336e+05, 4.38071388e+05, 4.39005440e+05, 4.39939492e+05,\n",
       "        4.40873544e+05, 4.41807596e+05, 4.42741648e+05, 4.43675700e+05,\n",
       "        4.44609752e+05, 4.45543804e+05, 4.46477856e+05, 4.47411908e+05,\n",
       "        4.48345960e+05, 4.49280012e+05, 4.50214064e+05, 4.51148116e+05,\n",
       "        4.52082168e+05, 4.53016220e+05, 4.53950272e+05, 4.54884324e+05,\n",
       "        4.55818376e+05, 4.56752428e+05, 4.57686480e+05, 4.58620532e+05,\n",
       "        4.59554584e+05, 4.60488636e+05, 4.61422688e+05, 4.62356740e+05,\n",
       "        4.63290792e+05, 4.64224844e+05, 4.65158896e+05, 4.66092948e+05,\n",
       "        4.67027000e+05]),\n",
       " <BarContainer object of 500 artists>)"
      ]
     },
     "execution_count": 66,
     "metadata": {},
     "output_type": "execute_result"
    },
    {
     "data": {
      "image/png": "[encoded data removed]",
      "text/plain": [
       "<Figure size 640x480 with 1 Axes>"
      ]
     },
     "metadata": {},
     "output_type": "display_data"
    }
   ],
   "source": [
    "ingredients_counts = ingredients.values()\n",
    "print(len(ingredients_counts))\n",
    "plt.hist(ingredients_counts, bins=500)"
   ]
  },
  {
   "cell_type": "code",
   "execution_count": 67,
   "id": "5ec0229b",
   "metadata": {},
   "outputs": [],
   "source": [
    "ingredients_counts = sorted(ingredients_counts)\n",
    "ingredients_counts = ingredients_counts[(len(ingredients_counts) // 10) * 9:int(len(ingredients_counts) * 0.99)]"
   ]
  },
  {
   "cell_type": "code",
   "execution_count": 68,
   "id": "e53e4887",
   "metadata": {},
   "outputs": [
    {
     "data": {
      "text/plain": [
       "(array([10584.,  7509.,  2318.,  3240.,  2131.,   838.,  1390.,   565.,\n",
       "          891.,   697.,   315.,   530.,   473.,   179.,   377.,   168.,\n",
       "          314.,   258.,   131.,   232.,   223.,    82.,   191.,    93.,\n",
       "          178.,   150.,    76.,   132.,    56.,   119.,   106.,    58.,\n",
       "          101.,    89.,    43.,    80.,    40.,    87.,    79.,    34.,\n",
       "           87.,    72.,    34.,    69.,    32.,    54.,    64.,    20.,\n",
       "           68.,    33.]),\n",
       " array([ 3.  ,  4.62,  6.24,  7.86,  9.48, 11.1 , 12.72, 14.34, 15.96,\n",
       "        17.58, 19.2 , 20.82, 22.44, 24.06, 25.68, 27.3 , 28.92, 30.54,\n",
       "        32.16, 33.78, 35.4 , 37.02, 38.64, 40.26, 41.88, 43.5 , 45.12,\n",
       "        46.74, 48.36, 49.98, 51.6 , 53.22, 54.84, 56.46, 58.08, 59.7 ,\n",
       "        61.32, 62.94, 64.56, 66.18, 67.8 , 69.42, 71.04, 72.66, 74.28,\n",
       "        75.9 , 77.52, 79.14, 80.76, 82.38, 84.  ]),\n",
       " <BarContainer object of 50 artists>)"
      ]
     },
     "execution_count": 68,
     "metadata": {},
     "output_type": "execute_result"
    },
    {
     "data": {
      "image/png": "[encoded data removed]",
      "text/plain": [
       "<Figure size 640x480 with 1 Axes>"
      ]
     },
     "metadata": {},
     "output_type": "display_data"
    }
   ],
   "source": [
    "plt.hist(ingredients_counts, bins=50)"
   ]
  },
  {
   "cell_type": "code",
   "execution_count": 105,
   "id": "2e64d46c",
   "metadata": {},
   "outputs": [
    {
     "name": "stdout",
     "output_type": "stream",
     "text": [
      "Number of ingredients occuring at least 100 times: 3593\n"
     ]
    }
   ],
   "source": [
    "new_ingredients = {}\n",
    "for key, value in ingredients.items():\n",
    "    if value >= 100:\n",
    "        new_ingredients[key] = value\n",
    "\n",
    "print(\"Number of ingredients occuring at least 100 times:\", len(new_ingredients))"
   ]
  },
  {
   "cell_type": "code",
   "execution_count": 106,
   "id": "82eb0010",
   "metadata": {},
   "outputs": [],
   "source": [
    "#sort new_ingredients by value\n",
    "new_ingredients = dict(sorted(new_ingredients.items(), key=lambda item: item[1], reverse=False))"
   ]
  },
  {
   "cell_type": "code",
   "execution_count": 107,
   "id": "de781ccb",
   "metadata": {},
   "outputs": [
    {
     "name": "stdout",
     "output_type": "stream",
     "text": [
      "en:220: 100\n",
      "en:acide-malique: 100\n",
      "en:isolated-soy-protein-product: 100\n",
      "en:cultured-celery-juice-powder: 100\n",
      "en:cheddar-cheese-sauce: 100\n",
      "en:turkey-thigh-meat: 100\n",
      "en:milkcap: 100\n",
      "en:tart-cherry: 100\n",
      "en:karotten: 100\n",
      "en:croscarmellose-sodium: 100\n",
      "en:milcheiweiss: 100\n",
      "en:2000-kcal: 100\n",
      "en:dark-chocolate-contains-cocoa-solids: 101\n",
      "en:b-carotene: 101\n",
      "en:yellow-cornmeal: 101\n",
      "en:cheddar-cheese-blend: 101\n",
      "en:beef-collagen-casing: 101\n",
      "en:cracked-rye: 101\n",
      "en:high-oleic-oil: 101\n",
      "en:poudre-d-ail: 101\n",
      "en:poivre: 101\n",
      "en:jodiertes-speisesalz: 101\n",
      "en:poteter: 101\n",
      "en:coco: 102\n",
      "en:brie: 102\n",
      "en:germinated-rice: 102\n",
      "en:black-cardamom: 102\n",
      "en:broad-leaved-endive: 102\n",
      "en:retains-product-freshness: 102\n",
      "en:natural-cocoa: 102\n",
      "en:dimethyl-silicone: 102\n",
      "en:natural-maple-flavouring: 102\n",
      "en:cajun-seasoning: 102\n",
      "en:black-tea-leaf: 102\n",
      "en:contains-2-and-less-of-each: 102\n",
      "en:natural-cinammon-flavouring: 102\n",
      "en:of: 102\n",
      "en:soluble-vegetable-fiber: 102\n",
      "en:raclette: 102\n",
      "en:pflanzliche-ole: 102\n",
      "en:492: 102\n",
      "en:ris: 102\n",
      "en:mandler: 102\n",
      "en:pasteurized-butter: 103\n",
      "en:toffee: 103\n",
      "en:purple-carrot: 103\n",
      "en:chocolate-liqueur: 103\n",
      "en:cuttlefish: 103\n",
      "en:paprika-flavouring: 103\n",
      "en:hulled-soya-bean: 103\n",
      "en:niacine: 103\n",
      "en:european-sprat: 103\n",
      "en:natural-aniseed-aroma: 103\n",
      "en:carnaroli-rice: 103\n",
      "en:natural-bitter-almond-flavouring: 103\n",
      "en:hvetestivelse: 103\n",
      "en:fish-protein: 104\n",
      "en:red-potatoes: 104\n",
      "en:expeller-pressed-high-oleic-oil: 104\n",
      "en:sweet-dairy-whey: 104\n",
      "en:cane-vinegar: 104\n",
      "en:contains-less-than-2-of-citric-acid: 104\n",
      "en:vegetable-flavouring: 104\n",
      "en:e528: 104\n",
      "en:e902: 104\n",
      "en:fried-in-vegetable-oil: 104\n",
      "en:orange-blossom-water: 104\n",
      "en:burnt-sugar: 104\n",
      "en:medium-fat-soft-cheese: 104\n",
      "en:elderberry-juice-from-concentrate: 104\n",
      "en:other-tree-nuts: 104\n",
      "en:grey-pepper: 104\n",
      "en:262: 104\n",
      "en:solsikkelecitin: 104\n",
      "en:contains-five-live-active-cultures-including-streptococcus-thermophilus: 105\n",
      "en:fd-c-blue-1-lake: 105\n",
      "en:green-coffee-bean-extract: 105\n",
      "en:to-prevent-sticking: 105\n",
      "en:fer: 105\n",
      "en:cytidine-monophosphate: 105\n",
      "en:non-gmo-popcorn: 105\n",
      "en:boneless-skinless-chicken-breast: 105\n",
      "en:green-tomato: 105\n",
      "en:e350i: 105\n",
      "en:live-active-yogurt-cultures: 105\n",
      "en:electrolyte: 105\n",
      "en:rhubarb-juice: 105\n",
      "en:wood-ear: 105\n",
      "en:senf: 105\n",
      "en:rehydrated-wheat-protein: 105\n",
      "en:sitronsaft: 105\n",
      "en:havregryn: 105\n",
      "en:enzymer: 105\n",
      "en:as-menaquinone-7: 105\n",
      "en:fortified-british-wheat-flour: 106\n",
      "en:peanut-butter-cups: 106\n",
      "en:corn-tortilla: 106\n",
      "en:poblano-peppers: 106\n",
      "en:collagen-casing: 106\n",
      "en:322-from-soy: 106\n"
     ]
    }
   ],
   "source": [
    "# print the first 100 items in new_ingredients\n",
    "count = 0\n",
    "for key, value in new_ingredients.items():\n",
    "    print(f\"{key}: {value}\")\n",
    "    count += 1\n",
    "    if count >= 100:\n",
    "        break"
   ]
  },
  {
   "cell_type": "code",
   "execution_count": null,
   "id": "63d0350d",
   "metadata": {},
   "outputs": [],
   "source": []
  }
 ],
 "metadata": {
  "kernelspec": {
   "display_name": "venv",
   "language": "python",
   "name": "python3"
  },
  "language_info": {
   "codemirror_mode": {
    "name": "ipython",
    "version": 3
   },
   "file_extension": ".py",
   "mimetype": "text/x-python",
   "name": "python",
   "nbconvert_exporter": "python",
   "pygments_lexer": "ipython3",
   "version": "3.13.6"
  }
 },
 "nbformat": 4,
 "nbformat_minor": 5
}
